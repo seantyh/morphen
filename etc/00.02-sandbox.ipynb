{
 "cells": [
  {
   "cell_type": "code",
   "execution_count": 1,
   "id": "9badea02-ff81-48a8-a6a0-4e0794f568f4",
   "metadata": {},
   "outputs": [],
   "source": [
    "from sklearn.manifold import TSNE, Isomap\n",
    "from gensim.models import KeyedVectors\n",
    "import numpy as np"
   ]
  },
  {
   "cell_type": "markdown",
   "id": "ae3f6a36-cccf-4799-82de-ad92392bd194",
   "metadata": {},
   "source": [
    "## Data dependencies"
   ]
  },
  {
   "cell_type": "markdown",
   "id": "26b2a6ac-444c-4636-bed0-42225b750dd1",
   "metadata": {},
   "source": [
    "```\n",
    "../data/tencent_d200_500k.bin 53f5b4\n",
    "```"
   ]
  },
  {
   "cell_type": "code",
   "execution_count": 2,
   "id": "591ef984-03c5-49fd-b2d1-b9f6d3775f07",
   "metadata": {},
   "outputs": [
    {
     "name": "stdout",
     "output_type": "stream",
     "text": [
      "../data/tencent_d200_500k.bin 53f5b4\n"
     ]
    }
   ],
   "source": [
    "from hashlib import sha1\n",
    "from pathlib import Path\n",
    "paths = [\"../data/tencent_d200_500k.bin\"]\n",
    "for path_x in paths:\n",
    "    h = sha1()\n",
    "    h.update(Path(path_x).read_bytes())\n",
    "    print(path_x, h.hexdigest()[:6])"
   ]
  },
  {
   "cell_type": "code",
   "execution_count": 3,
   "id": "1961944f-8415-4a07-851e-4830dd0c5bf2",
   "metadata": {},
   "outputs": [],
   "source": [
    "kv = KeyedVectors.load_word2vec_format(\"../data/tencent_d200_500k.bin\", binary=True)"
   ]
  },
  {
   "cell_type": "code",
   "execution_count": 4,
   "id": "b6e29d77-d81f-451f-bc18-4a9ed4f5d96d",
   "metadata": {},
   "outputs": [
    {
     "data": {
      "text/plain": [
       "(500000, 200)"
      ]
     },
     "execution_count": 4,
     "metadata": {},
     "output_type": "execute_result"
    }
   ],
   "source": [
    "kv.vectors.shape"
   ]
  },
  {
   "cell_type": "code",
   "execution_count": 34,
   "id": "767c3124-0026-43a8-b9c5-7fcedc4c0cd9",
   "metadata": {},
   "outputs": [],
   "source": [
    "neighs = [x[0] for x in kv.most_similar(\"人\", topn=19)]"
   ]
  },
  {
   "cell_type": "code",
   "execution_count": 36,
   "id": "1596cd72-4a83-49f9-b413-50a20d525819",
   "metadata": {},
   "outputs": [],
   "source": [
    "neigh_vecs = [kv.get_vector(x, norm=True) for x in neighs]\n",
    "neigh_vecs = np.vstack(neigh_vecs + [kv.get_vector(\"人\", norm=True)])\n"
   ]
  },
  {
   "cell_type": "code",
   "execution_count": 37,
   "id": "21f72faa-331d-4eb1-a65a-5232206ce522",
   "metadata": {},
   "outputs": [
    {
     "data": {
      "text/plain": [
       "(20, 200)"
      ]
     },
     "execution_count": 37,
     "metadata": {},
     "output_type": "execute_result"
    }
   ],
   "source": [
    "neigh_vecs.shape"
   ]
  },
  {
   "cell_type": "code",
   "execution_count": null,
   "id": "8d4676c4-206c-4c6e-88bf-55151b789a37",
   "metadata": {},
   "outputs": [],
   "source": [
    "from scipy import \n",
    "neigh_vecs"
   ]
  },
  {
   "cell_type": "code",
   "execution_count": 41,
   "id": "572df095-3030-4942-b406-083f230802a0",
   "metadata": {},
   "outputs": [],
   "source": [
    "from tqdm.auto import tqdm"
   ]
  },
  {
   "cell_type": "code",
   "execution_count": 43,
   "id": "ee939425-56a6-4cb3-b77e-721ca18c8c4d",
   "metadata": {},
   "outputs": [],
   "source": [
    "n_vocab = len(kv.index_to_key)"
   ]
  },
  {
   "cell_type": "code",
   "execution_count": 51,
   "id": "382d7bd1-a718-4827-aa0e-0d651ada272a",
   "metadata": {},
   "outputs": [
    {
     "data": {
      "application/vnd.jupyter.widget-view+json": {
       "model_id": "b9a14e9696b34c63ab7dbc395e77fab6",
       "version_major": 2,
       "version_minor": 0
      },
      "text/plain": [
       "  0%|          | 0/500000 [00:00<?, ?it/s]"
      ]
     },
     "metadata": {},
     "output_type": "display_data"
    }
   ],
   "source": [
    "n_neigh = {}\n",
    "import random\n",
    "for _, w in tqdm(enumerate(kv.index_to_key), total=n_vocab):    \n",
    "    if random.random() < 0.97: continue\n",
    "    neighs = kv.most_similar(w, topn=100)\n",
    "    n_neigh[w] = sum(1 for x in neighs if x[1]>0.8)"
   ]
  },
  {
   "cell_type": "code",
   "execution_count": 52,
   "id": "7aeb04b7-26b5-4948-878a-a329039c2de9",
   "metadata": {},
   "outputs": [
    {
     "data": {
      "text/plain": [
       "(array([11717.,  1213.,   474.,   274.,   185.,   128.,    94.,    66.,\n",
       "           72.,   763.]),\n",
       " array([  0.,  10.,  20.,  30.,  40.,  50.,  60.,  70.,  80.,  90., 100.]),\n",
       " <BarContainer object of 10 artists>)"
      ]
     },
     "execution_count": 52,
     "metadata": {},
     "output_type": "execute_result"
    },
    {
     "data": {
      "image/png": "[encoded data removed]",
      "text/plain": [
       "<Figure size 432x288 with 1 Axes>"
      ]
     },
     "metadata": {
      "needs_background": "light"
     },
     "output_type": "display_data"
    }
   ],
   "source": [
    "import matplotlib.pyplot as plt\n",
    "plt.hist(n_neigh.values())"
   ]
  },
  {
   "cell_type": "code",
   "execution_count": null,
   "id": "cb2d68ff-6f12-445c-9792-e3145b3009b3",
   "metadata": {},
   "outputs": [],
   "source": []
  }
 ],
 "metadata": {
  "kernelspec": {
   "display_name": "Python 3 (ipykernel)",
   "language": "python",
   "name": "python3"
  },
  "language_info": {
   "codemirror_mode": {
    "name": "ipython",
    "version": 3
   },
   "file_extension": ".py",
   "mimetype": "text/x-python",
   "name": "python",
   "nbconvert_exporter": "python",
   "pygments_lexer": "ipython3",
   "version": "3.10.2"
  }
 },
 "nbformat": 4,
 "nbformat_minor": 5
}
