{
 "cells": [
  {
   "cell_type": "code",
   "execution_count": 1,
   "id": "4437ac3e-5564-4046-ace9-c3b78c5fe7d2",
   "metadata": {},
   "outputs": [],
   "source": [
    "from sklearn.manifold import Isomap\n",
    "from sklearn.datasets import make_s_curve\n",
    "from gensim.models import KeyedVectors\n",
    "import gzip\n",
    "import tarfile\n",
    "from tqdm.auto import tqdm"
   ]
  },
  {
   "cell_type": "markdown",
   "id": "1790d59b-d39b-4596-96c7-63939280c127",
   "metadata": {},
   "source": [
    "## Extract first 500K words in tencent-d200-2M embeddings"
   ]
  },
  {
   "cell_type": "code",
   "execution_count": 2,
   "id": "2f28a9f9-106f-4bd5-8204-ab8939380129",
   "metadata": {},
   "outputs": [
    {
     "data": {
      "application/vnd.jupyter.widget-view+json": {
       "model_id": "5ba14b01aa22431dad6bfb561ce6d8a1",
       "version_major": 2,
       "version_minor": 0
      },
      "text/plain": [
       "  0%|          | 0/500000 [00:00<?, ?it/s]"
      ]
     },
     "metadata": {},
     "output_type": "display_data"
    }
   ],
   "source": [
    "gzf = gzip.open(\"../data/tencent-ailab-embedding-zh-d200-v0.2.0-s.tar.gz\", \"rb\")\n",
    "tarf = tarfile.open(fileobj=gzf)\n",
    "tarinfo = tarf.getmember('tencent-ailab-embedding-zh-d200-v0.2.0-s/tencent-ailab-embedding-zh-d200-v0.2.0-s.txt')\n",
    "embf = tarf.extractfile(tarinfo)\n",
    "nvocab, ndim = [int(x) for x in \n",
    "                embf.readline().decode().strip().split()]\n",
    "ln = embf.readline().decode().strip()\n",
    "emb_vecs = []\n",
    "vocabs = []\n",
    "\n",
    "pbar = tqdm(total=500_000)\n",
    "while ln:\n",
    "    pbar.update(1)\n",
    "    toks = ln.split()    \n",
    "    tok0 = toks[0]\n",
    "        \n",
    "    vec = [float(x) for x in toks[1:]]\n",
    "    vocabs.append(tok0)\n",
    "    emb_vecs.append(vec)        \n",
    "    \n",
    "    if len(emb_vecs)>500_000:\n",
    "        break\n",
    "    ln = embf.readline().decode().strip()\n",
    "    \n",
    "pbar.close()"
   ]
  },
  {
   "cell_type": "code",
   "execution_count": 3,
   "id": "0ea4de66-b557-4296-b8e4-cc0e74d3db3a",
   "metadata": {},
   "outputs": [],
   "source": [
    "kv = KeyedVectors(200)\n",
    "kv.add_vectors(vocabs, emb_vecs)"
   ]
  },
  {
   "cell_type": "code",
   "execution_count": 4,
   "id": "766226f0-d9f1-4733-93c8-b93eb23ee148",
   "metadata": {},
   "outputs": [],
   "source": [
    "kv.save_word2vec_format(\"../data/tencent_d200_500k.bin\", binary=True)"
   ]
  },
  {
   "cell_type": "markdown",
   "id": "ac531b16-c391-460e-b95b-0c07c93ae6d7",
   "metadata": {},
   "source": [
    "## Output Hash\n",
    "```\n",
    "../data/tencent_d200_500k.bin\ta20a8c\n",
    "```"
   ]
  },
  {
   "cell_type": "code",
   "execution_count": 5,
   "id": "1e53a791-2925-46c4-ae71-0f6d99554f9d",
   "metadata": {},
   "outputs": [
    {
     "name": "stdout",
     "output_type": "stream",
     "text": [
      "../data/tencent_d200_500k.bin\ta20a8c\n"
     ]
    }
   ],
   "source": [
    "from hashlib import sha1\n",
    "from pathlib import Path\n",
    "h = sha1()\n",
    "h.update(Path(\"../data/tencent_d200_500k.bin\").read_bytes())\n",
    "print(\"../data/tencent_d200_500k.bin\", h.hexdigest()[:6], sep=\"\\t\")"
   ]
  },
  {
   "cell_type": "code",
   "execution_count": null,
   "id": "a2bad9e9-93f9-43df-96e6-24c8cd54e5cf",
   "metadata": {},
   "outputs": [],
   "source": []
  }
 ],
 "metadata": {
  "kernelspec": {
   "display_name": "Python 3 (ipykernel)",
   "language": "python",
   "name": "python3"
  },
  "language_info": {
   "codemirror_mode": {
    "name": "ipython",
    "version": 3
   },
   "file_extension": ".py",
   "mimetype": "text/x-python",
   "name": "python",
   "nbconvert_exporter": "python",
   "pygments_lexer": "ipython3",
   "version": "3.10.2"
  }
 },
 "nbformat": 4,
 "nbformat_minor": 5
}
