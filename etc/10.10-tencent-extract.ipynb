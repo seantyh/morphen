{
 "cells": [
  {
   "cell_type": "code",
   "execution_count": 1,
   "id": "53dd200b-655e-46b2-b817-900a8f8a8506",
   "metadata": {},
   "outputs": [],
   "source": [
    "import sys\n",
    "if \"../src\" not in sys.path:\n",
    "    sys.path.append(\"../src\")"
   ]
  },
  {
   "cell_type": "code",
   "execution_count": 2,
   "id": "0772db36-477f-4d95-bc70-966b38e55e65",
   "metadata": {},
   "outputs": [],
   "source": [
    "import tarfile\n",
    "import gzip\n",
    "\n",
    "from tqdm.auto import tqdm\n",
    "from itertools import islice\n",
    "from datetime import datetime\n",
    "import textwrap\n",
    "\n",
    "import numpy as np\n",
    "import pandas as pd\n",
    "from gensim.models import KeyedVectors\n",
    "output_paths = []"
   ]
  },
  {
   "cell_type": "markdown",
   "id": "8812a665-1e0c-4a04-b6ad-051f9afd9d8f",
   "metadata": {},
   "source": [
    "## Data Dependencies"
   ]
  },
  {
   "cell_type": "markdown",
   "id": "de121f48-48b9-4836-8519-95869702f88d",
   "metadata": {},
   "source": [
    "```\n",
    "../data/di-morphosyntax.csv 0f1c87 (LF)\n",
    "```"
   ]
  },
  {
   "cell_type": "code",
   "execution_count": 3,
   "id": "45384d53-a4bb-4c6d-8f04-6c2230612d02",
   "metadata": {},
   "outputs": [
    {
     "name": "stdout",
     "output_type": "stream",
     "text": [
      "../data/di-morphosyntax.csv 0f1c87\n"
     ]
    }
   ],
   "source": [
    "from hashlib import sha1\n",
    "from pathlib import Path\n",
    "paths = [\"../data/di-morphosyntax.csv\"]\n",
    "for path_x in paths:\n",
    "    h = sha1()\n",
    "    h.update(Path(path_x).read_bytes())\n",
    "    print(path_x, h.hexdigest()[:6])"
   ]
  },
  {
   "cell_type": "markdown",
   "id": "6c94539e-c128-4a87-b19e-94fe311f60e9",
   "metadata": {},
   "source": [
    "## Load dependencies"
   ]
  },
  {
   "cell_type": "code",
   "execution_count": 4,
   "id": "88b4c610-0b7c-4bfe-9490-483d45971fcf",
   "metadata": {},
   "outputs": [
    {
     "name": "stdout",
     "output_type": "stream",
     "text": [
      "(1676, 8)\n"
     ]
    },
    {
     "data": {
      "text/html": [
       "<div>\n",
       "<style scoped>\n",
       "    .dataframe tbody tr th:only-of-type {\n",
       "        vertical-align: middle;\n",
       "    }\n",
       "\n",
       "    .dataframe tbody tr th {\n",
       "        vertical-align: top;\n",
       "    }\n",
       "\n",
       "    .dataframe thead th {\n",
       "        text-align: right;\n",
       "    }\n",
       "</style>\n",
       "<table border=\"1\" class=\"dataframe\">\n",
       "  <thead>\n",
       "    <tr style=\"text-align: right;\">\n",
       "      <th></th>\n",
       "      <th>token</th>\n",
       "      <th>source</th>\n",
       "      <th>ASBC</th>\n",
       "      <th>Apple (2006-2016)</th>\n",
       "      <th>China (2015-2016)</th>\n",
       "      <th>Dcard (2019-2020)</th>\n",
       "      <th>PTT (2004-2019)</th>\n",
       "      <th>MorphoSyntax</th>\n",
       "    </tr>\n",
       "  </thead>\n",
       "  <tbody>\n",
       "    <tr>\n",
       "      <th>4073</th>\n",
       "      <td>丟來</td>\n",
       "      <td>Corpus</td>\n",
       "      <td>1.0</td>\n",
       "      <td>5.0</td>\n",
       "      <td>5.0</td>\n",
       "      <td>1.0</td>\n",
       "      <td>0.0</td>\n",
       "      <td>VR</td>\n",
       "    </tr>\n",
       "    <tr>\n",
       "      <th>4074</th>\n",
       "      <td>丟光</td>\n",
       "      <td>Corpus</td>\n",
       "      <td>2.0</td>\n",
       "      <td>16.0</td>\n",
       "      <td>6.0</td>\n",
       "      <td>1.0</td>\n",
       "      <td>0.0</td>\n",
       "      <td>VR</td>\n",
       "    </tr>\n",
       "    <tr>\n",
       "      <th>4077</th>\n",
       "      <td>丟出</td>\n",
       "      <td>Corpus</td>\n",
       "      <td>9.0</td>\n",
       "      <td>190.0</td>\n",
       "      <td>56.0</td>\n",
       "      <td>16.0</td>\n",
       "      <td>0.0</td>\n",
       "      <td>VR</td>\n",
       "    </tr>\n",
       "    <tr>\n",
       "      <th>4079</th>\n",
       "      <td>丟到</td>\n",
       "      <td>Corpus</td>\n",
       "      <td>53.0</td>\n",
       "      <td>265.0</td>\n",
       "      <td>75.0</td>\n",
       "      <td>48.0</td>\n",
       "      <td>0.0</td>\n",
       "      <td>VR</td>\n",
       "    </tr>\n",
       "    <tr>\n",
       "      <th>4087</th>\n",
       "      <td>丟命</td>\n",
       "      <td>MOE, Corpus</td>\n",
       "      <td>1.0</td>\n",
       "      <td>5.0</td>\n",
       "      <td>2.0</td>\n",
       "      <td>0.0</td>\n",
       "      <td>0.0</td>\n",
       "      <td>VO</td>\n",
       "    </tr>\n",
       "  </tbody>\n",
       "</table>\n",
       "</div>"
      ],
      "text/plain": [
       "     token       source  ASBC  Apple (2006-2016)  China (2015-2016)  \\\n",
       "4073    丟來       Corpus   1.0                5.0                5.0   \n",
       "4074    丟光       Corpus   2.0               16.0                6.0   \n",
       "4077    丟出       Corpus   9.0              190.0               56.0   \n",
       "4079    丟到       Corpus  53.0              265.0               75.0   \n",
       "4087    丟命  MOE, Corpus   1.0                5.0                2.0   \n",
       "\n",
       "      Dcard (2019-2020)  PTT (2004-2019) MorphoSyntax  \n",
       "4073                1.0              0.0           VR  \n",
       "4074                1.0              0.0           VR  \n",
       "4077               16.0              0.0           VR  \n",
       "4079               48.0              0.0           VR  \n",
       "4087                0.0              0.0           VO  "
      ]
     },
     "execution_count": 4,
     "metadata": {},
     "output_type": "execute_result"
    }
   ],
   "source": [
    "data = pd.read_csv(\"../data/di-morphosyntax.csv\", index_col=0)\n",
    "pd.value_counts(data.MorphoSyntax), pd.value_counts(data.MorphoSyntax).sum()\n",
    "mr_data = data.dropna(axis=0, subset=[\"MorphoSyntax\"])\n",
    "print(mr_data.shape)\n",
    "mr_data.head()"
   ]
  },
  {
   "cell_type": "code",
   "execution_count": 5,
   "id": "c1a0613e-0bea-40b0-a8be-7b26f549dcea",
   "metadata": {},
   "outputs": [
    {
     "data": {
      "text/plain": [
       "VR    879\n",
       "AV    340\n",
       "VV    244\n",
       "VO    213\n",
       "Name: MorphoSyntax, dtype: int64"
      ]
     },
     "execution_count": 5,
     "metadata": {},
     "output_type": "execute_result"
    }
   ],
   "source": [
    "mr_data.MorphoSyntax.value_counts()"
   ]
  },
  {
   "cell_type": "code",
   "execution_count": 6,
   "id": "120dabc2-93ab-4d49-9a1f-cbc96befabe7",
   "metadata": {},
   "outputs": [],
   "source": [
    "mr_data_path = \"../data/verb_morpho.csv\"\n",
    "output_paths.append(mr_data_path)\n",
    "mr_data.to_csv(mr_data_path, line_terminator=\"\\n\")"
   ]
  },
  {
   "cell_type": "code",
   "execution_count": 7,
   "id": "6d723486-92b7-40a5-9ea0-e52c2befe5ca",
   "metadata": {},
   "outputs": [
    {
     "name": "stdout",
     "output_type": "stream",
     "text": [
      "nChar, n(bisyll-)Word:  885 1676\n",
      "nVocab:  2561\n"
     ]
    }
   ],
   "source": [
    "from itertools import chain\n",
    "chars = set(list(chain(*mr_data.token)))\n",
    "words = mr_data.token.tolist() + list(chars)\n",
    "print(\"nChar, n(bisyll-)Word: \", len(chars), len(mr_data.token))\n",
    "print(\"nVocab: \", len(words))"
   ]
  },
  {
   "cell_type": "code",
   "execution_count": 8,
   "id": "ee118aed-dc35-4349-823b-419487c460ec",
   "metadata": {},
   "outputs": [
    {
     "data": {
      "application/vnd.jupyter.widget-view+json": {
       "model_id": "91ac2d34364544dbba21225a23144aef",
       "version_major": 2,
       "version_minor": 0
      },
      "text/plain": [
       "  0%|          | 0/2000000 [00:00<?, ?it/s]"
      ]
     },
     "metadata": {},
     "output_type": "display_data"
    }
   ],
   "source": [
    "gzf = gzip.open(\"../data/tencent-ailab-embedding-zh-d200-v0.2.0-s.tar.gz\", \"rb\")\n",
    "tarf = tarfile.open(fileobj=gzf)\n",
    "\n",
    "word_set = set(words)\n",
    "tarinfo = tarf.getmember('tencent-ailab-embedding-zh-d200-v0.2.0-s/tencent-ailab-embedding-zh-d200-v0.2.0-s.txt')\n",
    "embf = tarf.extractfile(tarinfo)\n",
    "nvocab, ndim = [int(x) for x in \n",
    "                embf.readline().decode().strip().split()]\n",
    "ln = embf.readline().decode().strip()\n",
    "emb_vecs = []\n",
    "vocabs = []\n",
    "\n",
    "pbar = tqdm(total=nvocab)\n",
    "while ln:\n",
    "    pbar.update(1)\n",
    "    toks = ln.split()    \n",
    "    tok0 = toks[0]\n",
    "    \n",
    "    if tok0 in word_set:\n",
    "        vec = [float(x) for x in toks[1:]]\n",
    "        vocabs.append(tok0)\n",
    "        emb_vecs.append(vec)\n",
    "    ln = embf.readline().decode().strip()\n",
    "pbar.close()"
   ]
  },
  {
   "cell_type": "code",
   "execution_count": 9,
   "id": "53ca0ca3-f2de-4c28-b0ed-1400d51fb854",
   "metadata": {},
   "outputs": [],
   "source": [
    "kv = KeyedVectors(ndim)"
   ]
  },
  {
   "cell_type": "code",
   "execution_count": 10,
   "id": "9e35013b-5d50-4749-93a1-ab4e23e73039",
   "metadata": {},
   "outputs": [],
   "source": [
    "kv.add_vectors(vocabs, emb_vecs)"
   ]
  },
  {
   "cell_type": "code",
   "execution_count": 11,
   "id": "3194fbbd-5eda-4316-b6aa-9a1463989ff2",
   "metadata": {},
   "outputs": [
    {
     "data": {
      "text/plain": [
       "[('回', 0.562965452671051),\n",
       " ('近', 0.5430368185043335),\n",
       " ('租', 0.5377331376075745),\n",
       " ('搬去', 0.5235447287559509),\n",
       " ('破', 0.5212136507034302),\n",
       " ('定', 0.5209269523620605),\n",
       " ('起', 0.520687460899353),\n",
       " ('呆', 0.5123663544654846),\n",
       " ('到', 0.5034065842628479),\n",
       " ('去', 0.5023194551467896)]"
      ]
     },
     "execution_count": 11,
     "metadata": {},
     "output_type": "execute_result"
    }
   ],
   "source": [
    "kv.most_similar(\"住\")"
   ]
  },
  {
   "cell_type": "code",
   "execution_count": 12,
   "id": "68070cd8-25b5-4646-bce9-d985df96bce5",
   "metadata": {},
   "outputs": [
    {
     "data": {
      "text/plain": [
       "[('淌下', 0.7242736220359802),\n",
       " ('淌出', 0.7215964198112488),\n",
       " ('映成', 0.6647475361824036),\n",
       " ('激射', 0.6409773230552673),\n",
       " ('映照', 0.6285261511802673),\n",
       " ('迸', 0.6251155138015747),\n",
       " ('仰起', 0.6060652732849121),\n",
       " ('充盈', 0.5890071392059326),\n",
       " ('吞吐', 0.5870674848556519),\n",
       " ('逼出', 0.5773579478263855)]"
      ]
     },
     "execution_count": 12,
     "metadata": {},
     "output_type": "execute_result"
    }
   ],
   "source": [
    "kv.most_similar(\"泛出\")"
   ]
  },
  {
   "cell_type": "code",
   "execution_count": 13,
   "id": "f00416be-5ba7-43a0-a136-ca6d72204a54",
   "metadata": {},
   "outputs": [],
   "source": [
    "emb_paths = \"../data/verb_morpho_emb.txt\"\n",
    "kv.save_word2vec_format(emb_paths)\n",
    "output_paths.append(emb_paths)"
   ]
  },
  {
   "cell_type": "markdown",
   "id": "505fc35b-f99f-4d45-af18-b7270da414d5",
   "metadata": {},
   "source": [
    "## Words found in Tencent"
   ]
  },
  {
   "cell_type": "code",
   "execution_count": 14,
   "id": "ae9e13b3-148e-4975-b744-a23d0d5ec61e",
   "metadata": {},
   "outputs": [
    {
     "name": "stdout",
     "output_type": "stream",
     "text": [
      "Not found:  1384\n",
      "一 上 下 世 丟 並 中 久 乎 乘 乾 亂 了 予 事 亡 交 亮 人 付 令 以 仰 伏 伙 估 伸 伺 佇 佈\n",
      "位 低 住 佔 作 使 來 依 侵 便 修 俯 俱 倒 借 做 停 偵 偶 備 催 傳 債 傷 傻 僱 價 僻 儲 充\n",
      "光 克 兒 入 全 共 兵 具 兼 冶 凍 凶 出 函 分 刊 划 列 別 刪 到 制 刷 刻 剖 剪 割 創 劃 劈\n",
      "加 勒 動 勝 勳 勻 包 化 匯 升 卡 危 厭 厲 去 參 及 取 受 口 叨 叩 叫 史 合 吊 同 吐 向 吞\n",
      "呆 呈 味 命 和 咬 哄 哭 售 唯 問 啞 善 喊 喘 喙 喳 嘆 嚐 嚴 嚼 回 囤 固 國 圓 土 坐 垂 垮\n",
      "埋 堅 報 場 堵 塌 塑 塞 填 墜 增 墾 壓 壞 壯 多 夠 大 天 失 夾 奉 奏 奔 奮 好 妄 妥 婷 嫁\n",
      "嬰 孕 存 守 完 定 害 容 寂 寐 寒 察 寡 實 審 寫 封 射 尊 尋 對 尚 就 居 屈 屋 展 山 岔 岸\n",
      "峙 崖 崩 巡 師 帶 平 幾 廠 建 弄 弓 引 弛 張 彌 往 得 徙 從 心 志 忙 念 忽 怖 思 急 性 怨\n",
      "怯 恃 恥 恨 息 悉 悔 悚 悠 惡 想 愛 慢 慣 慰 慾 憑 憤 憨 懂 懷 成 戒 截 戴 扁 扎 打 托 扛\n",
      "扳 找 抄 抉 抓 抗 折 披 抱 抵 抹 押 拋 拍 拐 拓 拗 拙 招 拜 拳 拷 挖 挪 挫 挽 挾 捅 捆 捕\n",
      "捱 捲 掀 掃 授 掉 掏 掘 掛 掠 採 探 接 控 掩 換 揮 援 揹 損 搜 搞 搬 搭 摔 摩 摹 撒 撞 撥\n",
      "撫 播 撰 撲 撼 撿 擇 擊 操 擠 擦 擲 擴 擾 攝 攢 攪 收 攻 放 救 敘 教 散 敲 敵 斃 文 斜 斥\n",
      "新 斷 於 施 日 早 昂 明 昏 映 晉 普 曬 曳 會 有 服 朗 望 未 本 枝 架 染 柔 查 栓 校 核 根\n",
      "格 栽 桿 梭 梳 棄 棒 棲 植 楞 榨 樹 機 檄 檔 檢 櫃 權 欣 款 歇 歛 歡 止 正 步 歸 死 殷 毀\n",
      "比 民 氣 水 求 決 沈 沉 沒 沖 治 沿 泊 法 泛 泡 泣 泥 洋 洌 洒 洗 洩 活 派 流 涉 液 涼 淌\n",
      "淘 淚 淡 淪 深 混 添 清 減 測 湧 準 溜 溯 溶 滅 滲 滴 滾 滿 漏 演 漱 漲 潤 澹 激 濟 濾 瀉\n",
      "灑 火 灰 灼 為 烈 烘 烤 無 然 煉 煞 照 煩 煮 熏 熔 熟 熬 熱 燒 燕 燙 燦 爆 爛 爭 片 版 牙\n",
      "牢 牧 犯 獄 獲 獵 班 現 球 理 瑩 甘 生 產 用 甩 界 留 畢 當 疊 疲 疹 疾 痛 瘋 癡 發 白 皺\n",
      "盈 盜 盡 盪 目 直 相 盼 看 眾 瞄 瞎 瞻 知 短 砌 研 破 砸 硬 碎 碩 確 磋 磕 磨 礙 示 祟 票\n",
      "禿 秀 租 移 種 稱 積 穢 穩 空 穿 窮 立 竣 競 笑 筆 等 策 算 管 築 篩 籌 精 糊 糖 約 紅 納\n",
      "紛 索 累 結 絞 絡 給 經 綠 綻 緊 緣 編 緬 練 縫 織 繞 繡 繫 繳 繼 纏 纓 罪 置 罵 罷 羅 美\n",
      "義 翅 翻 老 耳 聊 聘 聚 聞 聳 聽 肅 股 肩 脹 腔 腦 腫 腳 膺 臨 自 至 致 與 舉 舊 舐 舖 船\n",
      "花 苦 茂 荒 莊 落 著 葬 蒙 蓄 蓋 蔭 薪 藍 藏 蘊 虐 處 蛀 蝕 蝦 融 血 行 衍 裂 裝 製 襯 要\n",
      "覆 見 視 覺 覽 觀 解 言 訂 討 設 訴 詐 詞 詢 詮 話 認 誘 語 誣 誦 調 談 請 諫 諸 證 識 警\n",
      "譯 讀 變 讓 讚 豎 象 負 財 貢 貨 買 貼 資 賞 賠 賣 賺 購 贏 贓 走 起 趕 趨 足 跌 跟 踏 踢\n",
      "踱 蹬 蹲 躁 躍 身 車 軋 軌 輸 轉 辦 辨 辭 辯 辱 迎 近 返 迫 迭 迷 迸 追 退 送 逃 透 通 逝\n",
      "速 造 連 進 逼 運 遍 過 道 遠 適 遮 遷 選 遽 避 邀 邈 邪 鄉 酌 酒 酵 醉 醒 釀 釋 重 量 金\n",
      "銷 鋤 鋪 錄 錢 錯 鍵 鎖 鑲 長 閃 開 閑 閒 閤 閱 關 阻 附 降 陞 陡 除 陳 陷 隊 雅 集 離 雨\n",
      "零 電 震 靜 靠 靡 響 頂 順 頒 領 頭 頹 顛 顧 飄 飛 食 飲 飽 養 餐 餓 香 馳 駕 驗 驚 驟 體\n",
      "高 鳴 鴨 黃 黏 黑 鼻 齊 並列 並稱 交下 交予 交回 交棒 交款 交迭 仰攻 仰翻 仰起 估定 伸下 伸到 伸向\n",
      "佈置 侵佔 侵害 侵犯 侵蝕 修下 修修 修出 修史 修完 修志 修成 修法 修短 修砌 俯察 俯望 俱存 俱生 停入\n",
      "停好 停招 停掉 停播 停收 停服 停格 停步 偵查 催交 催催 催收 催迫 充做 充入 充抵 充盈 具象 兼作 兼做\n",
      "兼收 兼教 兼治 兼用 刷上 刷卡 刷完 剖分 剖明 剪好 剪完 剪得 剪接 剪片 剪起 割下 割出 割完 割掉 劈中\n",
      "劈到 劈成 劈死 劈空 劈落 去邪 受付 受死 叨念 叫回 叫成 叫道 吞入 吞吐 吞回 吞天 呆立 哄然 哄笑 售光\n",
      "售完 售票 唯一 唯心 喊回 喊道 嚼嚼 嚼食 埋入 埋到 埋好 埋掉 埋置 堵上 堵塞 堵截 堵死 填填 填好 填膺\n",
      "填高 容得 容有 寂照 審美 屈尊 屈屈 屈辱 忙完 忙於 悔罪 悠雅 想好 想定 想岔 想成 想破 憨傻 憨憨 扎住\n",
      "扎好 打低 打分 打去 打向 打回 打好 打打 打昏 打水 打火 打球 打砸 打穿 打酒 托住 托出 托大 托起 扛下\n",
      "扛起 扳本 扳正 扳起 找上 找去 找好 找找 找零 抄到 抄起 抄送 抉擇 抓下 抓回 抓抓 抓著 抓走 折下 折兵\n",
      "折向 折好 折掉 折磨 折起 披戴 披覆 披靡 抱上 抱下 抱入 抱出 抱回 抱拳 抱牢 抱走 抱起 抹好 抹黑 押上\n",
      "押到 拋光 拍下 拍到 拍好 拍完 拍定 拍得 拍掉 拍攝 拍死 拍碎 拜完 拜服 拜金 挖下 挖光 挖到 挖去 挖好\n",
      "挖掘 挖深 挖通 挽挽 捅破 捆成 捆打 掀去 授出 授封 授權 掉光 掉出 掉到 掠食 接位 接入 接出 接去 接取\n",
      "接口 接活 接演 接界 接腔 控管 控速 換乘 搜到 搜尋 搜索 搜走 搜遍 搜集 搞上 搞倒 搞出 搞到 搞好 搞定\n",
      "搞懂 搞混 搞清 搞笑 搞通 搬下 搬去 搬取 搬空 搬至 搬起 搭伙 搭售 搭架 搭檔 搭船 摔入 摔出 摔到 摔痛\n",
      "摔落 撒播 撞去 撞掉 撞碎 撞裂 撥款 撰有 操做 操弄 操死 擦上 擦完 擴充 擴大 擴展 擴建 擴張 擴散 敲入\n",
      "敲成 敲昏 敲死 敲醒 施令 施作 昏死 映成 映照 晉升 普施 普選 服完 服老 朗朗 朗然 未了 架出 架好 架接\n",
      "架高 染回 染好 染白 染著 染黑 查完 查探 查查 查知 栽下 栽入 梭巡 梳洗 梳理 檢察 檢控 欣欣 欣然 止歇\n",
      "殷殷 決策 沖擊 沖泡 沖洗 沿用 泛出 泛用 派去 派往 派生 派送 淌下 淌出 淌水 混上 混出 混和 混完 混得\n",
      "混混 混生 混血 溯流 滲透 滴入 滴到 漏下 漏液 漏空 激增 激射 激發 烘托 烘烤 煮上 煮出 煮好 煮破 熏出\n",
      "熏死 熬完 熬成 爆增 爆好 爆掉 爆烈 爆香 甘洌 甘淡 甩出 甩到 疊加 疾奔 發文 發泡 瞄到 研修 確定 移交\n",
      "移回 移建 移往 移徙 移植 移民 移用 移目 移葬 移行 移走 移轉 移近 競價 競速 等死 算到 篩選 紛爭 索要\n",
      "綻放 緣起 置入 置換 置於 翻上 翻刻 翻回 翻完 翻山 翻找 翻拍 翻掉 翻沉 翻版 翻白 翻看 翻翻 翻譯 翻遍\n",
      "聊到 荒置 著作 著身 蛀牙 衍伸 衍化 設定 設立 設置 認定 誘拐 跟到 跟去 跟好 踱出 蹬上 蹲久 蹲伏 輸出\n",
      "輸送 辨別 辨認 辨識 追凶 追出 追去 追及 追平 追拍 追摹 追根 追近 送予 送入 送到 送呈 送展 送抵 送迎\n",
      "送返 逃入 逃兵 逃到 逼入 逼出 逼到 逼和 逼回 逼害 逼急 逼近 逼迫 逼退 遮下 遮掉 遮雨 避走 避震 醒醒\n",
      "關連 關鍵 阻住 阻攻 陡升 陡增 陡降 除下 除罪 餓死 驚悚\n"
     ]
    }
   ],
   "source": [
    "word_list = vocabs\n",
    "word_list = sorted(word_list, key=lambda x: (len(x),x))\n",
    "print(\"Not found: \", len(word_list))\n",
    "print(*textwrap.wrap(\" \".join(word_list), 60), sep=\"\\n\")"
   ]
  },
  {
   "cell_type": "markdown",
   "id": "19c2ad36-e0ce-4a2e-a084-70803a971c96",
   "metadata": {},
   "source": [
    "## Words cannot be found in tencent"
   ]
  },
  {
   "cell_type": "code",
   "execution_count": 15,
   "id": "4e960b4d-d5ee-4006-b8a5-bd55e266e89a",
   "metadata": {},
   "outputs": [
    {
     "name": "stdout",
     "output_type": "stream",
     "text": [
      "Found:  1177\n",
      "攙 癟 訃 躓 輾 醞 隄 丟來 丟光 丟出 丟到 丟命 丟擲 丟盡 丟給 丟荒 並比 並置 並陳 交到 交匯 交屋\n",
      "交援 交溶 交磕 交納 交絡 交纏 交纓 交著 交詮 交踏 交辦 交迸 交逼 交關 交馳 交齊 仰戴 仰觀 伸回 伸引\n",
      "伸進 伸過 佈上 佈建 佈放 佈新 佈有 佈設 侵厲 修來 修到 修滿 修畢 修竣 修編 修茂 修蓋 修觀 俱長 停佇\n",
      "停借 停到 停定 停慢 停棲 停發 停租 停筆 停腳 停開 停附 催動 催繳 催趕 催踢 催迷 僻居 充啞 充為 充脹\n",
      "充食 克奏 具帶 具現 具瞻 兼包 兼愛 兼攻 兼負 兼賣 兼顧 冶性 冶熔 凍上 凍成 凍掉 凍斃 凍紅 凍餓 凍黏\n",
      "刊於 刊有 刊證 刪掉 刪減 剖空 剖陳 剪作 剪貼 割成 割給 劃上 劃下 劃亮 劃傷 劃動 劃為 劃破 劃給 劃過\n",
      "劃銷 劈來 劈去 勒定 勒戒 勻勻 勻婷 勻美 厭勝 厭恨 厭氣 厭身 去國 去寒 去枝 去鄉 受僱 受勳 受報 受完\n",
      "受敵 受有 受灼 受盡 受領 叨回 叫來 叫修 叫入 叫到 叫慣 叫為 叫煩 叫窮 叫貨 叫進 叫響 吞進 呆藏 哄亂\n",
      "哄累 售屋 售給 售與 喊到 喊去 喊為 喘氣 嚐下 嚐出 嚐盡 嚐足 嚼出 嚼動 囤壓 囤積 固接 固著 埋去 埋進\n",
      "埋頭 堅留 堅辭 堅邀 堵回 堵車 填到 填成 填緊 填進 填鋪 填飽 填鴨 墜上 墜崖 壞掉 壞損 壞滅 夾上 夾傷\n",
      "夾出 夾到 夾峙 夾斷 夾有 夾痛 夾織 夾蔭 夾處 夾起 夾進 奉伺 奉成 奉有 奉核 奉納 奉請 孕生 容共 寂止\n",
      "寡佔 寡歡 寡聞 審思 審校 審酌 審量 屈伏 屈守 屈沈 屈體 崩倒 崩飛 帶位 帶傷 帶到 帶大 帶好 帶引 帶怯\n",
      "帶慣 帶成 帶淚 帶滿 帶班 帶累 帶給 帶血 帶行 帶讀 帶起 帶返 帶開 帶隊 帶離 幾經 幾諫 幾近 張口 張喙\n",
      "張弛 張結 張致 張閤 彌平 從便 從眾 忙到 思問 思算 恥於 恥言 悔斷 悔醒 悠到 悠邈 悠鳴 想盡 慣看 慣稱\n",
      "憑依 憑吊 憑添 憑著 憨呆 憨拙 懷有 懷柔 懷藏 扎來 扎完 打上 打封 打直 打紅 托來 托兒 托嬰 托給 找來\n",
      "找對 找沒 找無 找給 找錯 抄下 抄出 抄封 抄有 抓來 抓傷 抓勻 抓權 抓準 抓痛 抓硬 抓穩 抓舉 抓蝦 抓進\n",
      "抓開 抓食 折拗 折換 折現 折轉 披瀉 披蓋 抱來 抱有 抱股 抱至 抱進 抹黃 押倒 押對 押掉 拋入 拋到 拋去\n",
      "拋射 拋給 拋舉 拋荒 拋進 拍動 拍取 拍妥 拍撫 拍滿 拍進 拓入 拓增 拜受 拜經 挖來 挖成 挖採 挖鋤 挖開\n",
      "挫至 挽慰 挾到 挾得 捅去 捆死 捱過 掀走 掀頂 授勳 授獵 授給 掉土 掠好 接成 接機 接檔 接泊 接給 接軌\n",
      "接過 接錯 掩出 掩泣 換下 換作 換到 換去 換回 換場 換好 換得 換掛 換換 換搭 換為 換用 換穿 換給 換股\n",
      "換血 換離 揮下 揮出 揮去 揮桿 揮棒 揮進 揹上 搜齊 搞丟 搞來 搞早 搞禿 搞花 搞苦 搬來 搬進 搭喳 搭慣\n",
      "搭曬 搭築 搭襯 搭設 搭調 搭軋 摔成 摔斷 摔進 摩翅 摩醞 撞來 撞扁 撞斷 撞毀 撞著 撥下 撥予 撥付 撥來\n",
      "撥借 撥入 撥列 撥到 撥去 撥掉 撥接 撥收 撥放 撥散 撥歸 撥為 撥移 撥至 撰作 撲來 撲出 撲去 撲拙 撲進\n",
      "撼奮 撼樹 撿來 撿出 撿去 撿食 擇善 擇用 操成 擠下 擠到 擠回 擠完 擠擠 擠榨 擠死 擠破 擠脹 擠開 擦於\n",
      "擦罷 擦遍 擦過 擴佔 擴分 擴增 擴廠 擴版 擴遷 攙入 攙有 攢下 攢昂 攪散 攪昏 攪混 攪盡 攪翻 敘薪 敘餐\n",
      "敲到 敲叩 敲壞 敲斷 敲桿 敲緊 敲進 斥令 斥以 施出 施動 施於 施測 施灑 施盡 昏寐 昏脹 映演 映現 映見\n",
      "晉入 晉至 晉陞 普建 普濟 普獲 普設 服眾 朗亮 朗敲 朗語 未決 架到 架妥 架有 架造 染到 染滿 染紅 染綠\n",
      "染藍 染製 染黃 查得 查悉 查算 查繳 查讀 查贓 查驗 栓有 栓緊 栽滿 栽生 栽進 梭動 梳成 檢出 檢取 檢詞\n",
      "檢證 欣奮 歛容 歛盡 歛財 殷盼 殷紅 毀去 毀於 決出 決審 決行 決隄 沖上 沖下 沖來 沖入 沖到 沖垮 沖失\n",
      "沖散 沖昏 沖決 沖清 沖煞 沖破 沖落 沖融 沖進 沖鼻 沿傳 沿靠 泛動 泛談 泛酒 泛黃 洒射 洒掃 洒雨 洩下\n",
      "洩慾 洩精 洩除 派來 派充 派報 派接 派援 派有 派為 派用 派請 派驗 涉於 涉有 淘到 淘掏 淘盡 淪於 淪至\n",
      "混勻 混有 混煮 混燒 混進 湧來 湧到 湧動 湧去 湧向 湧往 湧生 湧至 湧退 溯入 溯回 溯往 溯自 溯至 滲下\n",
      "滲到 滲涼 滲穿 滴出 滴進 漏列 漏洩 漏進 潤白 澹淡 澹遠 激使 激出 激奮 激寫 激成 激減 激盪 激躁 灑下\n",
      "為上 為亂 為害 為恃 為本 為濟 為繼 為虐 烘好 煉出 煉好 煉成 煉糖 煮乾 煮熱 煮碎 煮給 熏抹 熏灼 熏繞\n",
      "熬壞 熬慣 熬爛 熬盡 熬練 熬製 燙到 燙好 燙完 燙熟 燙熱 燙瞎 燙糊 燙金 爆熱 爭來 爭偶 爭到 爭回 爭得\n",
      "爭抗 爭用 爭辦 瑩然 瑩瑩 甘落 甩動 甩壓 甩賣 界塑 界於 界臨 當到 當完 當為 當空 疊成 疊放 疊架 疊片\n",
      "疊用 疊砌 疊起 疊齊 癡妄 癡怨 癡等 發乾 發交 發到 發圓 發完 發寒 發心 發憤 發拗 發核 發楞 發灰 發燙\n",
      "發爛 發版 發用 發疹 發發 發直 發示 發紅 發綠 發腫 發蒙 發訃 發足 發車 發黃 皺成 盜向 盜壓 盜拍 盜拷\n",
      "盜掘 盜走 瞄定 瞄見 瞄視 研創 研定 研磋 研礙 研訂 研酌 碩圓 碩實 確悉 移作 移做 移到 移墾 移師 移平\n",
      "移愛 移棲 移離 移駕 穩和 穩坐 穩實 穩操 穩死 競尚 競溜 競秀 競重 算完 算準 算為 算進 築下 築出 築好\n",
      "築有 篩掉 篩檢 篩洗 篩濾 篩除 篩食 籌完 籌得 籌思 籌成 籌資 籌足 約出 約為 紛忙 索債 索回 索結 索討\n",
      "索財 綻出 綻嫁 綻開 緣及 緣著 縫制 縫妥 繡成 繫乎 繫好 繫放 繫有 繫滿 纏上 纏滿 纏絞 纏緊 置散 置有\n",
      "置裝 置諸 置辦 罵作 罵哭 罵完 罵成 罵死 罵盡 罵罵 罵道 罷收 罷相 羅佈 羅致 羅跌 翻到 翻平 翻成 翻捲\n",
      "翻掀 翻掘 翻擾 翻攪 翻演 翻破 翻製 翻覽 翻造 翻進 翻醒 翻錄 翻黑 聊散 聊釋 聊開 聳入 聳出 聳肩 聳起\n",
      "聽好 聽懂 聽成 聽煩 聽熟 聽罷 聽解 聽誦 聽辨 聽進 舐去 舐味 舐咬 舖上 舖出 舖到 舖好 舖展 舖滿 舖衍\n",
      "荒亂 荒掉 荒棄 荒遠 莊肅 著有 著裝 蘊孕 蘊有 蘊蓄 蘊諸 蛀光 蛀出 衍為 衍變 裂漏 裂開 覆岸 覆有 覆查\n",
      "覆滿 覆貼 覆頂 覺了 覺到 覺知 討來 討到 討得 討活 設成 設於 設校 設櫃 設為 設訂 設造 詐得 詐賣 詐醉\n",
      "認事 認價 認列 認栽 認用 誘多 誘空 誘致 誣為 請出 請去 請回 請照 請調 請走 請頒 請領 讓位 讓坐 讚同\n",
      "讚嘆 讚好 讚為 讚道 豎立 豎耳 貢燕 貢高 賞出 賞飲 賠上 賠出 賠掉 賠給 賺上 賺來 賺呆 賺夠 賺死 購備\n",
      "購到 購回 購有 購機 購求 購滿 購足 購閱 購集 購齊 贏來 贏回 贏定 趨動 趨疲 跟會 踱入 踱回 蹬出 蹲到\n",
      "輸儲 輸光 輸往 輸急 輸至 輸通 輸進 輸運 輾去 輾死 輾碎 辨位 辨視 辯完 辯明 辯訴 辯誣 辯識 追丟 追來\n",
      "追全 追划 追成 追撲 追檄 追減 追漲 追種 追緬 追詢 追買 追食 送下 送函 送完 送舊 送警 送進 送錢 送錯\n",
      "逃獄 逃盡 逃進 逃過 逼成 逼瘋 逼繳 遮漱 遮蓋 遽逝 遽降 避到 避惡 避日 避用 避談 避過 避靜 酌予 酌參\n",
      "酌接 醒人 醒發 醒腦 醒轉 釀出 釀好 釀就 釀致 釀酵 鎖入 鎖合 鎖死 鑲上 鑲成 鑲有 鑲滾 閃入 閃到 閃忽\n",
      "閃挪 閃燦 閃躍 閑置 閑話 閑雅 閒適 關到 關嚴 關回 關好 關妥 關捕 關有 關鎖 關顧 除上 除盡 除祟 除穢\n",
      "陳久 陳售 陳報 陳義 陷到 陷泥 響入 響動 響成 順向 順產 順走 頹亂 頹亡 頹動 頹垂 頹塌 頹斜 顛危 顛躓\n",
      "顧好 顧得 飄上 飄下 飄入 飄出 飄到 飄打 飄曳 飄洋 飄移 飄送 飄進 飄過 飄開 養出 養壯 養大 養好 養息\n",
      "養滿 養牧 餓斃 餓昏 餓癟 馳來 馳入 馳出 馳到 馳回 馳往 馳抵 馳掠 馳救 馳求 馳聘 馳聚 馳近 馳進 馳電\n",
      "驚世 驚傳 驚呆 驚問 驚喊 驚定 驚弓 驚怖 驚散 驚為 驚然 驚視 驚走 驟增 驟降\n"
     ]
    }
   ],
   "source": [
    "word_list = list(word_set-set(vocabs))\n",
    "word_list = sorted(word_list, key=lambda x: (len(x),x))\n",
    "print(\"Found: \", len(word_list))\n",
    "print(*textwrap.wrap(\" \".join(word_list), 60), sep=\"\\n\")"
   ]
  },
  {
   "cell_type": "markdown",
   "id": "c521d628-fe8a-471a-ad2a-e45948a886be",
   "metadata": {},
   "source": [
    "## Output Hashes"
   ]
  },
  {
   "cell_type": "markdown",
   "id": "853e9294-684c-48ab-be04-28563fb902ca",
   "metadata": {},
   "source": [
    "```\n",
    "../data/verb_morpho.csv 4ecd72\n",
    "../data/verb_morpho_emb.txt a9a9b8\n",
    "```"
   ]
  },
  {
   "cell_type": "code",
   "execution_count": 16,
   "id": "ddcbf336-f78c-41a0-865b-1bcb617e6e9c",
   "metadata": {},
   "outputs": [
    {
     "name": "stdout",
     "output_type": "stream",
     "text": [
      "../data/verb_morpho.csv 4ecd72\n",
      "../data/verb_morpho_emb.txt a9a9b8\n"
     ]
    }
   ],
   "source": [
    "from hashlib import sha1\n",
    "from pathlib import Path\n",
    "for path_x in output_paths:\n",
    "    h = sha1()\n",
    "    h.update(Path(path_x).read_bytes())\n",
    "    print(path_x, h.hexdigest()[:6])"
   ]
  },
  {
   "cell_type": "code",
   "execution_count": null,
   "id": "1511a3d5-de50-4bfa-a9a1-8285e59ecde0",
   "metadata": {},
   "outputs": [],
   "source": []
  }
 ],
 "metadata": {
  "kernelspec": {
   "display_name": "Python 3 (ipykernel)",
   "language": "python",
   "name": "python3"
  },
  "language_info": {
   "codemirror_mode": {
    "name": "ipython",
    "version": 3
   },
   "file_extension": ".py",
   "mimetype": "text/x-python",
   "name": "python",
   "nbconvert_exporter": "python",
   "pygments_lexer": "ipython3",
   "version": "3.10.2"
  }
 },
 "nbformat": 4,
 "nbformat_minor": 5
}
