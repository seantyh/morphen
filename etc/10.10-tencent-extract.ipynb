{
 "cells": [
  {
   "cell_type": "code",
   "execution_count": 1,
   "id": "53dd200b-655e-46b2-b817-900a8f8a8506",
   "metadata": {},
   "outputs": [],
   "source": [
    "import sys\n",
    "if \"../src\" not in sys.path:\n",
    "    sys.path.append(\"../src\")"
   ]
  },
  {
   "cell_type": "code",
   "execution_count": 2,
   "id": "0772db36-477f-4d95-bc70-966b38e55e65",
   "metadata": {},
   "outputs": [],
   "source": [
    "import tarfile\n",
    "import gzip\n",
    "\n",
    "from tqdm.auto import tqdm\n",
    "from itertools import islice\n",
    "from datetime import datetime\n",
    "import opencc\n",
    "import textwrap\n",
    "\n",
    "import numpy as np\n",
    "import pandas as pd\n",
    "from gensim.models import KeyedVectors\n",
    "output_paths = []"
   ]
  },
  {
   "cell_type": "markdown",
   "id": "8812a665-1e0c-4a04-b6ad-051f9afd9d8f",
   "metadata": {},
   "source": [
    "## Data Dependencies"
   ]
  },
  {
   "cell_type": "markdown",
   "id": "de121f48-48b9-4836-8519-95869702f88d",
   "metadata": {},
   "source": [
    "```\n",
    "../data/di-morphosyntax.csv 0f1c87 (LF)\n",
    "```"
   ]
  },
  {
   "cell_type": "code",
   "execution_count": 3,
   "id": "45384d53-a4bb-4c6d-8f04-6c2230612d02",
   "metadata": {},
   "outputs": [
    {
     "name": "stdout",
     "output_type": "stream",
     "text": [
      "../data/di-morphosyntax.csv 0f1c87\n"
     ]
    }
   ],
   "source": [
    "from hashlib import sha1\n",
    "from pathlib import Path\n",
    "paths = [\"../data/di-morphosyntax.csv\"]\n",
    "for path_x in paths:\n",
    "    h = sha1()\n",
    "    h.update(Path(path_x).read_bytes())\n",
    "    print(path_x, h.hexdigest()[:6])"
   ]
  },
  {
   "cell_type": "markdown",
   "id": "6c94539e-c128-4a87-b19e-94fe311f60e9",
   "metadata": {},
   "source": [
    "## Load dependencies"
   ]
  },
  {
   "cell_type": "code",
   "execution_count": 4,
   "id": "ceac3103-8fc9-4883-a22d-334178fc6565",
   "metadata": {},
   "outputs": [],
   "source": [
    "t2s = opencc.OpenCC(\"t2s\")"
   ]
  },
  {
   "cell_type": "code",
   "execution_count": 5,
   "id": "88b4c610-0b7c-4bfe-9490-483d45971fcf",
   "metadata": {},
   "outputs": [
    {
     "name": "stdout",
     "output_type": "stream",
     "text": [
      "(1676, 9)\n"
     ]
    },
    {
     "data": {
      "text/html": [
       "<div>\n",
       "<style scoped>\n",
       "    .dataframe tbody tr th:only-of-type {\n",
       "        vertical-align: middle;\n",
       "    }\n",
       "\n",
       "    .dataframe tbody tr th {\n",
       "        vertical-align: top;\n",
       "    }\n",
       "\n",
       "    .dataframe thead th {\n",
       "        text-align: right;\n",
       "    }\n",
       "</style>\n",
       "<table border=\"1\" class=\"dataframe\">\n",
       "  <thead>\n",
       "    <tr style=\"text-align: right;\">\n",
       "      <th></th>\n",
       "      <th>token</th>\n",
       "      <th>token_simp</th>\n",
       "      <th>source</th>\n",
       "      <th>ASBC</th>\n",
       "      <th>Apple (2006-2016)</th>\n",
       "      <th>China (2015-2016)</th>\n",
       "      <th>Dcard (2019-2020)</th>\n",
       "      <th>PTT (2004-2019)</th>\n",
       "      <th>MorphoSyntax</th>\n",
       "    </tr>\n",
       "  </thead>\n",
       "  <tbody>\n",
       "    <tr>\n",
       "      <th>4073</th>\n",
       "      <td>丟來</td>\n",
       "      <td>丢来</td>\n",
       "      <td>Corpus</td>\n",
       "      <td>1.0</td>\n",
       "      <td>5.0</td>\n",
       "      <td>5.0</td>\n",
       "      <td>1.0</td>\n",
       "      <td>0.0</td>\n",
       "      <td>VR</td>\n",
       "    </tr>\n",
       "    <tr>\n",
       "      <th>4074</th>\n",
       "      <td>丟光</td>\n",
       "      <td>丢光</td>\n",
       "      <td>Corpus</td>\n",
       "      <td>2.0</td>\n",
       "      <td>16.0</td>\n",
       "      <td>6.0</td>\n",
       "      <td>1.0</td>\n",
       "      <td>0.0</td>\n",
       "      <td>VR</td>\n",
       "    </tr>\n",
       "    <tr>\n",
       "      <th>4077</th>\n",
       "      <td>丟出</td>\n",
       "      <td>丢出</td>\n",
       "      <td>Corpus</td>\n",
       "      <td>9.0</td>\n",
       "      <td>190.0</td>\n",
       "      <td>56.0</td>\n",
       "      <td>16.0</td>\n",
       "      <td>0.0</td>\n",
       "      <td>VR</td>\n",
       "    </tr>\n",
       "    <tr>\n",
       "      <th>4079</th>\n",
       "      <td>丟到</td>\n",
       "      <td>丢到</td>\n",
       "      <td>Corpus</td>\n",
       "      <td>53.0</td>\n",
       "      <td>265.0</td>\n",
       "      <td>75.0</td>\n",
       "      <td>48.0</td>\n",
       "      <td>0.0</td>\n",
       "      <td>VR</td>\n",
       "    </tr>\n",
       "    <tr>\n",
       "      <th>4087</th>\n",
       "      <td>丟命</td>\n",
       "      <td>丢命</td>\n",
       "      <td>MOE, Corpus</td>\n",
       "      <td>1.0</td>\n",
       "      <td>5.0</td>\n",
       "      <td>2.0</td>\n",
       "      <td>0.0</td>\n",
       "      <td>0.0</td>\n",
       "      <td>VO</td>\n",
       "    </tr>\n",
       "  </tbody>\n",
       "</table>\n",
       "</div>"
      ],
      "text/plain": [
       "     token token_simp       source  ASBC  Apple (2006-2016)  \\\n",
       "4073    丟來         丢来       Corpus   1.0                5.0   \n",
       "4074    丟光         丢光       Corpus   2.0               16.0   \n",
       "4077    丟出         丢出       Corpus   9.0              190.0   \n",
       "4079    丟到         丢到       Corpus  53.0              265.0   \n",
       "4087    丟命         丢命  MOE, Corpus   1.0                5.0   \n",
       "\n",
       "      China (2015-2016)  Dcard (2019-2020)  PTT (2004-2019) MorphoSyntax  \n",
       "4073                5.0                1.0              0.0           VR  \n",
       "4074                6.0                1.0              0.0           VR  \n",
       "4077               56.0               16.0              0.0           VR  \n",
       "4079               75.0               48.0              0.0           VR  \n",
       "4087                2.0                0.0              0.0           VO  "
      ]
     },
     "execution_count": 5,
     "metadata": {},
     "output_type": "execute_result"
    }
   ],
   "source": [
    "data = pd.read_csv(\"../data/di-morphosyntax.csv\", index_col=0)\n",
    "pd.value_counts(data.MorphoSyntax), pd.value_counts(data.MorphoSyntax).sum()\n",
    "mr_data = data.dropna(axis=0, subset=[\"MorphoSyntax\"])\n",
    "mr_data = mr_data.assign(token_simp=[t2s.convert(x) for x in mr_data.token])\n",
    "cols = [x for x in mr_data.columns.tolist() \n",
    "        if not x.startswith(\"token\")]\n",
    "cols = [\"token\", \"token_simp\"] + cols\n",
    "mr_data = mr_data[cols]\n",
    "print(mr_data.shape)\n",
    "mr_data.head()"
   ]
  },
  {
   "cell_type": "code",
   "execution_count": 6,
   "id": "c1a0613e-0bea-40b0-a8be-7b26f549dcea",
   "metadata": {},
   "outputs": [
    {
     "data": {
      "text/plain": [
       "VR    879\n",
       "AV    340\n",
       "VV    244\n",
       "VO    213\n",
       "Name: MorphoSyntax, dtype: int64"
      ]
     },
     "execution_count": 6,
     "metadata": {},
     "output_type": "execute_result"
    }
   ],
   "source": [
    "mr_data.MorphoSyntax.value_counts()"
   ]
  },
  {
   "cell_type": "code",
   "execution_count": 7,
   "id": "120dabc2-93ab-4d49-9a1f-cbc96befabe7",
   "metadata": {},
   "outputs": [],
   "source": [
    "mr_data_path = \"../data/verb_morpho.csv\"\n",
    "output_paths.append(mr_data_path)\n",
    "mr_data.to_csv(mr_data_path, line_terminator=\"\\n\")"
   ]
  },
  {
   "cell_type": "code",
   "execution_count": 8,
   "id": "6d723486-92b7-40a5-9ea0-e52c2befe5ca",
   "metadata": {},
   "outputs": [
    {
     "name": "stdout",
     "output_type": "stream",
     "text": [
      "nChar, n(bisyll-)Word:  885 1676\n"
     ]
    }
   ],
   "source": [
    "from itertools import chain\n",
    "chars = set(list(chain(*mr_data.token)))\n",
    "print(\"nChar, n(bisyll-)Word: \", len(chars), len(mr_data.token))"
   ]
  },
  {
   "cell_type": "code",
   "execution_count": 9,
   "id": "ee118aed-dc35-4349-823b-419487c460ec",
   "metadata": {},
   "outputs": [
    {
     "data": {
      "application/vnd.jupyter.widget-view+json": {
       "model_id": "8a8a7e4376084baa8333dcedfe1624c9",
       "version_major": 2,
       "version_minor": 0
      },
      "text/plain": [
       "  0%|          | 0/2000000 [00:00<?, ?it/s]"
      ]
     },
     "metadata": {},
     "output_type": "display_data"
    }
   ],
   "source": [
    "gzf = gzip.open(\"../data/tencent-ailab-embedding-zh-d200-v0.2.0-s.tar.gz\", \"rb\")\n",
    "tarf = tarfile.open(fileobj=gzf)\n",
    "\n",
    "words = mr_data.token.tolist() + mr_data.token_simp.tolist() + list(chars)\n",
    "word_set = set(words)\n",
    "tarinfo = tarf.getmember('tencent-ailab-embedding-zh-d200-v0.2.0-s/tencent-ailab-embedding-zh-d200-v0.2.0-s.txt')\n",
    "embf = tarf.extractfile(tarinfo)\n",
    "nvocab, ndim = [int(x) for x in \n",
    "                embf.readline().decode().strip().split()]\n",
    "ln = embf.readline().decode().strip()\n",
    "emb_vecs = []\n",
    "vocabs = []\n",
    "\n",
    "pbar = tqdm(total=nvocab)\n",
    "while ln:\n",
    "    pbar.update(1)\n",
    "    toks = ln.split()    \n",
    "    tok0 = toks[0]\n",
    "    \n",
    "    if tok0 in word_set:\n",
    "        vec = [float(x) for x in toks[1:]]\n",
    "        vocabs.append(tok0)\n",
    "        emb_vecs.append(vec)\n",
    "    ln = embf.readline().decode().strip()\n",
    "pbar.close()"
   ]
  },
  {
   "cell_type": "code",
   "execution_count": 10,
   "id": "53ca0ca3-f2de-4c28-b0ed-1400d51fb854",
   "metadata": {},
   "outputs": [],
   "source": [
    "kv = KeyedVectors(ndim)"
   ]
  },
  {
   "cell_type": "code",
   "execution_count": 11,
   "id": "9e35013b-5d50-4749-93a1-ab4e23e73039",
   "metadata": {},
   "outputs": [],
   "source": [
    "kv.add_vectors(vocabs, emb_vecs)"
   ]
  },
  {
   "cell_type": "code",
   "execution_count": 12,
   "id": "3194fbbd-5eda-4316-b6aa-9a1463989ff2",
   "metadata": {},
   "outputs": [
    {
     "data": {
      "text/plain": [
       "[('回', 0.562965452671051),\n",
       " ('近', 0.5430368185043335),\n",
       " ('租', 0.5377331376075745),\n",
       " ('搬去', 0.5235447287559509),\n",
       " ('破', 0.5212136507034302),\n",
       " ('定', 0.5209269523620605),\n",
       " ('起', 0.520687460899353),\n",
       " ('呆', 0.5123663544654846),\n",
       " ('到', 0.5034065842628479),\n",
       " ('去', 0.5023194551467896)]"
      ]
     },
     "execution_count": 12,
     "metadata": {},
     "output_type": "execute_result"
    }
   ],
   "source": [
    "kv.most_similar(\"住\")"
   ]
  },
  {
   "cell_type": "code",
   "execution_count": 13,
   "id": "68070cd8-25b5-4646-bce9-d985df96bce5",
   "metadata": {},
   "outputs": [
    {
     "data": {
      "text/plain": [
       "[('绽出', 0.8269344568252563),\n",
       " ('绽开', 0.7646805047988892),\n",
       " ('泛动', 0.7482767105102539),\n",
       " ('绽放', 0.7417921423912048),\n",
       " ('淌下', 0.7242736220359802),\n",
       " ('淌出', 0.7215964198112488),\n",
       " ('染满', 0.7072959542274475),\n",
       " ('殷红', 0.704120934009552),\n",
       " ('划过', 0.6990218162536621),\n",
       " ('涌动', 0.692889928817749)]"
      ]
     },
     "execution_count": 13,
     "metadata": {},
     "output_type": "execute_result"
    }
   ],
   "source": [
    "kv.most_similar(\"泛出\")"
   ]
  },
  {
   "cell_type": "code",
   "execution_count": 14,
   "id": "f00416be-5ba7-43a0-a136-ca6d72204a54",
   "metadata": {},
   "outputs": [],
   "source": [
    "emb_paths = \"../data/verb_morpho_emb.txt\"\n",
    "kv.save_word2vec_format(emb_paths)\n",
    "output_paths.append(emb_paths)"
   ]
  },
  {
   "cell_type": "markdown",
   "id": "505fc35b-f99f-4d45-af18-b7270da414d5",
   "metadata": {},
   "source": [
    "## Words not found in Tencent"
   ]
  },
  {
   "cell_type": "code",
   "execution_count": 15,
   "id": "ae9e13b3-148e-4975-b744-a23d0d5ec61e",
   "metadata": {},
   "outputs": [
    {
     "name": "stdout",
     "output_type": "stream",
     "text": [
      "Not found:  613\n",
      "丟到 並置 並陳 交到 交屋 交援 交溶 交磕 交絡 交纓 交著 交詮 交踏 交迸 交逼 交馳 仰戴 伸回 伸引 佈有\n",
      "侵厲 修來 修到 修畢 修竣 修茂 俱長 停佇 停借 停到 停定 停慢 停棲 停租 停腳 停附 催踢 催迷 僻居 充啞\n",
      "充為 充脹 充食 克奏 具帶 具瞻 兼包 兼攻 兼負 冶性 冶熔 凍成 凍斃 凍黏 刊有 刊證 剖空 剖陳 剪作 割成\n",
      "割給 劃銷 劈去 勒定 勒戒 勻美 厭氣 厭身 去寒 去枝 受完 受有 受灼 受盡 叨回 叫修 叫入 叫到 叫為 叫煩\n",
      "叫貨 呆藏 哄亂 哄累 售屋 售與 喊到 喊去 喊為 嚐下 嚐足 嚼出 囤壓 固接 固著 埋去 堅留 堅邀 堵回 填到\n",
      "填成 填緊 填鋪 墜上 夾有 夾痛 夾織 夾蔭 夾處 奉伺 奉成 奉有 奉核 孕生 容共 寂止 寡佔 審酌 審量 屈伏\n",
      "屈守 屈沈 崩倒 帶位 帶怯 帶慣 帶成 幾諫 張喙 張致 彌平 從便 忙到 思問 思算 恥言 悔斷 悔醒 悠到 悠邈\n",
      "悠鳴 憨呆 憨拙 懷有 懷藏 扎來 扎完 打上 打封 打直 托來 托嬰 找沒 找無 找給 抄下 抄出 抄封 抄有 抓權\n",
      "抓痛 抓硬 抓食 折拗 披瀉 披蓋 抱有 抱股 抱至 抹黃 押倒 押對 押掉 拋到 拋舉 拍取 拍妥 拓入 拓增 拜受\n",
      "拜經 挖成 挖鋤 挫至 挽慰 挾到 挾得 捅去 捆死 掀走 掀頂 授獵 掉土 掠好 接成 接泊 掩出 掩泣 換掛 換搭\n",
      "換為 換離 揮進 揹上 搜齊 搞來 搞早 搞禿 搞花 搞苦 搭喳 搭慣 搭曬 搭軋 摔成 摩翅 摩醞 撞扁 撞著 撥予\n",
      "撥借 撥列 撥到 撥收 撥歸 撥為 撥移 撥至 撰作 撲拙 撼奮 撼樹 擇用 操成 擠回 擠榨 擠脹 擦於 擦罷 擦遍\n",
      "擴佔 擴分 擴遷 攙入 攙有 攢昂 攪昏 攪盡 敘薪 敘餐 敲到 敲叩 敲桿 敲緊 斥令 斥以 施出 施動 施測 施灑\n",
      "施盡 昏寐 昏脹 映演 映見 晉至 普建 普獲 普設 朗亮 朗敲 朗語 架到 架妥 架有 架造 染到 查得 查悉 查算\n",
      "查讀 查贓 栓有 栓緊 栽生 梭動 梳成 檢取 檢詞 欣奮 歛容 歛盡 歛財 殷盼 決審 決行 決隄 沖失 沖清 沖融\n",
      "沿傳 沿靠 泛談 泛酒 洒射 洒雨 洩除 派充 派報 派接 派援 派有 派為 派用 派請 派驗 涉於 涉有 淘到 淘掏\n",
      "淪至 混有 混煮 湧到 湧生 湧至 湧退 溯入 溯回 溯往 溯自 溯至 滲下 滲到 滲涼 滲穿 滴出 漏列 澹淡 澹遠\n",
      "激使 激出 激寫 激成 激減 激躁 為恃 為本 為濟 為繼 烘好 煮碎 煮給 煉糖 熏抹 熏灼 熏繞 熬慣 熬爛 熬盡\n",
      "熬練 燙完 燙瞎 燙糊 爭來 爭偶 爭到 爭抗 爭辦 甘落 甩壓 界塑 界於 界臨 當到 疊架 疊齊 癡妄 癡怨 發交\n",
      "發到 發圓 發拗 發核 發示 發訃 皺成 盜向 盜壓 盜拷 瞄定 瞄視 研定 研磋 研礙 研訂 研酌 碩圓 碩實 確悉\n",
      "移作 移做 移到 移墾 移平 移愛 移棲 移離 穩和 穩死 競尚 競溜 競重 算完 算為 築下 築出 築有 篩食 籌完\n",
      "籌思 籌成 約為 紛忙 索回 索結 索財 綻嫁 緣及 緣著 縫妥 繡成 繫乎 繫放 繫有 繫滿 纏絞 置散 置有 置諸\n",
      "罵成 罵盡 罷收 羅跌 翻到 翻平 翻成 翻掀 翻掘 翻擾 翻演 翻破 翻覽 翻造 翻醒 翻黑 聊散 聊釋 聳出 聽成\n",
      "聽煩 聽熟 聽誦 舐去 舐味 舐咬 舖上 舖出 舖到 舖好 舖展 舖滿 舖衍 荒掉 著有 著裝 蘊孕 蘊有 蘊諸 蛀光\n",
      "蛀出 衍為 裂漏 覆岸 覆有 覆查 覆貼 覺到 討來 討活 設成 設校 設櫃 設訂 設造 詐得 詐賣 詐醉 認事 認價\n",
      "認列 認用 誣為 請頒 請領 讚為 貢燕 貢高 賞出 賞飲 賠出 賺呆 購備 購到 購有 購求 購足 購閱 購集 趨疲\n",
      "踱入 踱回 蹬出 蹲到 輸儲 輸至 輾去 輾死 輾碎 辨位 辨視 辯完 辯訴 辯誣 追丟 追全 追划 追成 追撲 追檄\n",
      "追減 追種 追緬 追詢 追食 送下 送函 送完 送舊 送警 逃盡 逼成 逼繳 遮漱 遽逝 遽降 避到 避惡 避日 避用\n",
      "避靜 酌予 酌參 酌接 醒人 釀致 釀酵 鑲滾 閃忽 閃挪 閃燦 關到 關回 關妥 關捕 關有 除上 除祟 陳久 陳售\n",
      "陳報 陷到 陷泥 響入 順向 頹亂 頹亡 頹動 頹垂 頹塌 頹斜 顛危 顛躓 飄到 飄打 養滿 養牧 餓斃 餓癟 馳來\n",
      "馳回 馳抵 馳掠 馳救 馳求 馳聚 馳近 馳進 馳電 驚定 驚弓 驚為 驚視\n"
     ]
    }
   ],
   "source": [
    "word_list = [row.token for row in mr_data.itertuples()\n",
    "             if row.token not in vocabs and row.token_simp not in vocabs]\n",
    "print(\"Not found: \", len(word_list))\n",
    "print(*textwrap.wrap(\" \".join(word_list), 60), sep=\"\\n\")"
   ]
  },
  {
   "cell_type": "markdown",
   "id": "19c2ad36-e0ce-4a2e-a084-70803a971c96",
   "metadata": {},
   "source": [
    "## Words cannot be found in tencent"
   ]
  },
  {
   "cell_type": "code",
   "execution_count": 16,
   "id": "4e960b4d-d5ee-4006-b8a5-bd55e266e89a",
   "metadata": {},
   "outputs": [
    {
     "name": "stdout",
     "output_type": "stream",
     "text": [
      "Not found:  1063\n",
      "丟來 丟光 丟出 丟命 丟擲 丟盡 丟給 丟荒 並列 並比 並稱 交下 交予 交匯 交回 交棒 交款 交納 交纏 交辦\n",
      "交迭 交關 交齊 仰攻 仰翻 仰觀 仰起 估定 伸下 伸到 伸向 伸進 伸過 佈上 佈建 佈放 佈新 佈置 佈設 侵佔\n",
      "侵害 侵犯 侵蝕 修下 修修 修出 修史 修完 修志 修成 修法 修滿 修短 修砌 修編 修蓋 修觀 俯察 俯望 俱存\n",
      "俱生 停入 停好 停招 停掉 停播 停收 停服 停格 停步 停發 停筆 停開 偵查 催交 催催 催動 催收 催繳 催趕\n",
      "催迫 充做 充入 充抵 充盈 具現 具象 兼作 兼做 兼愛 兼收 兼教 兼治 兼用 兼賣 兼顧 凍上 凍掉 凍紅 凍餓\n",
      "刊於 刪掉 刪減 刷上 刷卡 刷完 剖分 剖明 剪好 剪完 剪得 剪接 剪片 剪貼 剪起 割下 割出 割完 割掉 劃上\n",
      "劃下 劃亮 劃傷 劃動 劃為 劃破 劃給 劃過 劈中 劈來 劈到 劈成 劈死 劈空 劈落 勻勻 勻婷 厭勝 厭恨 去國\n",
      "去邪 去鄉 受付 受僱 受勳 受報 受敵 受死 受領 叨念 叫來 叫回 叫慣 叫成 叫窮 叫進 叫道 叫響 吞入 吞吐\n",
      "吞回 吞天 吞進 呆立 哄然 哄笑 售光 售完 售票 售給 唯一 唯心 喊回 喊道 喘氣 嚐出 嚐盡 嚼動 嚼嚼 嚼食\n",
      "囤積 埋入 埋到 埋好 埋掉 埋置 埋進 埋頭 堅辭 堵上 堵塞 堵截 堵死 堵車 填填 填好 填膺 填進 填飽 填高\n",
      "填鴨 墜崖 壞掉 壞損 壞滅 夾上 夾傷 夾出 夾到 夾峙 夾斷 夾起 夾進 奉納 奉請 容得 容有 寂照 寡歡 寡聞\n",
      "審思 審校 審美 屈尊 屈屈 屈辱 屈體 崩飛 帶傷 帶到 帶大 帶好 帶引 帶淚 帶滿 帶班 帶累 帶給 帶血 帶行\n",
      "帶讀 帶起 帶返 帶開 帶隊 帶離 幾經 幾近 張口 張弛 張結 張閤 從眾 忙完 忙於 恥於 悔罪 悠雅 想好 想定\n",
      "想岔 想成 想盡 想破 慣看 慣稱 憑依 憑吊 憑添 憑著 憨傻 憨憨 懷柔 扎住 扎好 打低 打分 打去 打向 打回\n",
      "打好 打打 打昏 打水 打火 打球 打砸 打穿 打紅 打酒 托住 托兒 托出 托大 托給 托起 扛下 扛起 扳本 扳正\n",
      "扳起 找上 找來 找去 找好 找對 找找 找錯 找零 抄到 抄起 抄送 抉擇 抓下 抓來 抓傷 抓勻 抓回 抓抓 抓準\n",
      "抓穩 抓舉 抓著 抓蝦 抓走 抓進 抓開 折下 折兵 折向 折好 折掉 折換 折現 折磨 折起 折轉 披戴 披覆 披靡\n",
      "抱上 抱下 抱來 抱入 抱出 抱回 抱拳 抱牢 抱走 抱起 抱進 抹好 抹黑 押上 押到 拋光 拋入 拋去 拋射 拋給\n",
      "拋荒 拋進 拍下 拍到 拍動 拍好 拍完 拍定 拍得 拍掉 拍撫 拍攝 拍死 拍滿 拍碎 拍進 拜完 拜服 拜金 挖下\n",
      "挖來 挖光 挖到 挖去 挖好 挖掘 挖採 挖深 挖通 挖開 挽挽 捅破 捆成 捆打 捱過 掀去 授出 授勳 授封 授權\n",
      "授給 掉光 掉出 掉到 掠食 接位 接入 接出 接去 接取 接口 接機 接檔 接活 接演 接界 接給 接腔 接軌 接過\n",
      "接錯 控管 控速 換下 換乘 換作 換到 換去 換回 換場 換好 換得 換換 換用 換穿 換給 換股 換血 揮下 揮出\n",
      "揮去 揮桿 揮棒 搜到 搜尋 搜索 搜走 搜遍 搜集 搞上 搞丟 搞倒 搞出 搞到 搞好 搞定 搞懂 搞混 搞清 搞笑\n",
      "搞通 搬下 搬來 搬去 搬取 搬空 搬至 搬起 搬進 搭伙 搭售 搭架 搭檔 搭築 搭船 搭襯 搭設 搭調 摔入 摔出\n",
      "摔到 摔斷 摔痛 摔落 摔進 撒播 撞來 撞去 撞掉 撞斷 撞毀 撞碎 撞裂 撥下 撥付 撥來 撥入 撥去 撥掉 撥接\n",
      "撥放 撥散 撥款 撰有 撲來 撲出 撲去 撲進 撿來 撿出 撿去 撿食 擇善 操做 操弄 操死 擠下 擠到 擠完 擠擠\n",
      "擠死 擠破 擠開 擦上 擦完 擦過 擴充 擴增 擴大 擴展 擴廠 擴建 擴張 擴散 擴版 攢下 攪散 攪混 攪翻 敲入\n",
      "敲壞 敲成 敲斷 敲昏 敲死 敲進 敲醒 施令 施作 施於 昏死 映成 映照 映現 晉入 晉升 晉陞 普施 普濟 普選\n",
      "服完 服眾 服老 朗朗 朗然 未了 未決 架出 架好 架接 架高 染回 染好 染滿 染白 染紅 染綠 染著 染藍 染製\n",
      "染黃 染黑 查完 查探 查查 查知 查繳 查驗 栽下 栽入 栽滿 栽進 梭巡 梳洗 梳理 檢出 檢察 檢控 檢證 欣欣\n",
      "欣然 止歇 殷殷 殷紅 毀去 毀於 決出 決策 沖上 沖下 沖來 沖入 沖到 沖垮 沖擊 沖散 沖昏 沖決 沖泡 沖洗\n",
      "沖煞 沖破 沖落 沖進 沖鼻 沿用 泛出 泛動 泛用 泛黃 洒掃 洩下 洩慾 洩精 派來 派去 派往 派生 派送 淌下\n",
      "淌出 淌水 淘盡 淪於 混上 混出 混勻 混和 混完 混得 混混 混燒 混生 混血 混進 湧來 湧動 湧去 湧向 湧往\n",
      "溯流 滲透 滴入 滴到 滴進 漏下 漏洩 漏液 漏空 漏進 潤白 激增 激奮 激射 激發 激盪 灑下 為上 為亂 為害\n",
      "為虐 烘托 烘烤 煮上 煮乾 煮出 煮好 煮熱 煮破 煉出 煉好 煉成 熏出 熏死 熬壞 熬完 熬成 熬製 燙到 燙好\n",
      "燙熟 燙熱 燙金 爆增 爆好 爆掉 爆烈 爆熱 爆香 爭回 爭得 爭用 瑩然 瑩瑩 甘洌 甘淡 甩出 甩到 甩動 甩賣\n",
      "當完 當為 當空 疊加 疊成 疊放 疊片 疊用 疊砌 疊起 疾奔 癡等 發乾 發完 發寒 發心 發憤 發文 發楞 發泡\n",
      "發灰 發燙 發爛 發版 發用 發疹 發發 發直 發紅 發綠 發腫 發蒙 發足 發車 發黃 盜拍 盜掘 盜走 瞄到 瞄見\n",
      "研修 研創 確定 移交 移回 移師 移建 移往 移徙 移植 移民 移用 移目 移葬 移行 移走 移轉 移近 移駕 穩坐\n",
      "穩實 穩操 競價 競秀 競速 等死 算到 算準 算進 築好 篩掉 篩檢 篩洗 篩濾 篩選 篩除 籌得 籌資 籌足 約出\n",
      "紛爭 索債 索要 索討 綻出 綻放 綻開 緣起 縫制 繫好 纏上 纏滿 纏緊 置入 置換 置於 置裝 置辦 罵作 罵哭\n",
      "罵完 罵死 罵罵 罵道 罷相 羅佈 羅致 翻上 翻刻 翻回 翻完 翻山 翻找 翻拍 翻捲 翻掉 翻攪 翻沉 翻版 翻白\n",
      "翻看 翻翻 翻製 翻譯 翻進 翻遍 翻錄 聊到 聊開 聳入 聳肩 聳起 聽好 聽懂 聽罷 聽解 聽辨 聽進 荒亂 荒棄\n",
      "荒置 荒遠 莊肅 著作 著身 蘊蓄 蛀牙 衍伸 衍化 衍變 裂開 覆滿 覆頂 覺了 覺知 討到 討得 設定 設於 設為\n",
      "設立 設置 認定 認栽 誘多 誘拐 誘空 誘致 請出 請去 請回 請照 請調 請走 讓位 讓坐 讚同 讚嘆 讚好 讚道\n",
      "豎立 豎耳 賠上 賠掉 賠給 賺上 賺來 賺夠 賺死 購回 購機 購滿 購齊 贏來 贏回 贏定 趨動 跟到 跟去 跟好\n",
      "跟會 踱出 蹬上 蹲久 蹲伏 輸光 輸出 輸往 輸急 輸送 輸通 輸進 輸運 辨別 辨認 辨識 辯明 辯識 追來 追凶\n",
      "追出 追去 追及 追平 追拍 追摹 追根 追漲 追買 追近 送予 送入 送到 送呈 送展 送抵 送迎 送返 送進 送錢\n",
      "送錯 逃入 逃兵 逃到 逃獄 逃進 逃過 逼入 逼出 逼到 逼和 逼回 逼害 逼急 逼瘋 逼近 逼迫 逼退 遮下 遮掉\n",
      "遮蓋 遮雨 避談 避走 避過 避震 醒發 醒腦 醒轉 醒醒 釀出 釀好 釀就 鎖入 鎖合 鎖死 鑲上 鑲成 鑲有 閃入\n",
      "閃到 閃躍 閑置 閑話 閑雅 閒適 關嚴 關好 關連 關鍵 關鎖 關顧 阻住 阻攻 陡升 陡增 陡降 除下 除盡 除穢\n",
      "除罪 陳義 響動 響成 順產 順走 顧好 顧得 飄上 飄下 飄入 飄出 飄曳 飄洋 飄移 飄送 飄進 飄過 飄開 養出\n",
      "養壯 養大 養好 養息 餓昏 餓死 馳入 馳出 馳到 馳往 馳聘 驚世 驚傳 驚呆 驚問 驚喊 驚怖 驚悚 驚散 驚然\n",
      "驚走 驟增 驟降\n"
     ]
    }
   ],
   "source": [
    "word_list = [row.token for row in mr_data.itertuples()\n",
    "             if row.token in vocabs or row.token_simp in vocabs]\n",
    "print(\"Not found: \", len(word_list))\n",
    "print(*textwrap.wrap(\" \".join(word_list), 60), sep=\"\\n\")"
   ]
  },
  {
   "cell_type": "markdown",
   "id": "c521d628-fe8a-471a-ad2a-e45948a886be",
   "metadata": {},
   "source": [
    "## Output Hashes"
   ]
  },
  {
   "cell_type": "markdown",
   "id": "853e9294-684c-48ab-be04-28563fb902ca",
   "metadata": {},
   "source": [
    "```\n",
    "../data/verb_morpho.csv 15c7c1\n",
    "../data/verb_morpho_emb.txt f3b2a1\n",
    "```"
   ]
  },
  {
   "cell_type": "code",
   "execution_count": 17,
   "id": "ddcbf336-f78c-41a0-865b-1bcb617e6e9c",
   "metadata": {},
   "outputs": [
    {
     "name": "stdout",
     "output_type": "stream",
     "text": [
      "../data/verb_morpho.csv 15c7c1\n",
      "../data/verb_morpho_emb.txt f3b2a1\n"
     ]
    }
   ],
   "source": [
    "from hashlib import sha1\n",
    "from pathlib import Path\n",
    "for path_x in output_paths:\n",
    "    h = sha1()\n",
    "    h.update(Path(path_x).read_bytes())\n",
    "    print(path_x, h.hexdigest()[:6])"
   ]
  },
  {
   "cell_type": "code",
   "execution_count": null,
   "id": "1511a3d5-de50-4bfa-a9a1-8285e59ecde0",
   "metadata": {},
   "outputs": [],
   "source": []
  }
 ],
 "metadata": {
  "kernelspec": {
   "display_name": "Python 3 (ipykernel)",
   "language": "python",
   "name": "python3"
  },
  "language_info": {
   "codemirror_mode": {
    "name": "ipython",
    "version": 3
   },
   "file_extension": ".py",
   "mimetype": "text/x-python",
   "name": "python",
   "nbconvert_exporter": "python",
   "pygments_lexer": "ipython3",
   "version": "3.10.2"
  }
 },
 "nbformat": 4,
 "nbformat_minor": 5
}
