{
 "cells": [
  {
   "cell_type": "code",
   "execution_count": 1,
   "id": "504aa5ba-14e6-4ffc-999a-40ebc6b1c569",
   "metadata": {},
   "outputs": [],
   "source": [
    "%load_ext autoreload\n",
    "%autoreload 2"
   ]
  },
  {
   "cell_type": "code",
   "execution_count": 2,
   "id": "060c02e9-ee49-4b3f-b49b-d466c6f5116f",
   "metadata": {},
   "outputs": [],
   "source": [
    "import sys\n",
    "if \"../src\" not in sys.path:\n",
    "    sys.path.append(\"../src\")"
   ]
  },
  {
   "cell_type": "code",
   "execution_count": 65,
   "id": "be6ddf9a-6d7e-4520-b32d-550b5c60e48a",
   "metadata": {},
   "outputs": [],
   "source": [
    "from tqdm.auto import tqdm\n",
    "from dotted_wsd import DottedWsdTagger"
   ]
  },
  {
   "cell_type": "code",
   "execution_count": 4,
   "id": "203d21f5-cc2f-466a-a489-5dd243194130",
   "metadata": {},
   "outputs": [],
   "source": [
    "tagger = DottedWsdTagger()"
   ]
  },
  {
   "cell_type": "code",
   "execution_count": 7,
   "id": "75bf372b-6029-4031-9152-8de8d4fd19ac",
   "metadata": {},
   "outputs": [],
   "source": [
    "pred = tagger.wsd_tag(\"<打>電話\")[0]"
   ]
  },
  {
   "cell_type": "code",
   "execution_count": 15,
   "id": "aa33202c-8214-4f04-8d3d-73d19a7c4b02",
   "metadata": {},
   "outputs": [
    {
     "data": {
      "text/plain": [
       "{'example_id': 1,\n",
       " 'example_type': 'wsd',\n",
       " 'target_word': '打',\n",
       " 'probe': '<打>電話',\n",
       " 'sense_id': '05229179',\n",
       " 'target_pos': None,\n",
       " 'cwn_pos': 'VB',\n",
       " 'simplified_pos': None,\n",
       " 'sense_def': '利用電話裝置與人通話。',\n",
       " 'sense_refex': '我從北京坐長途車去太原，6個小時的車程，就有400餘個電話<打>到我的手機上。'}"
      ]
     },
     "execution_count": 15,
     "metadata": {},
     "output_type": "execute_result"
    }
   ],
   "source": [
    "pred.instance"
   ]
  },
  {
   "cell_type": "code",
   "execution_count": 18,
   "id": "fb956e8a-6823-4fbc-b3ca-222f1fdf2bd6",
   "metadata": {},
   "outputs": [],
   "source": [
    "import pandas as pd\n",
    "data = pd.read_csv(\"../data/di-morphosyntax.csv\", index_col=0)"
   ]
  },
  {
   "cell_type": "code",
   "execution_count": 32,
   "id": "51dc5331-1bf5-4972-9830-e642fa628e05",
   "metadata": {},
   "outputs": [
    {
     "data": {
      "text/plain": [
       "(VR    879\n",
       " AV    340\n",
       " VV    244\n",
       " VO    213\n",
       " Name: MorphoSyntax, dtype: int64,\n",
       " 1676)"
      ]
     },
     "execution_count": 32,
     "metadata": {},
     "output_type": "execute_result"
    }
   ],
   "source": [
    "import numpy as np\n",
    "pd.value_counts(data.MorphoSyntax), pd.value_counts(data.MorphoSyntax).sum()"
   ]
  },
  {
   "cell_type": "code",
   "execution_count": 35,
   "id": "28a43a86-402c-465c-8026-46159e11102b",
   "metadata": {},
   "outputs": [
    {
     "name": "stdout",
     "output_type": "stream",
     "text": [
      "(1676, 8)\n"
     ]
    },
    {
     "data": {
      "text/html": [
       "<div>\n",
       "<style scoped>\n",
       "    .dataframe tbody tr th:only-of-type {\n",
       "        vertical-align: middle;\n",
       "    }\n",
       "\n",
       "    .dataframe tbody tr th {\n",
       "        vertical-align: top;\n",
       "    }\n",
       "\n",
       "    .dataframe thead th {\n",
       "        text-align: right;\n",
       "    }\n",
       "</style>\n",
       "<table border=\"1\" class=\"dataframe\">\n",
       "  <thead>\n",
       "    <tr style=\"text-align: right;\">\n",
       "      <th></th>\n",
       "      <th>token</th>\n",
       "      <th>source</th>\n",
       "      <th>ASBC</th>\n",
       "      <th>Apple (2006-2016)</th>\n",
       "      <th>China (2015-2016)</th>\n",
       "      <th>Dcard (2019-2020)</th>\n",
       "      <th>PTT (2004-2019)</th>\n",
       "      <th>MorphoSyntax</th>\n",
       "    </tr>\n",
       "  </thead>\n",
       "  <tbody>\n",
       "    <tr>\n",
       "      <th>4073</th>\n",
       "      <td>丟來</td>\n",
       "      <td>Corpus</td>\n",
       "      <td>1.0</td>\n",
       "      <td>5.0</td>\n",
       "      <td>5.0</td>\n",
       "      <td>1.0</td>\n",
       "      <td>0.0</td>\n",
       "      <td>VR</td>\n",
       "    </tr>\n",
       "    <tr>\n",
       "      <th>4074</th>\n",
       "      <td>丟光</td>\n",
       "      <td>Corpus</td>\n",
       "      <td>2.0</td>\n",
       "      <td>16.0</td>\n",
       "      <td>6.0</td>\n",
       "      <td>1.0</td>\n",
       "      <td>0.0</td>\n",
       "      <td>VR</td>\n",
       "    </tr>\n",
       "    <tr>\n",
       "      <th>4077</th>\n",
       "      <td>丟出</td>\n",
       "      <td>Corpus</td>\n",
       "      <td>9.0</td>\n",
       "      <td>190.0</td>\n",
       "      <td>56.0</td>\n",
       "      <td>16.0</td>\n",
       "      <td>0.0</td>\n",
       "      <td>VR</td>\n",
       "    </tr>\n",
       "    <tr>\n",
       "      <th>4079</th>\n",
       "      <td>丟到</td>\n",
       "      <td>Corpus</td>\n",
       "      <td>53.0</td>\n",
       "      <td>265.0</td>\n",
       "      <td>75.0</td>\n",
       "      <td>48.0</td>\n",
       "      <td>0.0</td>\n",
       "      <td>VR</td>\n",
       "    </tr>\n",
       "    <tr>\n",
       "      <th>4087</th>\n",
       "      <td>丟命</td>\n",
       "      <td>MOE, Corpus</td>\n",
       "      <td>1.0</td>\n",
       "      <td>5.0</td>\n",
       "      <td>2.0</td>\n",
       "      <td>0.0</td>\n",
       "      <td>0.0</td>\n",
       "      <td>VO</td>\n",
       "    </tr>\n",
       "  </tbody>\n",
       "</table>\n",
       "</div>"
      ],
      "text/plain": [
       "     token       source  ASBC  Apple (2006-2016)  China (2015-2016)  \\\n",
       "4073    丟來       Corpus   1.0                5.0                5.0   \n",
       "4074    丟光       Corpus   2.0               16.0                6.0   \n",
       "4077    丟出       Corpus   9.0              190.0               56.0   \n",
       "4079    丟到       Corpus  53.0              265.0               75.0   \n",
       "4087    丟命  MOE, Corpus   1.0                5.0                2.0   \n",
       "\n",
       "      Dcard (2019-2020)  PTT (2004-2019) MorphoSyntax  \n",
       "4073                1.0              0.0           VR  \n",
       "4074                1.0              0.0           VR  \n",
       "4077               16.0              0.0           VR  \n",
       "4079               48.0              0.0           VR  \n",
       "4087                0.0              0.0           VO  "
      ]
     },
     "execution_count": 35,
     "metadata": {},
     "output_type": "execute_result"
    }
   ],
   "source": [
    "mr_data = data.dropna(axis=0, subset=[\"MorphoSyntax\"])\n",
    "print(mr_data.shape)\n",
    "mr_data.head()"
   ]
  },
  {
   "cell_type": "code",
   "execution_count": 54,
   "id": "320a60d6-dbf1-42fb-859c-b0ae166ac094",
   "metadata": {},
   "outputs": [],
   "source": [
    "def disambiguate_constituents(word):\n",
    "    ret = []\n",
    "    for i in range(len(word)):\n",
    "        intext = word[:i] + f\"<{word[i]}>\"\n",
    "        if i+1 < len(word):\n",
    "            intext += word[i+1:]\n",
    "        try:\n",
    "            out = tagger.wsd_tag(intext)[0]\n",
    "            pred_obj = {\n",
    "                \"pos\": out.instance[\"cwn_pos\"],\n",
    "                \"sense_id\": out.instance[\"sense_id\"],\n",
    "                \"sense_def\": out.instance[\"sense_def\"]\n",
    "            }\n",
    "        except:\n",
    "            pred_obj = {\"pos\": \"--\",\n",
    "                \"sense_id\": \"--\",\n",
    "                \"sense_def\": \"--\"}\n",
    "        ret.append(pred_obj)\n",
    "        \n",
    "    return ret"
   ]
  },
  {
   "cell_type": "code",
   "execution_count": 68,
   "id": "d5f9ab88-0699-404a-961a-75645a6b84a0",
   "metadata": {},
   "outputs": [
    {
     "data": {
      "application/vnd.jupyter.widget-view+json": {
       "model_id": "68c087ba85764a7e8fbf738307560874",
       "version_major": 2,
       "version_minor": 0
      },
      "text/plain": [
       "  0%|          | 0/1676 [00:00<?, ?it/s]"
      ]
     },
     "metadata": {},
     "output_type": "display_data"
    }
   ],
   "source": [
    "tagged_words = []\n",
    "for _, row in tqdm(mr_data.iterrows(), total=mr_data.shape[0]):    \n",
    "    word = row.token\n",
    "    if len(word) != 2:\n",
    "        print(\"not bisyllabic: \", word)\n",
    "        continue\n",
    "    mr = row.MorphoSyntax\n",
    "    res = disambiguate_constituents(word)\n",
    "    tagged_words.append(dict(\n",
    "        word=word, morpho_syntax=mr,\n",
    "        c1_pos=res[0][\"pos\"], c1_sid=res[0][\"sense_id\"], c1_def=res[0][\"sense_def\"],\n",
    "        c2_pos=res[1][\"pos\"], c2_sid=res[1][\"sense_id\"], c2_def=res[1][\"sense_def\"]\n",
    "    ))    "
   ]
  },
  {
   "cell_type": "code",
   "execution_count": 71,
   "id": "4d9d50ca-c314-4175-ad75-6cdfc1b85390",
   "metadata": {},
   "outputs": [],
   "source": [
    "pd.DataFrame.from_records(tagged_words).to_csv(\"../data/disambig_mr.csv\", index=False)"
   ]
  },
  {
   "cell_type": "code",
   "execution_count": null,
   "id": "f6605c71-c5e2-452b-af49-f2738468bba3",
   "metadata": {},
   "outputs": [],
   "source": []
  }
 ],
 "metadata": {
  "kernelspec": {
   "display_name": "Python 3 (ipykernel)",
   "language": "python",
   "name": "python3"
  },
  "language_info": {
   "codemirror_mode": {
    "name": "ipython",
    "version": 3
   },
   "file_extension": ".py",
   "mimetype": "text/x-python",
   "name": "python",
   "nbconvert_exporter": "python",
   "pygments_lexer": "ipython3",
   "version": "3.9.5"
  }
 },
 "nbformat": 4,
 "nbformat_minor": 5
}
