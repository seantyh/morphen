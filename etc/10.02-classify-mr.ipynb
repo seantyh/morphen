{
 "cells": [
  {
   "cell_type": "code",
   "execution_count": 1,
   "id": "c273a516-1baa-40e7-8945-5a26e12e97a6",
   "metadata": {},
   "outputs": [],
   "source": [
    "import sys\n",
    "if \"../src\" not in sys.path:\n",
    "    sys.path.append(\"../src\")"
   ]
  },
  {
   "cell_type": "code",
   "execution_count": 2,
   "id": "1581b16c-efa3-421d-b6a4-70566d3e5db7",
   "metadata": {},
   "outputs": [],
   "source": [
    "import json\n",
    "from tqdm.auto import tqdm\n",
    "from itertools import islice\n",
    "from datetime import datetime\n",
    "from dataclasses import dataclass\n",
    "\n",
    "import numpy as np\n",
    "import pandas as pd\n",
    "from sklearn.preprocessing import LabelEncoder\n",
    "from sklearn.utils.class_weight import compute_class_weight\n",
    "from sklearn.metrics import ConfusionMatrixDisplay, classification_report\n",
    "\n",
    "import torch\n",
    "import torch.optim as optim\n",
    "import torch.nn as nn\n",
    "from torch.utils.data import Dataset, DataLoader\n",
    "import torchmetrics\n",
    "from transformers import BertForSequenceClassification, BertTokenizerFast"
   ]
  },
  {
   "cell_type": "markdown",
   "id": "9612e238-9154-4892-a139-65d74e24470e",
   "metadata": {},
   "source": [
    "## Data Dependencies"
   ]
  },
  {
   "cell_type": "markdown",
   "id": "072373e3-fa4b-40cd-a52e-b7ecbec63076",
   "metadata": {},
   "source": [
    "```\n",
    "../data/di-morphosyntax.csv 0f1c87\n",
    "```"
   ]
  },
  {
   "cell_type": "code",
   "execution_count": 3,
   "id": "8f92b6e0-c2ee-4833-ac4a-9aa48e54f531",
   "metadata": {},
   "outputs": [
    {
     "name": "stdout",
     "output_type": "stream",
     "text": [
      "../data/di-morphosyntax.csv 0f1c87\n"
     ]
    }
   ],
   "source": [
    "from hashlib import sha1\n",
    "from pathlib import Path\n",
    "paths = [\"../data/di-morphosyntax.csv\"]\n",
    "for path_x in paths:\n",
    "    h = sha1()\n",
    "    h.update(Path(path_x).read_bytes())\n",
    "    print(path_x, h.hexdigest()[:6])"
   ]
  },
  {
   "cell_type": "markdown",
   "id": "67bb5e42-6f38-45c3-b936-cb21781189a3",
   "metadata": {},
   "source": [
    "## Loading Data"
   ]
  },
  {
   "cell_type": "code",
   "execution_count": 4,
   "id": "077cf34d-d554-48d7-aefe-9244f3ae3ed6",
   "metadata": {},
   "outputs": [
    {
     "name": "stdout",
     "output_type": "stream",
     "text": [
      "(1676, 8)\n"
     ]
    },
    {
     "data": {
      "text/html": [
       "<div>\n",
       "<style scoped>\n",
       "    .dataframe tbody tr th:only-of-type {\n",
       "        vertical-align: middle;\n",
       "    }\n",
       "\n",
       "    .dataframe tbody tr th {\n",
       "        vertical-align: top;\n",
       "    }\n",
       "\n",
       "    .dataframe thead th {\n",
       "        text-align: right;\n",
       "    }\n",
       "</style>\n",
       "<table border=\"1\" class=\"dataframe\">\n",
       "  <thead>\n",
       "    <tr style=\"text-align: right;\">\n",
       "      <th></th>\n",
       "      <th>token</th>\n",
       "      <th>source</th>\n",
       "      <th>ASBC</th>\n",
       "      <th>Apple (2006-2016)</th>\n",
       "      <th>China (2015-2016)</th>\n",
       "      <th>Dcard (2019-2020)</th>\n",
       "      <th>PTT (2004-2019)</th>\n",
       "      <th>MorphoSyntax</th>\n",
       "    </tr>\n",
       "  </thead>\n",
       "  <tbody>\n",
       "    <tr>\n",
       "      <th>4073</th>\n",
       "      <td>丟來</td>\n",
       "      <td>Corpus</td>\n",
       "      <td>1.0</td>\n",
       "      <td>5.0</td>\n",
       "      <td>5.0</td>\n",
       "      <td>1.0</td>\n",
       "      <td>0.0</td>\n",
       "      <td>VR</td>\n",
       "    </tr>\n",
       "    <tr>\n",
       "      <th>4074</th>\n",
       "      <td>丟光</td>\n",
       "      <td>Corpus</td>\n",
       "      <td>2.0</td>\n",
       "      <td>16.0</td>\n",
       "      <td>6.0</td>\n",
       "      <td>1.0</td>\n",
       "      <td>0.0</td>\n",
       "      <td>VR</td>\n",
       "    </tr>\n",
       "    <tr>\n",
       "      <th>4077</th>\n",
       "      <td>丟出</td>\n",
       "      <td>Corpus</td>\n",
       "      <td>9.0</td>\n",
       "      <td>190.0</td>\n",
       "      <td>56.0</td>\n",
       "      <td>16.0</td>\n",
       "      <td>0.0</td>\n",
       "      <td>VR</td>\n",
       "    </tr>\n",
       "    <tr>\n",
       "      <th>4079</th>\n",
       "      <td>丟到</td>\n",
       "      <td>Corpus</td>\n",
       "      <td>53.0</td>\n",
       "      <td>265.0</td>\n",
       "      <td>75.0</td>\n",
       "      <td>48.0</td>\n",
       "      <td>0.0</td>\n",
       "      <td>VR</td>\n",
       "    </tr>\n",
       "    <tr>\n",
       "      <th>4087</th>\n",
       "      <td>丟命</td>\n",
       "      <td>MOE, Corpus</td>\n",
       "      <td>1.0</td>\n",
       "      <td>5.0</td>\n",
       "      <td>2.0</td>\n",
       "      <td>0.0</td>\n",
       "      <td>0.0</td>\n",
       "      <td>VO</td>\n",
       "    </tr>\n",
       "  </tbody>\n",
       "</table>\n",
       "</div>"
      ],
      "text/plain": [
       "     token       source  ASBC  Apple (2006-2016)  China (2015-2016)  \\\n",
       "4073    丟來       Corpus   1.0                5.0                5.0   \n",
       "4074    丟光       Corpus   2.0               16.0                6.0   \n",
       "4077    丟出       Corpus   9.0              190.0               56.0   \n",
       "4079    丟到       Corpus  53.0              265.0               75.0   \n",
       "4087    丟命  MOE, Corpus   1.0                5.0                2.0   \n",
       "\n",
       "      Dcard (2019-2020)  PTT (2004-2019) MorphoSyntax  \n",
       "4073                1.0              0.0           VR  \n",
       "4074                1.0              0.0           VR  \n",
       "4077               16.0              0.0           VR  \n",
       "4079               48.0              0.0           VR  \n",
       "4087                0.0              0.0           VO  "
      ]
     },
     "execution_count": 4,
     "metadata": {},
     "output_type": "execute_result"
    }
   ],
   "source": [
    "data = pd.read_csv(\"../data/di-morphosyntax.csv\", index_col=0)\n",
    "pd.value_counts(data.MorphoSyntax), pd.value_counts(data.MorphoSyntax).sum()\n",
    "mr_data = data.dropna(axis=0, subset=[\"MorphoSyntax\"])\n",
    "print(mr_data.shape)\n",
    "mr_data.head()"
   ]
  },
  {
   "cell_type": "code",
   "execution_count": 5,
   "id": "5c742ca7-2361-49f4-b8d7-c6bfe8958b3f",
   "metadata": {},
   "outputs": [
    {
     "data": {
      "text/plain": [
       "VR    879\n",
       "AV    340\n",
       "VV    244\n",
       "VO    213\n",
       "Name: MorphoSyntax, dtype: int64"
      ]
     },
     "execution_count": 5,
     "metadata": {},
     "output_type": "execute_result"
    }
   ],
   "source": [
    "mr_data.MorphoSyntax.value_counts()"
   ]
  },
  {
   "cell_type": "markdown",
   "id": "8dec6da4-a524-423e-8599-f9cee3b34aee",
   "metadata": {},
   "source": [
    "## Prepare dataset"
   ]
  },
  {
   "cell_type": "code",
   "execution_count": 6,
   "id": "c4b0bf79-40bc-4c50-b072-cfdee1336fc8",
   "metadata": {},
   "outputs": [],
   "source": [
    "class MrDataset(Dataset):\n",
    "    def __init__(self, mrdata):\n",
    "        self.data = [(x.token, x.MorphoSyntax) \n",
    "                     for _, x in mrdata.iterrows()]\n",
    "    \n",
    "    def __len__(self):\n",
    "        return len(self.data)\n",
    "    \n",
    "    def __getitem__(self, idx):\n",
    "        return self.data[idx]\n",
    "    "
   ]
  },
  {
   "cell_type": "code",
   "execution_count": 7,
   "id": "4e7cfbb7-7304-4088-b830-a33b1b29825b",
   "metadata": {},
   "outputs": [],
   "source": [
    "mr_data_shuffled = mr_data.sample(frac=1, random_state=1234)\n",
    "n_split = int(mr_data.shape[0]*.8)\n",
    "mr_data_train = mr_data_shuffled[:n_split]\n",
    "mr_data_test = mr_data_shuffled[n_split:]\n",
    "train_ds = MrDataset(mr_data_train)\n",
    "test_ds = MrDataset(mr_data_test)\n",
    "mr_vocab = LabelEncoder()\n",
    "train_classes = mr_vocab.fit_transform([x[1] for x in train_ds])"
   ]
  },
  {
   "cell_type": "code",
   "execution_count": 8,
   "id": "2e1732e0-385e-469c-b623-446c7190bfae",
   "metadata": {},
   "outputs": [],
   "source": [
    "train_words = mr_data_train.token.tolist()\n",
    "test_words = mr_data_test.token.tolist()\n",
    "# ensure no leakage\n",
    "assert all(x not in test_words for x in train_words)"
   ]
  },
  {
   "cell_type": "code",
   "execution_count": 9,
   "id": "ba3a8db1-1085-48b9-886b-aefb5cae2d92",
   "metadata": {},
   "outputs": [],
   "source": [
    "with open(\"../data/10.02-word-split.json\", \"w\", encoding=\"UTF-8\", newline=\"\\n\") as fout:\n",
    "    json.dump({\"train\": train_words, \"test\": test_words}, fout)"
   ]
  },
  {
   "cell_type": "markdown",
   "id": "82edbdd5-c2a2-48d1-949d-c07dc00afff2",
   "metadata": {},
   "source": [
    "## Prepare training"
   ]
  },
  {
   "cell_type": "code",
   "execution_count": 10,
   "id": "12b300b5-82c0-4665-8442-5f3f369f8836",
   "metadata": {},
   "outputs": [
    {
     "data": {
      "text/plain": [
       "array([1.21376812, 1.97058824, 0.47788873, 1.7357513 ])"
      ]
     },
     "execution_count": 10,
     "metadata": {},
     "output_type": "execute_result"
    }
   ],
   "source": [
    "mr_weights = compute_class_weight('balanced', classes=np.unique(train_classes), y=train_classes)\n",
    "mr_weights"
   ]
  },
  {
   "cell_type": "code",
   "execution_count": 11,
   "id": "5b29e446-a885-49b7-a365-2f0d92d271f6",
   "metadata": {},
   "outputs": [],
   "source": [
    "BASE_MODEL = \"bert-base-chinese\""
   ]
  },
  {
   "cell_type": "code",
   "execution_count": 12,
   "id": "47bdcbf4-3930-4014-bc61-51da7609c4ad",
   "metadata": {},
   "outputs": [],
   "source": [
    "tokenizer = BertTokenizerFast.from_pretrained(BASE_MODEL)"
   ]
  },
  {
   "cell_type": "code",
   "execution_count": 13,
   "id": "343cb172-87d3-41ea-81ba-017ee5fe8d86",
   "metadata": {},
   "outputs": [],
   "source": [
    "@dataclass\n",
    "class MrCollator:\n",
    "    tokenizer: \"BertTokenizerFast\"\n",
    "    mr_vocab: \"LabelEncoder\"\n",
    "    def __call__(self, batch):\n",
    "        toks = self.tokenizer([x[0] for x in batch], return_tensors=\"pt\")\n",
    "        mrs = self.mr_vocab.transform([x[1] for x in batch])\n",
    "        toks[\"labels\"] = torch.tensor(mrs)\n",
    "        return toks"
   ]
  },
  {
   "cell_type": "code",
   "execution_count": 14,
   "id": "186c4ae8-391d-4736-ad1d-23ae4d9e759e",
   "metadata": {},
   "outputs": [],
   "source": [
    "collator = MrCollator(tokenizer, mr_vocab)"
   ]
  },
  {
   "cell_type": "markdown",
   "id": "c34573c2-b844-4af6-acff-16ea4eac62e4",
   "metadata": {},
   "source": [
    "## Train Loops"
   ]
  },
  {
   "cell_type": "code",
   "execution_count": 15,
   "id": "260ded0c-419b-4f94-8d65-672110f438ce",
   "metadata": {},
   "outputs": [
    {
     "name": "stdout",
     "output_type": "stream",
     "text": [
      "env: TOKENIZERS_PARALLELISM=false\n"
     ]
    }
   ],
   "source": [
    "## to get rid of tokenizer fork warning\n",
    "%env TOKENIZERS_PARALLELISM=false"
   ]
  },
  {
   "cell_type": "code",
   "execution_count": 16,
   "id": "57ee48db-8d0b-4353-aaf2-d9d561e54845",
   "metadata": {},
   "outputs": [],
   "source": [
    "torch.manual_seed(13245)\n",
    "device = \"cuda\" if torch.cuda.is_available() else \"cpu\"\n",
    "train_acc_metric = torchmetrics.Accuracy().to(device)\n",
    "eval_acc_metric = torchmetrics.Accuracy().to(device)\n",
    "train_loss_metric = torchmetrics.MeanMetric().to(device)\n",
    "eval_loss_metric = torchmetrics.MeanMetric().to(device)\n",
    "loss_fct = nn.CrossEntropyLoss(weight=torch.tensor(mr_weights, dtype=torch.float32).to(device))\n",
    "train_loader = DataLoader(train_ds, shuffle=True, batch_size=32, collate_fn=collator)\n",
    "test_loader = DataLoader(test_ds, shuffle=False, batch_size=32, collate_fn=collator)"
   ]
  },
  {
   "cell_type": "code",
   "execution_count": 17,
   "id": "50a8d7bd-adb0-473c-b5e4-0594d0553dcc",
   "metadata": {},
   "outputs": [
    {
     "name": "stderr",
     "output_type": "stream",
     "text": [
      "Some weights of the model checkpoint at bert-base-chinese were not used when initializing BertForSequenceClassification: ['cls.seq_relationship.bias', 'cls.predictions.decoder.weight', 'cls.predictions.transform.LayerNorm.bias', 'cls.predictions.transform.dense.bias', 'cls.seq_relationship.weight', 'cls.predictions.transform.dense.weight', 'cls.predictions.transform.LayerNorm.weight', 'cls.predictions.bias']\n",
      "- This IS expected if you are initializing BertForSequenceClassification from the checkpoint of a model trained on another task or with another architecture (e.g. initializing a BertForSequenceClassification model from a BertForPreTraining model).\n",
      "- This IS NOT expected if you are initializing BertForSequenceClassification from the checkpoint of a model that you expect to be exactly identical (initializing a BertForSequenceClassification model from a BertForSequenceClassification model).\n",
      "Some weights of BertForSequenceClassification were not initialized from the model checkpoint at bert-base-chinese and are newly initialized: ['classifier.weight', 'classifier.bias']\n",
      "You should probably TRAIN this model on a down-stream task to be able to use it for predictions and inference.\n"
     ]
    }
   ],
   "source": [
    "model = BertForSequenceClassification.from_pretrained(\n",
    "            BASE_MODEL, \n",
    "            num_labels=len(mr_vocab.classes_),\n",
    "            id2label={i:x for i,x in enumerate(mr_vocab.classes_)},\n",
    "            label2id={i:x for i,x in enumerate(mr_vocab.classes_)},)\n",
    "model = model.to(device)"
   ]
  },
  {
   "cell_type": "code",
   "execution_count": 18,
   "id": "4b2609db-6490-41a3-bae2-31a8d4cda9db",
   "metadata": {},
   "outputs": [],
   "source": [
    "optimizer = optim.SGD(model.parameters(), lr=1e-3)"
   ]
  },
  {
   "cell_type": "code",
   "execution_count": 19,
   "id": "0d49dec4-8768-48f0-aed5-2a7ad2f90a95",
   "metadata": {},
   "outputs": [
    {
     "data": {
      "application/vnd.jupyter.widget-view+json": {
       "model_id": "d288424495484c1ab7e67227f40cdc4d",
       "version_major": 2,
       "version_minor": 0
      },
      "text/plain": [
       "  0%|          | 0/1260 [00:00<?, ?it/s]"
      ]
     },
     "metadata": {},
     "output_type": "display_data"
    }
   ],
   "source": [
    "\n",
    "n_epoch = 30\n",
    "train_accs = []\n",
    "eval_accs = []\n",
    "eval_losses = []\n",
    "train_losses = []\n",
    "best_eval_acc = 0\n",
    "early_stop_patience = 10\n",
    "\n",
    "n_batch = len(train_loader)\n",
    "n_iter = n_batch * n_epoch\n",
    "pbar = tqdm(total=n_iter)\n",
    "\n",
    "for _ in range(n_epoch):        \n",
    "    model.train()\n",
    "    for batch_x in train_loader:\n",
    "        batch_x.to(device)\n",
    "        pbar.update(1)\n",
    "        optimizer.zero_grad()\n",
    "        out = model(**batch_x)        \n",
    "        preds = out.logits.argmax(-1)        \n",
    "        labels = batch_x[\"labels\"]\n",
    "        loss = loss_fct(out.logits.view(-1, model.num_labels), labels.view(-1))        \n",
    "        loss.backward()\n",
    "        optimizer.step()\n",
    "        train_acc_metric(preds, labels)        \n",
    "        train_loss_metric.update(out.loss.item())    \n",
    "        \n",
    "    ## Eval loop\n",
    "    model.eval()    \n",
    "    for batch_x in test_loader:\n",
    "        with torch.no_grad():\n",
    "            batch_x.to(device)\n",
    "            out = model(**batch_x)\n",
    "            preds = out.logits.argmax(-1)\n",
    "            eval_acc_metric(preds, batch_x[\"labels\"])\n",
    "            eval_loss_metric.update(out.loss.item())        \n",
    "    \n",
    "    # Metrics\n",
    "    train_acc = train_acc_metric.compute().item()\n",
    "    eval_acc = eval_acc_metric.compute().item()\n",
    "    train_loss = train_loss_metric.compute().item()\n",
    "    eval_loss = eval_loss_metric.compute().item()\n",
    "    # print(\"Train accuracy: \", train_acc)\n",
    "    # print(\"Eval accuracy: \", eval_acc)\n",
    "    # print(\"Eval loss: \", eval_loss)\n",
    "    train_acc_metric.reset()\n",
    "    eval_acc_metric.reset()\n",
    "    eval_loss_metric.reset()\n",
    "    train_losses.append(train_loss)\n",
    "    eval_losses.append(eval_loss)\n",
    "    train_accs.append(train_acc)\n",
    "    eval_accs.append(eval_acc)\n",
    "    \n",
    "pbar.close()"
   ]
  },
  {
   "cell_type": "code",
   "execution_count": 20,
   "id": "feb26905-f0ee-4984-b223-08afa02cd20b",
   "metadata": {},
   "outputs": [
    {
     "data": {
      "text/plain": [
       "[<matplotlib.lines.Line2D at 0x7efff8087910>]"
      ]
     },
     "execution_count": 20,
     "metadata": {},
     "output_type": "execute_result"
    },
    {
     "data": {
      "image/png": "[encoded data removed]",
      "text/plain": [
       "<Figure size 432x288 with 2 Axes>"
      ]
     },
     "metadata": {
      "needs_background": "light"
     },
     "output_type": "display_data"
    }
   ],
   "source": [
    "import matplotlib.pyplot as plt\n",
    "plt.subplot(1, 2, 1)\n",
    "plt.plot(train_losses)\n",
    "plt.subplot(1, 2, 2)\n",
    "plt.plot(train_accs)\n"
   ]
  },
  {
   "cell_type": "code",
   "execution_count": 21,
   "id": "a728e0c9-5153-4ca2-a858-66900beb17f4",
   "metadata": {},
   "outputs": [
    {
     "data": {
      "text/plain": [
       "[<matplotlib.lines.Line2D at 0x7efff2297040>]"
      ]
     },
     "execution_count": 21,
     "metadata": {},
     "output_type": "execute_result"
    },
    {
     "data": {
      "image/png": "[encoded data removed]",
      "text/plain": [
       "<Figure size 432x288 with 2 Axes>"
      ]
     },
     "metadata": {
      "needs_background": "light"
     },
     "output_type": "display_data"
    }
   ],
   "source": [
    "plt.subplot(1, 2, 1)\n",
    "plt.plot(eval_losses)\n",
    "plt.subplot(1, 2, 2)\n",
    "plt.plot(eval_accs)\n"
   ]
  },
  {
   "cell_type": "markdown",
   "id": "b7d00bcb-dd61-40d7-99d8-35c03981dccc",
   "metadata": {},
   "source": [
    "## Evaluation"
   ]
  },
  {
   "cell_type": "code",
   "execution_count": 22,
   "id": "db667eea-a5a3-4015-9a1a-b0f6be72af41",
   "metadata": {},
   "outputs": [],
   "source": [
    "model.eval()    \n",
    "all_preds = []\n",
    "all_labels = sum((x[\"labels\"].tolist() for x in test_loader), [])\n",
    "for batch_x in test_loader:\n",
    "    with torch.no_grad():\n",
    "        batch_x.to(device)\n",
    "        out = model(**batch_x)\n",
    "        preds = out.logits.argmax(-1)\n",
    "        all_preds.extend(preds.cpu().tolist())\n",
    "        "
   ]
  },
  {
   "cell_type": "code",
   "execution_count": 23,
   "id": "e0867dab-ae25-4465-a9c2-51d0e671bcc5",
   "metadata": {},
   "outputs": [
    {
     "data": {
      "text/plain": [
       "(array([0, 1, 2, 3]),\n",
       " [Text(0, 0, 'AV'), Text(0, 1, 'VO'), Text(0, 2, 'VR'), Text(0, 3, 'VV')])"
      ]
     },
     "execution_count": 23,
     "metadata": {},
     "output_type": "execute_result"
    },
    {
     "data": {
      "image/png": "[encoded data removed]",
      "text/plain": [
       "<Figure size 432x288 with 2 Axes>"
      ]
     },
     "metadata": {
      "needs_background": "light"
     },
     "output_type": "display_data"
    }
   ],
   "source": [
    "ConfusionMatrixDisplay.from_predictions(all_labels, all_preds, display_labels=mr_vocab.classes_)\n",
    "plt.xticks(fontsize=16)\n",
    "plt.yticks(fontsize=16)"
   ]
  },
  {
   "cell_type": "code",
   "execution_count": 24,
   "id": "d0cff2a2-01d4-496c-811f-c5655a5f051d",
   "metadata": {},
   "outputs": [
    {
     "name": "stdout",
     "output_type": "stream",
     "text": [
      "              precision    recall  f1-score   support\n",
      "\n",
      "          AV       0.65      0.75      0.70        64\n",
      "          VO       0.80      0.86      0.83        43\n",
      "          VR       0.91      0.89      0.90       178\n",
      "          VV       0.67      0.55      0.60        51\n",
      "\n",
      "    accuracy                           0.81       336\n",
      "   macro avg       0.76      0.76      0.76       336\n",
      "weighted avg       0.81      0.81      0.81       336\n",
      "\n"
     ]
    }
   ],
   "source": [
    "print(classification_report(all_labels, all_preds, target_names=mr_vocab.classes_))"
   ]
  },
  {
   "cell_type": "markdown",
   "id": "f55d66fd-3905-4522-bccc-1ccc64917f7b",
   "metadata": {},
   "source": [
    "## Save model"
   ]
  },
  {
   "cell_type": "code",
   "execution_count": 25,
   "id": "e06c9df8-bad2-4949-9f1f-67c01277477c",
   "metadata": {},
   "outputs": [],
   "source": [
    "timestamp = datetime.now().strftime(\"%y%m%d-%H%M\")\n",
    "out_model_dir = f\"../data/models/morphen-alpha-{timestamp}\"\n",
    "model.save_pretrained(out_model_dir)"
   ]
  },
  {
   "cell_type": "markdown",
   "id": "09727509-a485-4c79-be53-53f6caea5ef9",
   "metadata": {},
   "source": [
    "## Output hash"
   ]
  },
  {
   "cell_type": "markdown",
   "id": "129f1823-6b0c-4149-abba-bf2cb038cdbd",
   "metadata": {},
   "source": [
    "```\n",
    "../data/models/morphen-alpha-220802-0840/pytorch_model.bin 0bcf54\n",
    "../data/10.02-word-split.json 7ac81e\n",
    "```"
   ]
  },
  {
   "cell_type": "code",
   "execution_count": 26,
   "id": "421b16c5-9ac9-4896-a76e-3279a3dee56c",
   "metadata": {},
   "outputs": [
    {
     "name": "stdout",
     "output_type": "stream",
     "text": [
      "../data/models/morphen-alpha-220802-0840/pytorch_model.bin 0bcf54\n",
      "../data/10.02-word-split.json 7ac81e\n"
     ]
    }
   ],
   "source": [
    "from hashlib import sha1\n",
    "from pathlib import Path\n",
    "paths = [Path(out_model_dir,\"pytorch_model.bin\"),\n",
    "         \"../data/10.02-word-split.json\"]\n",
    "for path_x in paths:\n",
    "    h = sha1()\n",
    "    h.update(Path(path_x).read_bytes())\n",
    "    print(path_x, h.hexdigest()[:6])"
   ]
  },
  {
   "cell_type": "code",
   "execution_count": null,
   "id": "67154cae-85e4-4478-91a4-14b7a76a682b",
   "metadata": {},
   "outputs": [],
   "source": []
  }
 ],
 "metadata": {
  "kernelspec": {
   "display_name": "Python 3 (ipykernel)",
   "language": "python",
   "name": "python3"
  },
  "language_info": {
   "codemirror_mode": {
    "name": "ipython",
    "version": 3
   },
   "file_extension": ".py",
   "mimetype": "text/x-python",
   "name": "python",
   "nbconvert_exporter": "python",
   "pygments_lexer": "ipython3",
   "version": "3.9.5"
  }
 },
 "nbformat": 4,
 "nbformat_minor": 5
}
