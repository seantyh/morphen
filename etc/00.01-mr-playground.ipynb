{
 "cells": [
  {
   "cell_type": "markdown",
   "id": "0880592d-92bd-45cb-9886-fcfb61f0f877",
   "metadata": {},
   "source": [
    "# MR Playground"
   ]
  },
  {
   "cell_type": "code",
   "execution_count": 1,
   "id": "d88ec01b-b1f2-404c-a4c5-440b9e05f229",
   "metadata": {},
   "outputs": [],
   "source": [
    "import torch\n",
    "from transformers import AutoTokenizer, AutoModelForSequenceClassification"
   ]
  },
  {
   "cell_type": "markdown",
   "id": "c712896f-b911-4bf5-979b-40a16e85b0ab",
   "metadata": {},
   "source": [
    "## Data dependencies"
   ]
  },
  {
   "cell_type": "code",
   "execution_count": 2,
   "id": "5110728f-6dc4-4789-b0eb-38914940ee0b",
   "metadata": {},
   "outputs": [],
   "source": [
    "model_ckpt = \"morphen-alpha-220703-0805\""
   ]
  },
  {
   "cell_type": "markdown",
   "id": "bf60cffe-65ea-4ab4-b315-03b28621b55d",
   "metadata": {},
   "source": [
    "```\n",
    "../data/models/morphen-alpha-220703-0755/pytorch_model.bin 0bcf54\n",
    "```"
   ]
  },
  {
   "cell_type": "code",
   "execution_count": 3,
   "id": "1abbe2de-8314-4c6b-b982-e65532c88802",
   "metadata": {},
   "outputs": [
    {
     "name": "stdout",
     "output_type": "stream",
     "text": [
      "../data/models/morphen-alpha-220703-0805/pytorch_model.bin 0bcf54\n"
     ]
    }
   ],
   "source": [
    "from hashlib import sha1\n",
    "from pathlib import Path\n",
    "paths = [Path(f\"../data/models/{model_ckpt}/pytorch_model.bin\")]\n",
    "for path_x in paths:\n",
    "    h = sha1()\n",
    "    h.update(Path(path_x).read_bytes())\n",
    "    print(path_x, h.hexdigest()[:6])"
   ]
  },
  {
   "cell_type": "markdown",
   "id": "9d23efc3-7eed-4447-8096-8f2bf255d5da",
   "metadata": {},
   "source": [
    "## Loading model"
   ]
  },
  {
   "cell_type": "code",
   "execution_count": 4,
   "id": "9e1600a4-a2f9-4aff-8e0d-e2699c36dcf8",
   "metadata": {},
   "outputs": [],
   "source": [
    "device = \"cuda\" \\\n",
    "         if torch.cuda.is_available and \"GeForce\" not in torch.cuda.get_device_name() \\\n",
    "         else \"cpu\"\n",
    "tokenizer = AutoTokenizer.from_pretrained(\"bert-base-chinese\", use_fast=True)\n",
    "model = AutoModelForSequenceClassification.from_pretrained(f\"../data/models/{model_ckpt}\").to(device)\n"
   ]
  },
  {
   "cell_type": "code",
   "execution_count": 7,
   "id": "0ad904c3-a170-4896-af94-4ce02f9f1952",
   "metadata": {},
   "outputs": [],
   "source": [
    "def mr(words):\n",
    "    if isinstance(words, str):\n",
    "        words = [words]\n",
    "    with torch.no_grad():\n",
    "        for word in words:\n",
    "            out = model(**(tokenizer(word, return_tensors=\"pt\").to(device)))\n",
    "            pred = out.logits.argmax(-1).item()\n",
    "            # mark = \"*\" if word in mr_data.token.values else \" \"\n",
    "            print(\"{}: {}\".format(word, model.config.id2label[pred]))\n",
    "    "
   ]
  },
  {
   "cell_type": "markdown",
   "id": "88b83159-1c49-435f-84d3-c5924cab0bb2",
   "metadata": {},
   "source": [
    "## Playground"
   ]
  },
  {
   "cell_type": "code",
   "execution_count": 15,
   "id": "226662a3-c6e7-4cd5-8edd-0cf13ab765cf",
   "metadata": {},
   "outputs": [
    {
     "name": "stdout",
     "output_type": "stream",
     "text": [
      "睡覺: VO\n",
      "充實: VR\n",
      "連動: AV\n",
      "出遊: VO\n",
      "停車: VO\n",
      "遛貓: VO\n"
     ]
    }
   ],
   "source": [
    "mr(\"睡覺 充實 連動 出遊 停車 遛貓\".split())"
   ]
  },
  {
   "cell_type": "code",
   "execution_count": null,
   "id": "228cb2c8-7c29-4f7d-ac8f-901c454d5340",
   "metadata": {},
   "outputs": [],
   "source": []
  }
 ],
 "metadata": {
  "kernelspec": {
   "display_name": "Python 3 (ipykernel)",
   "language": "python",
   "name": "python3"
  },
  "language_info": {
   "codemirror_mode": {
    "name": "ipython",
    "version": 3
   },
   "file_extension": ".py",
   "mimetype": "text/x-python",
   "name": "python",
   "nbconvert_exporter": "python",
   "pygments_lexer": "ipython3",
   "version": "3.9.5"
  }
 },
 "nbformat": 4,
 "nbformat_minor": 5
}
