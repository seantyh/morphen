{
 "cells": [
  {
   "cell_type": "code",
   "execution_count": 1,
   "id": "e77fde2e-57dd-4c71-b11f-11c8ddd7b037",
   "metadata": {},
   "outputs": [],
   "source": [
    "%load_ext autoreload\n",
    "%autoreload 2"
   ]
  },
  {
   "cell_type": "code",
   "execution_count": 2,
   "id": "98a15e54-ee68-4dca-ac47-439c481ca783",
   "metadata": {
    "tags": []
   },
   "outputs": [],
   "source": [
    "import sys\n",
    "if \"../src\" not in sys.path:\n",
    "    sys.path.append(\"../src\")"
   ]
  },
  {
   "cell_type": "code",
   "execution_count": 3,
   "id": "e51398b2-a3a7-498e-9033-bcccf46a3c29",
   "metadata": {
    "tags": []
   },
   "outputs": [],
   "source": [
    "import json\n",
    "from tqdm.auto import tqdm\n",
    "from itertools import islice\n",
    "from datetime import datetime\n",
    "from collections import Counter\n",
    "from dataclasses import dataclass\n",
    "\n",
    "import joblib\n",
    "import numpy as np\n",
    "import pandas as pd\n",
    "from gensim.models import KeyedVectors\n",
    "from sklearn.discriminant_analysis import LinearDiscriminantAnalysis\n",
    "from sklearn.metrics import accuracy_score\n",
    "from sklearn.preprocessing import MinMaxScaler\n",
    "\n",
    "import torch\n",
    "from torch.utils.data import Dataset, DataLoader\n",
    "import transformers\n",
    "from transformers import BertModel, BertPreTrainedModel, BertConfig, BertTokenizerFast\n",
    "from morphen.delta_classifier import (\n",
    "    get_delta_vec,\n",
    "    feature_extraction_with_key,\n",
    "    )\n",
    "transformers.set_seed(1234)"
   ]
  },
  {
   "cell_type": "markdown",
   "id": "68ef8b12-1d64-42ab-be50-b0b73983d3e4",
   "metadata": {},
   "source": [
    "## Data dependencies"
   ]
  },
  {
   "cell_type": "markdown",
   "id": "e9b5c34a-1a25-45a6-89b7-a12e76963dd9",
   "metadata": {},
   "source": [
    "```\n",
    "../data/verb_morpho.csv 15c7c1\n",
    "../data/10.02-word-split.json 7ac81e\n",
    "../data/delta_tenc_d200_biwords.bin 04e3f4\n",
    "```"
   ]
  },
  {
   "cell_type": "code",
   "execution_count": 4,
   "id": "959a0868-4c93-441e-ae63-3abd259c57a4",
   "metadata": {
    "tags": []
   },
   "outputs": [
    {
     "name": "stdout",
     "output_type": "stream",
     "text": [
      "../data/verb_morpho.csv 15c7c1\n",
      "../data/10.02-word-split.json 7ac81e\n",
      "../data/delta_tenc_d200_biwords.bin 04e3f4\n"
     ]
    }
   ],
   "source": [
    "from hashlib import sha1\n",
    "from pathlib import Path\n",
    "paths = [\"../data/verb_morpho.csv\",          \n",
    "         \"../data/10.02-word-split.json\",\n",
    "         \"../data/delta_tenc_d200_biwords.bin\"]\n",
    "for path_x in paths:\n",
    "    h = sha1()\n",
    "    h.update(Path(path_x).read_bytes())\n",
    "    print(path_x, h.hexdigest()[:6])"
   ]
  },
  {
   "cell_type": "markdown",
   "id": "29e6bd28-6da7-4d26-84d5-a14ff02923c2",
   "metadata": {},
   "source": [
    "## Load dependencies"
   ]
  },
  {
   "cell_type": "code",
   "execution_count": 5,
   "id": "a914484b-0f7b-4098-a968-ec6bb4c68991",
   "metadata": {
    "tags": []
   },
   "outputs": [],
   "source": [
    "mr_data = pd.read_csv(\"../data/verb_morpho.csv\", index_col=0)\n",
    "kv = KeyedVectors.load_word2vec_format(\"../data/delta_tenc_d200_biwords.bin\", binary=True)\n",
    "with open(\"../data/10.02-word-split.json\", \"r\", encoding=\"UTF-8\") as fin:\n",
    "    word_split = json.load(fin)"
   ]
  },
  {
   "cell_type": "markdown",
   "id": "18ad02ee-0679-4476-81c2-d2d0292a6055",
   "metadata": {},
   "source": [
    "## Make dataset"
   ]
  },
  {
   "cell_type": "code",
   "execution_count": 6,
   "id": "1c2444c7-5a8f-4da0-8189-378d97f7cdee",
   "metadata": {
    "tags": []
   },
   "outputs": [
    {
     "data": {
      "text/html": [
       "<div>\n",
       "<style scoped>\n",
       "    .dataframe tbody tr th:only-of-type {\n",
       "        vertical-align: middle;\n",
       "    }\n",
       "\n",
       "    .dataframe tbody tr th {\n",
       "        vertical-align: top;\n",
       "    }\n",
       "\n",
       "    .dataframe thead th {\n",
       "        text-align: right;\n",
       "    }\n",
       "</style>\n",
       "<table border=\"1\" class=\"dataframe\">\n",
       "  <thead>\n",
       "    <tr style=\"text-align: right;\">\n",
       "      <th></th>\n",
       "      <th>token</th>\n",
       "      <th>token_simp</th>\n",
       "      <th>source</th>\n",
       "      <th>ASBC</th>\n",
       "      <th>Apple (2006-2016)</th>\n",
       "      <th>China (2015-2016)</th>\n",
       "      <th>Dcard (2019-2020)</th>\n",
       "      <th>PTT (2004-2019)</th>\n",
       "      <th>MorphoSyntax</th>\n",
       "    </tr>\n",
       "  </thead>\n",
       "  <tbody>\n",
       "    <tr>\n",
       "      <th>4073</th>\n",
       "      <td>丟來</td>\n",
       "      <td>丢来</td>\n",
       "      <td>Corpus</td>\n",
       "      <td>1.0</td>\n",
       "      <td>5.0</td>\n",
       "      <td>5.0</td>\n",
       "      <td>1.0</td>\n",
       "      <td>0.0</td>\n",
       "      <td>VR</td>\n",
       "    </tr>\n",
       "  </tbody>\n",
       "</table>\n",
       "</div>"
      ],
      "text/plain": [
       "     token token_simp  source  ASBC  Apple (2006-2016)  China (2015-2016)  \\\n",
       "4073    丟來         丢来  Corpus   1.0                5.0                5.0   \n",
       "\n",
       "      Dcard (2019-2020)  PTT (2004-2019) MorphoSyntax  \n",
       "4073                1.0              0.0           VR  "
      ]
     },
     "execution_count": 6,
     "metadata": {},
     "output_type": "execute_result"
    }
   ],
   "source": [
    "mr_data.iloc[:1, ]"
   ]
  },
  {
   "cell_type": "code",
   "execution_count": 7,
   "id": "2aed72bb-af91-406d-beef-2103f01056a8",
   "metadata": {},
   "outputs": [],
   "source": [
    "## for compatibility with 20.11 and morphen/delta_classifier:feature_extraction\n",
    "mr_data = mr_data.assign(token_key=mr_data.token)"
   ]
  },
  {
   "cell_type": "code",
   "execution_count": 8,
   "id": "cd5c00af-fe88-4b93-8e86-f3ad55d26cde",
   "metadata": {},
   "outputs": [
    {
     "data": {
      "text/plain": [
       "(1676, 10)"
      ]
     },
     "execution_count": 8,
     "metadata": {},
     "output_type": "execute_result"
    }
   ],
   "source": [
    "mr_data.shape"
   ]
  },
  {
   "cell_type": "markdown",
   "id": "88b7b6e9-3eaa-4b98-b2a9-34ba481de04a",
   "metadata": {},
   "source": [
    "## Delta machine"
   ]
  },
  {
   "cell_type": "code",
   "execution_count": 9,
   "id": "316da154-aedc-4519-a041-753fdcecc3e1",
   "metadata": {},
   "outputs": [],
   "source": [
    "tokenizer = BertTokenizerFast.from_pretrained(\"bert-base-chinese\")\n",
    "config = BertConfig.from_pretrained(\"bert-base-chinese\")"
   ]
  },
  {
   "cell_type": "code",
   "execution_count": 10,
   "id": "60d639c9-688a-4fb6-9687-93d7059c6bfa",
   "metadata": {},
   "outputs": [],
   "source": [
    "mr_data_train = mr_data.loc[mr_data.token.isin(word_split[\"train\"]),:]\n",
    "mr_data_test = mr_data.loc[mr_data.token.isin(word_split[\"test\"]),:]"
   ]
  },
  {
   "cell_type": "code",
   "execution_count": 11,
   "id": "d01c251c-193d-4df6-be37-d2f841942c6a",
   "metadata": {},
   "outputs": [],
   "source": [
    "mr_train_entries = mr_data_train.to_dict(orient='records')\n",
    "mr_test_entries = mr_data_test.to_dict(orient='records')"
   ]
  },
  {
   "cell_type": "code",
   "execution_count": 12,
   "id": "8ad31ff9-73c3-4b78-a6f8-834890513298",
   "metadata": {},
   "outputs": [],
   "source": [
    "trainX, trainW, trainY = feature_extraction_with_key(\"c1+c2\", mr_train_entries, kv)\n",
    "testX, testW, testY = feature_extraction_with_key(\"c1+c2\", mr_test_entries, kv)"
   ]
  },
  {
   "cell_type": "code",
   "execution_count": 13,
   "id": "5d264c7a-f259-4886-a4aa-7ae7f4adf846",
   "metadata": {},
   "outputs": [
    {
     "data": {
      "text/plain": [
       "((1240, 400), (304, 400))"
      ]
     },
     "execution_count": 13,
     "metadata": {},
     "output_type": "execute_result"
    }
   ],
   "source": [
    "trainX.shape, testX.shape"
   ]
  },
  {
   "cell_type": "code",
   "execution_count": 14,
   "id": "0f3c479c-6f9d-42fb-b811-6febfe3bfcc9",
   "metadata": {},
   "outputs": [],
   "source": [
    "# https://github.com/scikit-learn/scikit-learn/blob/36958fb240fbe435673a9e3c52e769f01f36bec0/sklearn/linear_model/_base.py#L408\n",
    "# scores = safe_sparse_dot(X, self.coef_.T, dense_output=True) + self.intercept_\n",
    "# return scores.ravel() if scores.shape[1] == 1 else scores\n",
    "# --\n",
    "# https://github.com/scikit-learn/scikit-learn/blob/36958fb240fbe435673a9e3c52e769f01f36bec0/sklearn/discriminant_analysis.py#L944\n",
    "# d = self._decision_function(X)\n",
    "# y_pred = self.classes_.take(d.argmax(1))"
   ]
  },
  {
   "cell_type": "code",
   "execution_count": 15,
   "id": "52e0bffc-a18f-4dc2-8d91-de4fd501b299",
   "metadata": {},
   "outputs": [
    {
     "name": "stdout",
     "output_type": "stream",
     "text": [
      "0.7138157894736842\n"
     ]
    }
   ],
   "source": [
    "lda = LinearDiscriminantAnalysis()\n",
    "scaler = MinMaxScaler()\n",
    "trainX = scaler.fit_transform(trainX)\n",
    "testX = scaler.transform(testX)\n",
    "lda.fit(trainX, trainY)\n",
    "print(lda.score(testX, testY))\n",
    "coef = lda.coef_\n",
    "b = lda.intercept_"
   ]
  },
  {
   "cell_type": "code",
   "execution_count": 16,
   "id": "0df1fbdb-dece-49a0-9962-b76c3dd00193",
   "metadata": {},
   "outputs": [],
   "source": [
    "import torch.nn as nn\n",
    "import torch.optim as optim\n",
    "import torch.nn.functional as F\n",
    "import matplotlib.pyplot as plt"
   ]
  },
  {
   "cell_type": "code",
   "execution_count": 17,
   "id": "75cd6e1d-1208-437f-88dd-9a72fd7178a7",
   "metadata": {},
   "outputs": [],
   "source": [
    "class MrDataset(Dataset):\n",
    "    def __init__(self, vecs, words, labels):\n",
    "        assert vecs.shape[0] == len(words) == len(labels)\n",
    "        self.vecs = vecs\n",
    "        self.words = words\n",
    "        self.labels = labels\n",
    "        \n",
    "    def __len__(self):\n",
    "        return len(self.words)\n",
    "    \n",
    "    def __getitem__(self, idx):\n",
    "        return (self.vecs[idx,:], self.words[idx], self.labels[idx])\n",
    "    "
   ]
  },
  {
   "cell_type": "code",
   "execution_count": 18,
   "id": "2ce76fca-3ffe-44d8-87fa-5c8529f09fbf",
   "metadata": {},
   "outputs": [],
   "source": [
    "train_ds = MrDataset(trainX, trainW, trainY)\n",
    "test_ds = MrDataset(testX, testW, testY)"
   ]
  },
  {
   "cell_type": "code",
   "execution_count": 19,
   "id": "28a2ea45-1c33-449a-8034-dd982ab8a94c",
   "metadata": {},
   "outputs": [],
   "source": [
    "label_map = {x: i for i, x in enumerate(lda.classes_)}\n",
    "def collate_fn(X):\n",
    "    vecs = np.vstack([x[0] for x in X])\n",
    "    vecs = torch.tensor(vecs).float()\n",
    "    labels = torch.tensor([label_map[x[2]] for x in X]).long()\n",
    "    words = tokenizer([x[1] for x in X], return_tensors=\"pt\")\n",
    "    return vecs, words, labels"
   ]
  },
  {
   "cell_type": "code",
   "execution_count": 20,
   "id": "8d84cc06-4408-428b-9736-4a818abefa59",
   "metadata": {},
   "outputs": [],
   "source": [
    "train_loader = DataLoader(train_ds, batch_size=8, collate_fn=collate_fn, shuffle=True)\n",
    "test_loader = DataLoader(test_ds, batch_size=16, collate_fn=collate_fn, shuffle=False)"
   ]
  },
  {
   "cell_type": "code",
   "execution_count": 21,
   "id": "16d60790-1b3d-439c-821c-9dc45a413e80",
   "metadata": {},
   "outputs": [],
   "source": [
    "class EpsilonMachine(BertPreTrainedModel):\n",
    "    def __init__(self, config, lda_coef, lda_b):        \n",
    "        super().__init__(config)        \n",
    "        self.bert = BertModel(config)\n",
    "        self.fn1 = nn.Linear(config.hidden_size, 400)\n",
    "        self.register_buffer('lda_coef', lda_coef)\n",
    "        self.register_buffer('lda_b', lda_b)\n",
    "        \n",
    "    def forward(self, Xtokens, Xvecs, labels=None):\n",
    "        Xtokens = Xtokens.to(self.device)\n",
    "        Xvecs = Xvecs.to(self.device)\n",
    "        if labels is not None:\n",
    "            labels = labels.to(self.device)\n",
    "        h = self.bert(**Xtokens).pooler_output\n",
    "        eps = self.fn1(h)\n",
    "        vhat = Xvecs + eps        \n",
    "        lda_logits = vhat.matmul(self.lda_coef.t()) + self.lda_b        \n",
    "        if labels is not None:\n",
    "            loss =  F.cross_entropy(lda_logits, labels)\n",
    "            return eps, loss\n",
    "        return eps, None\n",
    "        "
   ]
  },
  {
   "cell_type": "code",
   "execution_count": 22,
   "id": "69e20e5a-9012-41a7-82fa-2678b3a65771",
   "metadata": {},
   "outputs": [
    {
     "name": "stderr",
     "output_type": "stream",
     "text": [
      "Some weights of the model checkpoint at bert-base-chinese were not used when initializing EpsilonMachine: ['cls.predictions.transform.LayerNorm.weight', 'cls.predictions.bias', 'cls.predictions.decoder.weight', 'cls.predictions.transform.dense.weight', 'cls.predictions.transform.dense.bias', 'cls.seq_relationship.weight', 'cls.predictions.transform.LayerNorm.bias', 'cls.seq_relationship.bias']\n",
      "- This IS expected if you are initializing EpsilonMachine from the checkpoint of a model trained on another task or with another architecture (e.g. initializing a BertForSequenceClassification model from a BertForPreTraining model).\n",
      "- This IS NOT expected if you are initializing EpsilonMachine from the checkpoint of a model that you expect to be exactly identical (initializing a BertForSequenceClassification model from a BertForSequenceClassification model).\n",
      "Some weights of EpsilonMachine were not initialized from the model checkpoint at bert-base-chinese and are newly initialized: ['fn1.weight', 'lda_b', 'lda_coef', 'fn1.bias']\n",
      "You should probably TRAIN this model on a down-stream task to be able to use it for predictions and inference.\n"
     ]
    }
   ],
   "source": [
    "transformers.set_seed(3125)\n",
    "torch.manual_seed(3125)\n",
    "device = \"cuda\" if torch.cuda.is_available() else \"cpu\"\n",
    "model = EpsilonMachine.from_pretrained('bert-base-chinese', \n",
    "                                       torch.tensor(coef).float().to(device), \n",
    "                                       torch.tensor(b).float().to(device)).to(device)"
   ]
  },
  {
   "cell_type": "code",
   "execution_count": 23,
   "id": "6676aaa9-10e3-42ca-b95c-9dbcf621daa8",
   "metadata": {},
   "outputs": [],
   "source": [
    "loss_vec = []\n",
    "train_acc = []\n",
    "test_acc = []\n",
    "acc_xs = []\n",
    "optimizer = optim.SGD(model.parameters(), lr=5e-5)"
   ]
  },
  {
   "cell_type": "code",
   "execution_count": 24,
   "id": "dfe0395d-0e8e-470b-839a-a05e8ba9d639",
   "metadata": {},
   "outputs": [
    {
     "data": {
      "application/vnd.jupyter.widget-view+json": {
       "model_id": "5cc405685cbd491bac35a7948402a5e8",
       "version_major": 2,
       "version_minor": 0
      },
      "text/plain": [
       "  0%|          | 0/10 [00:00<?, ?it/s]"
      ]
     },
     "metadata": {},
     "output_type": "display_data"
    }
   ],
   "source": [
    "\n",
    "for epoch_i in tqdm(range(10)):    \n",
    "    train_Xhat = []\n",
    "    train_labels = []\n",
    "    test_Xhat = []\n",
    "    loss_epoch = []\n",
    "    for batchX, batchW, batchY in train_loader:    \n",
    "        optimizer.zero_grad()\n",
    "        batch_eps, loss = model(batchW, batchX, batchY)\n",
    "        train_Xhat.append(batchX+batch_eps.cpu())\n",
    "        train_labels.append(batchY)\n",
    "        loss.backward()\n",
    "        optimizer.step()\n",
    "        loss_epoch.append(loss.item())\n",
    "    \n",
    "    loss_vec.append(np.mean(loss_epoch))        \n",
    "    \n",
    "    train_Xhat = torch.vstack(train_Xhat).detach().numpy()\n",
    "    train_labels = [lda.classes_[x] for x in torch.concat(train_labels).numpy()]    \n",
    "    train_acc.append(lda.score(train_Xhat, train_labels))\n",
    "    \n",
    "    ## Validation\n",
    "    for batchX, batchW, batchY in test_loader:        \n",
    "        with torch.no_grad():    \n",
    "            batch_eps, _ = model(batchW, batchX)        \n",
    "            test_Xhat.append(batchX+batch_eps.cpu())\n",
    "    test_Xhat = torch.vstack(test_Xhat).detach().numpy()        \n",
    "    test_acc.append(lda.score(test_Xhat, testY))    "
   ]
  },
  {
   "cell_type": "code",
   "execution_count": 25,
   "id": "eab4941e-c066-4e36-9762-6e0eac738456",
   "metadata": {},
   "outputs": [
    {
     "data": {
      "text/plain": [
       "[<matplotlib.lines.Line2D at 0x7fb3b4146610>]"
      ]
     },
     "execution_count": 25,
     "metadata": {},
     "output_type": "execute_result"
    },
    {
     "data": {
      "image/png": "[encoded data removed]",
      "text/plain": [
       "<Figure size 432x288 with 1 Axes>"
      ]
     },
     "metadata": {
      "needs_background": "light"
     },
     "output_type": "display_data"
    }
   ],
   "source": [
    "plt.plot(loss_vec)"
   ]
  },
  {
   "cell_type": "code",
   "execution_count": 26,
   "id": "1374cd77-c2f7-4254-88da-6f845fd910c4",
   "metadata": {},
   "outputs": [
    {
     "data": {
      "text/plain": [
       "[<matplotlib.lines.Line2D at 0x7fb3b40396d0>]"
      ]
     },
     "execution_count": 26,
     "metadata": {},
     "output_type": "execute_result"
    },
    {
     "data": {
      "image/png": "[encoded data removed]",
      "text/plain": [
       "<Figure size 432x288 with 1 Axes>"
      ]
     },
     "metadata": {
      "needs_background": "light"
     },
     "output_type": "display_data"
    }
   ],
   "source": [
    "plt.plot(train_acc)\n",
    "plt.plot(test_acc)"
   ]
  },
  {
   "cell_type": "code",
   "execution_count": 27,
   "id": "b44eb387-2f38-41a9-a7ed-134adfd42149",
   "metadata": {},
   "outputs": [
    {
     "data": {
      "text/plain": [
       "0.7960526315789473"
      ]
     },
     "execution_count": 27,
     "metadata": {},
     "output_type": "execute_result"
    }
   ],
   "source": [
    "test_acc[-1]"
   ]
  },
  {
   "cell_type": "code",
   "execution_count": 28,
   "id": "c018a9e5-8a1a-4914-a126-87edf8b1b6d5",
   "metadata": {},
   "outputs": [],
   "source": [
    "model.save_pretrained(\"../data/models/eps_bert_220918\")"
   ]
  },
  {
   "cell_type": "code",
   "execution_count": 33,
   "id": "417e25fe-3496-47be-be05-7c9f6d44e797",
   "metadata": {},
   "outputs": [
    {
     "data": {
      "text/plain": [
       "['../data/models/lda_mr_c1c2.joblib']"
      ]
     },
     "execution_count": 33,
     "metadata": {},
     "output_type": "execute_result"
    }
   ],
   "source": [
    "joblib.dump(lda, \"../data/models/lda_mr_c1c2.joblib\")"
   ]
  },
  {
   "cell_type": "markdown",
   "id": "1ad08339-3e08-4367-a87a-3c9b102a0954",
   "metadata": {},
   "source": [
    "## Results"
   ]
  },
  {
   "cell_type": "code",
   "execution_count": 29,
   "id": "6eb59b0e-437f-445b-8754-cb4088002cc7",
   "metadata": {},
   "outputs": [],
   "source": [
    "train_loader_res = DataLoader(train_ds, batch_size=16, collate_fn=collate_fn, shuffle=False)\n",
    "test_loader_res = DataLoader(test_ds, batch_size=16, collate_fn=collate_fn, shuffle=False)"
   ]
  },
  {
   "cell_type": "code",
   "execution_count": 30,
   "id": "9157b59f-ed6d-46ec-a2ff-4e45e4e411d7",
   "metadata": {},
   "outputs": [
    {
     "data": {
      "application/vnd.jupyter.widget-view+json": {
       "model_id": "82e0aa90e0ad4232b33f4c44aff9b26f",
       "version_major": 2,
       "version_minor": 0
      },
      "text/plain": [
       "  0%|          | 0/78 [00:00<?, ?it/s]"
      ]
     },
     "metadata": {},
     "output_type": "display_data"
    },
    {
     "data": {
      "application/vnd.jupyter.widget-view+json": {
       "model_id": "c4ea1fa087e54acb97364eb8979d4596",
       "version_major": 2,
       "version_minor": 0
      },
      "text/plain": [
       "  0%|          | 0/19 [00:00<?, ?it/s]"
      ]
     },
     "metadata": {},
     "output_type": "display_data"
    },
    {
     "name": "stdout",
     "output_type": "stream",
     "text": [
      "[Train] origin:  0.9330645161290323\n",
      "[Train] origin+eps:  1.0\n",
      "[Test] origin:  0.7138157894736842\n",
      "[Test] origin+eps:  0.7960526315789473\n"
     ]
    }
   ],
   "source": [
    "train_Xhat = []\n",
    "train_eps = []\n",
    "test_Xhat = []\n",
    "test_eps = []\n",
    "for batchX, batchW, batchY in tqdm(train_loader_res):        \n",
    "    with torch.no_grad():    \n",
    "        batch_eps, _ = model(batchW, batchX)        \n",
    "        train_Xhat.append(batchX+batch_eps.cpu())\n",
    "        train_eps.append(batch_eps.cpu())\n",
    "train_Xhat = torch.vstack(train_Xhat).detach().numpy()        \n",
    "train_eps = torch.vstack(train_eps).detach().numpy()\n",
    "\n",
    "for batchX, batchW, batchY in tqdm(test_loader_res):        \n",
    "    with torch.no_grad():    \n",
    "        batch_eps, _ = model(batchW, batchX)        \n",
    "        test_Xhat.append(batchX+batch_eps.cpu())\n",
    "        test_eps.append(batch_eps.cpu())\n",
    "test_Xhat = torch.vstack(test_Xhat).detach().numpy()        \n",
    "test_eps = torch.vstack(test_eps).detach().numpy()\n",
    "\n",
    "print(\"[Train] origin: \", lda.score(trainX, trainY))\n",
    "print(\"[Train] origin+eps: \", lda.score(train_Xhat, trainY))\n",
    "print(\"[Test] origin: \", lda.score(testX, testY))\n",
    "print(\"[Test] origin+eps: \", lda.score(test_Xhat, testY))"
   ]
  },
  {
   "cell_type": "code",
   "execution_count": 31,
   "id": "7228ca93-ec42-410d-88fa-4209899d66c3",
   "metadata": {},
   "outputs": [],
   "source": [
    "## Save Training data\n",
    "eps_bert_train = []\n",
    "for i in range(len(train_ds)):\n",
    "    vec, word, mr = train_ds[i]\n",
    "    entry = {\n",
    "        \"word\": word,\n",
    "        \"vec\": vec,\n",
    "        \"mr\": mr,\n",
    "        \"eps\": train_eps[i]\n",
    "    }\n",
    "    eps_bert_train.append(entry)\n",
    "joblib.dump(eps_bert_train, \"../data/eps_bert_train.joblib\")\n",
    "\n",
    "\n",
    "## Save Testing data\n",
    "eps_bert_test = []\n",
    "for i in range(len(test_ds)):\n",
    "    vec, word, mr = test_ds[i]\n",
    "    entry = {\n",
    "        \"word\": word,\n",
    "        \"vec\": vec,\n",
    "        \"mr\": mr,\n",
    "        \"eps\": test_eps[i]\n",
    "    }\n",
    "    eps_bert_test.append(entry)\n",
    "_ = joblib.dump(eps_bert_test, \"../data/eps_bert_test.joblib\")"
   ]
  },
  {
   "cell_type": "markdown",
   "id": "ea164666-e9e0-4c42-ade5-19cce749a9ec",
   "metadata": {},
   "source": [
    "## Output Hashes"
   ]
  },
  {
   "cell_type": "markdown",
   "id": "176851d9-99bf-4821-a014-35bfdcbea047",
   "metadata": {},
   "source": [
    "```\n",
    "../data/eps_bert_train.joblib dd9525\n",
    "../data/eps_bert_test.joblib 555b05\n",
    "../data/models/lda_mr_c1c2.joblib 7e558a\n",
    "```"
   ]
  },
  {
   "cell_type": "code",
   "execution_count": 34,
   "id": "ca9fe6ef-4557-448d-ae0a-ceb62d6437c8",
   "metadata": {},
   "outputs": [
    {
     "name": "stdout",
     "output_type": "stream",
     "text": [
      "../data/eps_bert_train.joblib dd9525\n",
      "../data/eps_bert_test.joblib 555b05\n",
      "../data/models/lda_mr_c1c2.joblib 7e558a\n"
     ]
    }
   ],
   "source": [
    "output_paths = [\"../data/eps_bert_train.joblib\", \n",
    "                \"../data/eps_bert_test.joblib\", \n",
    "                \"../data/models/lda_mr_c1c2.joblib\"]\n",
    "from hashlib import sha1\n",
    "for path_x in output_paths:\n",
    "    h = sha1()\n",
    "    h.update(Path(path_x).read_bytes())\n",
    "    print(path_x, h.hexdigest()[:6])"
   ]
  },
  {
   "cell_type": "code",
   "execution_count": null,
   "id": "cf4b1804-c227-4ad1-8a92-5b8ab1c6aa45",
   "metadata": {},
   "outputs": [],
   "source": []
  },
  {
   "cell_type": "code",
   "execution_count": null,
   "id": "17a53d58-3924-4bc6-b46b-dd836a41bac6",
   "metadata": {},
   "outputs": [],
   "source": []
  }
 ],
 "metadata": {
  "kernelspec": {
   "display_name": "Python 3 (ipykernel)",
   "language": "python",
   "name": "python3"
  },
  "language_info": {
   "codemirror_mode": {
    "name": "ipython",
    "version": 3
   },
   "file_extension": ".py",
   "mimetype": "text/x-python",
   "name": "python",
   "nbconvert_exporter": "python",
   "pygments_lexer": "ipython3",
   "version": "3.9.5"
  }
 },
 "nbformat": 4,
 "nbformat_minor": 5
}
