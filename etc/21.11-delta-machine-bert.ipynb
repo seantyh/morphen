{
 "cells": [
  {
   "cell_type": "code",
   "execution_count": 1,
   "id": "e77fde2e-57dd-4c71-b11f-11c8ddd7b037",
   "metadata": {},
   "outputs": [],
   "source": [
    "%load_ext autoreload\n",
    "%autoreload 2"
   ]
  },
  {
   "cell_type": "code",
   "execution_count": 2,
   "id": "98a15e54-ee68-4dca-ac47-439c481ca783",
   "metadata": {
    "tags": []
   },
   "outputs": [],
   "source": [
    "import sys\n",
    "if \"../src\" not in sys.path:\n",
    "    sys.path.append(\"../src\")"
   ]
  },
  {
   "cell_type": "code",
   "execution_count": 16,
   "id": "e51398b2-a3a7-498e-9033-bcccf46a3c29",
   "metadata": {
    "tags": []
   },
   "outputs": [],
   "source": [
    "import json\n",
    "from tqdm.auto import tqdm\n",
    "from itertools import islice\n",
    "from datetime import datetime\n",
    "from collections import Counter\n",
    "from dataclasses import dataclass\n",
    "import textwrap\n",
    "\n",
    "import numpy as np\n",
    "import pandas as pd\n",
    "from gensim.models import KeyedVectors\n",
    "from sklearn.discriminant_analysis import LinearDiscriminantAnalysis\n",
    "from sklearn.metrics import accuracy_score\n",
    "from sklearn.preprocessing import LabelEncoder, MinMaxScaler\n",
    "from sklearn.metrics import classification_report\n",
    "\n",
    "import torch\n",
    "from torch.utils.data import Dataset, DataLoader\n",
    "from transformers import BertModel, BertPreTrainedModel, BertConfig, BertTokenizerFast\n",
    "from morphen.delta_classifier import (\n",
    "    get_delta_vec,\n",
    "    feature_extraction_with_key,\n",
    "    estimate_lda,\n",
    "    estimate_tree)\n",
    "output_paths = []"
   ]
  },
  {
   "cell_type": "markdown",
   "id": "68ef8b12-1d64-42ab-be50-b0b73983d3e4",
   "metadata": {},
   "source": [
    "## Data dependencies"
   ]
  },
  {
   "cell_type": "markdown",
   "id": "e9b5c34a-1a25-45a6-89b7-a12e76963dd9",
   "metadata": {},
   "source": [
    "```\n",
    "../data/verb_morpho.csv 15c7c1\n",
    "../data/10.02-word-split.json 7ac81e\n",
    "../data/delta_tenc_d200_biwords.bin 04e3f4\n",
    "```"
   ]
  },
  {
   "cell_type": "code",
   "execution_count": 4,
   "id": "959a0868-4c93-441e-ae63-3abd259c57a4",
   "metadata": {
    "tags": []
   },
   "outputs": [
    {
     "name": "stdout",
     "output_type": "stream",
     "text": [
      "../data/verb_morpho.csv 15c7c1\n",
      "../data/10.02-word-split.json 7ac81e\n",
      "../data/delta_tenc_d200_biwords.bin 04e3f4\n"
     ]
    }
   ],
   "source": [
    "from hashlib import sha1\n",
    "from pathlib import Path\n",
    "paths = [\"../data/verb_morpho.csv\",          \n",
    "         \"../data/10.02-word-split.json\",\n",
    "         \"../data/delta_tenc_d200_biwords.bin\"]\n",
    "for path_x in paths:\n",
    "    h = sha1()\n",
    "    h.update(Path(path_x).read_bytes())\n",
    "    print(path_x, h.hexdigest()[:6])"
   ]
  },
  {
   "cell_type": "markdown",
   "id": "29e6bd28-6da7-4d26-84d5-a14ff02923c2",
   "metadata": {},
   "source": [
    "## Load dependencies"
   ]
  },
  {
   "cell_type": "code",
   "execution_count": 5,
   "id": "a914484b-0f7b-4098-a968-ec6bb4c68991",
   "metadata": {
    "tags": []
   },
   "outputs": [],
   "source": [
    "mr_data = pd.read_csv(\"../data/verb_morpho.csv\", index_col=0)\n",
    "kv = KeyedVectors.load_word2vec_format(\"../data/delta_tenc_d200_biwords.bin\", binary=True)\n",
    "with open(\"../data/10.02-word-split.json\", \"r\", encoding=\"UTF-8\") as fin:\n",
    "    word_split = json.load(fin)"
   ]
  },
  {
   "cell_type": "markdown",
   "id": "18ad02ee-0679-4476-81c2-d2d0292a6055",
   "metadata": {},
   "source": [
    "## Make dataset"
   ]
  },
  {
   "cell_type": "code",
   "execution_count": 6,
   "id": "1c2444c7-5a8f-4da0-8189-378d97f7cdee",
   "metadata": {
    "tags": []
   },
   "outputs": [
    {
     "data": {
      "text/html": [
       "<div>\n",
       "<style scoped>\n",
       "    .dataframe tbody tr th:only-of-type {\n",
       "        vertical-align: middle;\n",
       "    }\n",
       "\n",
       "    .dataframe tbody tr th {\n",
       "        vertical-align: top;\n",
       "    }\n",
       "\n",
       "    .dataframe thead th {\n",
       "        text-align: right;\n",
       "    }\n",
       "</style>\n",
       "<table border=\"1\" class=\"dataframe\">\n",
       "  <thead>\n",
       "    <tr style=\"text-align: right;\">\n",
       "      <th></th>\n",
       "      <th>token</th>\n",
       "      <th>token_simp</th>\n",
       "      <th>source</th>\n",
       "      <th>ASBC</th>\n",
       "      <th>Apple (2006-2016)</th>\n",
       "      <th>China (2015-2016)</th>\n",
       "      <th>Dcard (2019-2020)</th>\n",
       "      <th>PTT (2004-2019)</th>\n",
       "      <th>MorphoSyntax</th>\n",
       "    </tr>\n",
       "  </thead>\n",
       "  <tbody>\n",
       "    <tr>\n",
       "      <th>4073</th>\n",
       "      <td>丟來</td>\n",
       "      <td>丢来</td>\n",
       "      <td>Corpus</td>\n",
       "      <td>1.0</td>\n",
       "      <td>5.0</td>\n",
       "      <td>5.0</td>\n",
       "      <td>1.0</td>\n",
       "      <td>0.0</td>\n",
       "      <td>VR</td>\n",
       "    </tr>\n",
       "  </tbody>\n",
       "</table>\n",
       "</div>"
      ],
      "text/plain": [
       "     token token_simp  source  ASBC  Apple (2006-2016)  China (2015-2016)  \\\n",
       "4073    丟來         丢来  Corpus   1.0                5.0                5.0   \n",
       "\n",
       "      Dcard (2019-2020)  PTT (2004-2019) MorphoSyntax  \n",
       "4073                1.0              0.0           VR  "
      ]
     },
     "execution_count": 6,
     "metadata": {},
     "output_type": "execute_result"
    }
   ],
   "source": [
    "mr_data.iloc[:1, ]"
   ]
  },
  {
   "cell_type": "code",
   "execution_count": 7,
   "id": "2aed72bb-af91-406d-beef-2103f01056a8",
   "metadata": {},
   "outputs": [],
   "source": [
    "## for compatibility with 20.11 and morphen/delta_classifier:feature_extraction\n",
    "mr_data = mr_data.assign(token_key=mr_data.token)"
   ]
  },
  {
   "cell_type": "code",
   "execution_count": 8,
   "id": "cd5c00af-fe88-4b93-8e86-f3ad55d26cde",
   "metadata": {},
   "outputs": [
    {
     "data": {
      "text/plain": [
       "(1676, 10)"
      ]
     },
     "execution_count": 8,
     "metadata": {},
     "output_type": "execute_result"
    }
   ],
   "source": [
    "mr_data.shape"
   ]
  },
  {
   "cell_type": "markdown",
   "id": "88b7b6e9-3eaa-4b98-b2a9-34ba481de04a",
   "metadata": {},
   "source": [
    "## Delta machine"
   ]
  },
  {
   "cell_type": "code",
   "execution_count": 9,
   "id": "316da154-aedc-4519-a041-753fdcecc3e1",
   "metadata": {},
   "outputs": [],
   "source": [
    "tokenizer = BertTokenizerFast.from_pretrained(\"D:/LargeFiles/bert-base-chinese\")\n",
    "config = BertConfig.from_pretrained(\"D:/LargeFiles/bert-base-chinese\")"
   ]
  },
  {
   "cell_type": "code",
   "execution_count": 13,
   "id": "60d639c9-688a-4fb6-9687-93d7059c6bfa",
   "metadata": {},
   "outputs": [],
   "source": [
    "mr_data_train = mr_data.loc[mr_data.token.isin(word_split[\"train\"]),:]\n",
    "mr_data_test = mr_data.loc[mr_data.token.isin(word_split[\"test\"]),:]"
   ]
  },
  {
   "cell_type": "code",
   "execution_count": 14,
   "id": "d01c251c-193d-4df6-be37-d2f841942c6a",
   "metadata": {},
   "outputs": [],
   "source": [
    "mr_train_entries = mr_data_train.to_dict(orient='records')\n",
    "mr_test_entries = mr_data_test.to_dict(orient='records')"
   ]
  },
  {
   "cell_type": "code",
   "execution_count": 17,
   "id": "8ad31ff9-73c3-4b78-a6f8-834890513298",
   "metadata": {},
   "outputs": [],
   "source": [
    "trainX, trainW, trainY = feature_extraction_with_key(\"c1+c2\", mr_train_entries, kv)\n",
    "testX, testW, testY = feature_extraction_with_key(\"c1+c2\", mr_test_entries, kv)"
   ]
  },
  {
   "cell_type": "code",
   "execution_count": 18,
   "id": "5d264c7a-f259-4886-a4aa-7ae7f4adf846",
   "metadata": {},
   "outputs": [
    {
     "data": {
      "text/plain": [
       "((1240, 400), (304, 400))"
      ]
     },
     "execution_count": 18,
     "metadata": {},
     "output_type": "execute_result"
    }
   ],
   "source": [
    "trainX.shape, testX.shape"
   ]
  },
  {
   "cell_type": "code",
   "execution_count": 19,
   "id": "0f3c479c-6f9d-42fb-b811-6febfe3bfcc9",
   "metadata": {},
   "outputs": [],
   "source": [
    "# https://github.com/scikit-learn/scikit-learn/blob/36958fb240fbe435673a9e3c52e769f01f36bec0/sklearn/linear_model/_base.py#L408\n",
    "# scores = safe_sparse_dot(X, self.coef_.T, dense_output=True) + self.intercept_\n",
    "# return scores.ravel() if scores.shape[1] == 1 else scores\n",
    "# --\n",
    "# https://github.com/scikit-learn/scikit-learn/blob/36958fb240fbe435673a9e3c52e769f01f36bec0/sklearn/discriminant_analysis.py#L944\n",
    "# d = self._decision_function(X)\n",
    "# y_pred = self.classes_.take(d.argmax(1))"
   ]
  },
  {
   "cell_type": "code",
   "execution_count": 20,
   "id": "52e0bffc-a18f-4dc2-8d91-de4fd501b299",
   "metadata": {},
   "outputs": [
    {
     "name": "stdout",
     "output_type": "stream",
     "text": [
      "0.7138157894736842\n"
     ]
    }
   ],
   "source": [
    "lda = LinearDiscriminantAnalysis()\n",
    "scaler = MinMaxScaler()\n",
    "strainX = scaler.fit_transform(trainX)\n",
    "stestX = scaler.transform(testX)\n",
    "lda.fit(trainX, trainY)\n",
    "print(lda.score(testX, testY))\n",
    "coef = lda.coef_\n",
    "b = lda.intercept_"
   ]
  },
  {
   "cell_type": "code",
   "execution_count": 21,
   "id": "0df1fbdb-dece-49a0-9962-b76c3dd00193",
   "metadata": {},
   "outputs": [],
   "source": [
    "import torch.nn as nn\n",
    "import torch.optim as optim\n",
    "import torch.nn.functional as F\n",
    "import matplotlib.pyplot as plt"
   ]
  },
  {
   "cell_type": "code",
   "execution_count": null,
   "id": "8d93ad62-9d30-4279-ac5c-822a6b5d082c",
   "metadata": {},
   "outputs": [],
   "source": []
  },
  {
   "cell_type": "code",
   "execution_count": 22,
   "id": "75cd6e1d-1208-437f-88dd-9a72fd7178a7",
   "metadata": {},
   "outputs": [],
   "source": [
    "class MrDataset(Dataset):\n",
    "    def __init__(self, vecs, words, labels):\n",
    "        assert vecs.shape[0] == len(words) == len(labels)\n",
    "        self.vecs = vecs\n",
    "        self.words = words\n",
    "        self.labels = labels\n",
    "        \n",
    "    def __len__(self):\n",
    "        return len(self.words)\n",
    "    \n",
    "    def __getitem__(self, idx):\n",
    "        return (self.vecs[idx,:], self.words[idx], self.labels[idx])\n",
    "    "
   ]
  },
  {
   "cell_type": "code",
   "execution_count": 39,
   "id": "2ce76fca-3ffe-44d8-87fa-5c8529f09fbf",
   "metadata": {},
   "outputs": [],
   "source": [
    "train_ds = MrDataset(trainX, trainW, trainY)\n",
    "test_ds = MrDataset(testX, testW, testY)"
   ]
  },
  {
   "cell_type": "code",
   "execution_count": 40,
   "id": "28a2ea45-1c33-449a-8034-dd982ab8a94c",
   "metadata": {},
   "outputs": [],
   "source": [
    "label_map = {x: i for i, x in enumerate(lda.classes_)}\n",
    "def collate_fn(X):\n",
    "    vecs = np.vstack([x[0] for x in X])\n",
    "    vecs = torch.tensor(vecs).float()\n",
    "    labels = torch.tensor([label_map[x[2]] for x in X]).long()\n",
    "    words = tokenizer([x[1] for x in X], return_tensors=\"pt\")\n",
    "    return vecs, words, labels"
   ]
  },
  {
   "cell_type": "code",
   "execution_count": 41,
   "id": "8d84cc06-4408-428b-9736-4a818abefa59",
   "metadata": {},
   "outputs": [],
   "source": [
    "train_loader = DataLoader(train_ds, batch_size=2, collate_fn=collate_fn, shuffle=True)\n",
    "test_loader = DataLoader(test_ds, batch_size=16, collate_fn=collate_fn, shuffle=False)"
   ]
  },
  {
   "cell_type": "code",
   "execution_count": 42,
   "id": "16d60790-1b3d-439c-821c-9dc45a413e80",
   "metadata": {},
   "outputs": [],
   "source": [
    "class EpsilonMachine(BertPreTrainedModel):\n",
    "    def __init__(self, config, lda_coef, lda_b):\n",
    "        super().__init__(config)        \n",
    "        self.bert = BertModel(config)\n",
    "        self.fn1 = nn.Linear(config.hidden_size, 400)\n",
    "        self.lda_coef = lda_coef\n",
    "        self.lda_b = lda_b\n",
    "        \n",
    "    def forward(self, Xtokens, Xvecs, labels=None):\n",
    "        h = self.bert(**Xtokens).pooler_output\n",
    "        eps = self.fn1(h)\n",
    "        vhat = Xvecs + eps        \n",
    "        lda_logits = vhat.matmul(self.lda_coef.t()) + self.lda_b        \n",
    "        if labels is not None:\n",
    "            loss =  F.cross_entropy(lda_logits, labels)\n",
    "            return eps, loss\n",
    "        return eps, None\n",
    "        "
   ]
  },
  {
   "cell_type": "code",
   "execution_count": 43,
   "id": "69e20e5a-9012-41a7-82fa-2678b3a65771",
   "metadata": {},
   "outputs": [
    {
     "name": "stderr",
     "output_type": "stream",
     "text": [
      "Some weights of the model checkpoint at D:/LargeFiles/bert-base-chinese were not used when initializing EpsilonMachine: ['cls.predictions.transform.LayerNorm.weight', 'cls.predictions.transform.dense.bias', 'cls.predictions.bias', 'cls.predictions.decoder.weight', 'cls.predictions.transform.dense.weight', 'cls.predictions.transform.LayerNorm.bias', 'cls.seq_relationship.weight', 'cls.seq_relationship.bias']\n",
      "- This IS expected if you are initializing EpsilonMachine from the checkpoint of a model trained on another task or with another architecture (e.g. initializing a BertForSequenceClassification model from a BertForPreTraining model).\n",
      "- This IS NOT expected if you are initializing EpsilonMachine from the checkpoint of a model that you expect to be exactly identical (initializing a BertForSequenceClassification model from a BertForSequenceClassification model).\n",
      "Some weights of EpsilonMachine were not initialized from the model checkpoint at D:/LargeFiles/bert-base-chinese and are newly initialized: ['fn1.weight', 'fn1.bias']\n",
      "You should probably TRAIN this model on a down-stream task to be able to use it for predictions and inference.\n"
     ]
    }
   ],
   "source": [
    "model = EpsilonMachine.from_pretrained('D:/LargeFiles/bert-base-chinese', torch.tensor(coef).float(), torch.tensor(b).float())"
   ]
  },
  {
   "cell_type": "code",
   "execution_count": 45,
   "id": "6676aaa9-10e3-42ca-b95c-9dbcf621daa8",
   "metadata": {},
   "outputs": [],
   "source": [
    "loss_vec = []\n",
    "train_acc = []\n",
    "test_acc = []\n",
    "acc_xs = []\n",
    "optimizer = optim.SGD(model.parameters(), lr=1e-4)"
   ]
  },
  {
   "cell_type": "code",
   "execution_count": 50,
   "id": "dfe0395d-0e8e-470b-839a-a05e8ba9d639",
   "metadata": {},
   "outputs": [
    {
     "data": {
      "application/vnd.jupyter.widget-view+json": {
       "model_id": "2b605e1e14b246d586fe32f5416581f2",
       "version_major": 2,
       "version_minor": 0
      },
      "text/plain": [
       "  0%|          | 0/10 [00:00<?, ?it/s]"
      ]
     },
     "metadata": {},
     "output_type": "display_data"
    }
   ],
   "source": [
    "for epoch_i in tqdm(range(10)):    \n",
    "    for batchX, batchW, batchY in train_loader:    \n",
    "        optimizer.zero_grad()\n",
    "        batch_eps, loss = model(batchW, batchX, batchY)\n",
    "        loss.backward()\n",
    "        optimizer.step()\n",
    "        loss_vec.append(loss.item())\n",
    "        break\n",
    "    break\n",
    "    for batchX, batchW, batchY in test_loader:\n",
    "        \n",
    "        with torch.no_grad():\n",
    "            train_eps, _ = model(batchW, batchX)\n",
    "            test_eps, _ = model(batchW, batchX)        \n",
    "        train_acc.append(lda.score((batchX+train_eps).numpy(), trainY)) \n",
    "        test_acc.append(lda.score((X+test_eps.numpy(), testY)))"
   ]
  },
  {
   "cell_type": "code",
   "execution_count": 30,
   "id": "eab4941e-c066-4e36-9762-6e0eac738456",
   "metadata": {},
   "outputs": [
    {
     "data": {
      "text/plain": [
       "[<matplotlib.lines.Line2D at 0x1eabbcacac0>]"
      ]
     },
     "execution_count": 30,
     "metadata": {},
     "output_type": "execute_result"
    },
    {
     "data": {
      "image/png": "[encoded data removed]",
      "text/plain": [
       "<Figure size 432x288 with 1 Axes>"
      ]
     },
     "metadata": {
      "needs_background": "light"
     },
     "output_type": "display_data"
    }
   ],
   "source": [
    "plt.plot(loss_vec)"
   ]
  },
  {
   "cell_type": "code",
   "execution_count": 34,
   "id": "1374cd77-c2f7-4254-88da-6f845fd910c4",
   "metadata": {},
   "outputs": [
    {
     "data": {
      "text/plain": [
       "[<matplotlib.lines.Line2D at 0x1eabba29b10>]"
      ]
     },
     "execution_count": 34,
     "metadata": {},
     "output_type": "execute_result"
    },
    {
     "data": {
      "image/png": "[encoded data removed]",
      "text/plain": [
       "<Figure size 432x288 with 1 Axes>"
      ]
     },
     "metadata": {
      "needs_background": "light"
     },
     "output_type": "display_data"
    }
   ],
   "source": [
    "plt.plot(acc_xs, train_acc)\n",
    "plt.plot(acc_xs, test_acc)"
   ]
  },
  {
   "cell_type": "code",
   "execution_count": 33,
   "id": "9157b59f-ed6d-46ec-a2ff-4e45e4e411d7",
   "metadata": {},
   "outputs": [
    {
     "name": "stdout",
     "output_type": "stream",
     "text": [
      "[Train] origin:  0.9330645161290323\n",
      "[Train] origin+eps:  0.9774193548387097\n",
      "[Test] origin:  0.7138157894736842\n",
      "[Test] origin+eps:  0.6776315789473685\n"
     ]
    }
   ],
   "source": [
    "with torch.no_grad():\n",
    "    train_eps, _ = model(torch.tensor(trainX))\n",
    "    test_eps, _ = model(torch.tensor(testX))\n",
    "print(\"[Train] origin: \", lda.score(trainX, trainY))\n",
    "print(\"[Train] origin+eps: \", lda.score(trainX+train_eps.numpy(), trainY))\n",
    "print(\"[Test] origin: \", lda.score(testX, testY))\n",
    "print(\"[Test] origin+eps: \", lda.score(testX+test_eps.numpy(), testY))"
   ]
  },
  {
   "cell_type": "code",
   "execution_count": null,
   "id": "4732a25b-cba5-42a6-9be6-0a5c118403c7",
   "metadata": {},
   "outputs": [],
   "source": []
  }
 ],
 "metadata": {
  "kernelspec": {
   "display_name": "Python 3 (ipykernel)",
   "language": "python",
   "name": "python3"
  },
  "language_info": {
   "codemirror_mode": {
    "name": "ipython",
    "version": 3
   },
   "file_extension": ".py",
   "mimetype": "text/x-python",
   "name": "python",
   "nbconvert_exporter": "python",
   "pygments_lexer": "ipython3",
   "version": "3.10.2"
  }
 },
 "nbformat": 4,
 "nbformat_minor": 5
}
