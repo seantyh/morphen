{
 "cells": [
  {
   "cell_type": "code",
   "execution_count": 1,
   "id": "98a15e54-ee68-4dca-ac47-439c481ca783",
   "metadata": {
    "execution": {
     "iopub.execute_input": "2022-08-02T10:14:13.631201Z",
     "iopub.status.busy": "2022-08-02T10:14:13.630861Z",
     "iopub.status.idle": "2022-08-02T10:14:13.641760Z",
     "shell.execute_reply": "2022-08-02T10:14:13.641760Z"
    }
   },
   "outputs": [],
   "source": [
    "import sys\n",
    "if \"../src\" not in sys.path:\n",
    "    sys.path.append(\"../src\")"
   ]
  },
  {
   "cell_type": "code",
   "execution_count": 2,
   "id": "e51398b2-a3a7-498e-9033-bcccf46a3c29",
   "metadata": {
    "execution": {
     "iopub.execute_input": "2022-08-02T10:14:13.643775Z",
     "iopub.status.busy": "2022-08-02T10:14:13.643775Z",
     "iopub.status.idle": "2022-08-02T10:14:14.499730Z",
     "shell.execute_reply": "2022-08-02T10:14:14.499413Z"
    }
   },
   "outputs": [],
   "source": [
    "import json\n",
    "from tqdm.auto import tqdm\n",
    "from itertools import islice\n",
    "from datetime import datetime\n",
    "from collections import Counter\n",
    "import textwrap\n",
    "\n",
    "import numpy as np\n",
    "import pandas as pd\n",
    "from gensim.models import KeyedVectors\n",
    "\n",
    "from sklearn.model_selection import train_test_split\n",
    "from sklearn.discriminant_analysis import LinearDiscriminantAnalysis\n",
    "from sklearn.dummy import DummyClassifier\n",
    "from sklearn.metrics import (accuracy_score, \n",
    "                             confusion_matrix, classification_report,\n",
    "                             ConfusionMatrixDisplay)\n",
    "output_paths = []"
   ]
  },
  {
   "cell_type": "markdown",
   "id": "68ef8b12-1d64-42ab-be50-b0b73983d3e4",
   "metadata": {},
   "source": [
    "## Data dependencies"
   ]
  },
  {
   "cell_type": "markdown",
   "id": "e9b5c34a-1a25-45a6-89b7-a12e76963dd9",
   "metadata": {},
   "source": [
    "```\n",
    "../data/verb_morpho.csv 15c7c1\n",
    "../data/verb_morpho_emb.txt f3b2a1\n",
    "../data/10.02-word-split.json 7ac81e\n",
    "```"
   ]
  },
  {
   "cell_type": "code",
   "execution_count": 3,
   "id": "959a0868-4c93-441e-ae63-3abd259c57a4",
   "metadata": {
    "execution": {
     "iopub.execute_input": "2022-08-02T10:14:14.501780Z",
     "iopub.status.busy": "2022-08-02T10:14:14.500781Z",
     "iopub.status.idle": "2022-08-02T10:14:14.515395Z",
     "shell.execute_reply": "2022-08-02T10:14:14.515395Z"
    }
   },
   "outputs": [
    {
     "name": "stdout",
     "output_type": "stream",
     "text": [
      "../data/verb_morpho.csv 15c7c1\n",
      "../data/verb_morpho_emb.txt f3b2a1\n",
      "../data/10.02-word-split.json 7ac81e\n"
     ]
    }
   ],
   "source": [
    "from hashlib import sha1\n",
    "from pathlib import Path\n",
    "paths = [\"../data/verb_morpho.csv\", \n",
    "         \"../data/verb_morpho_emb.txt\",\n",
    "         \"../data/10.02-word-split.json\"]\n",
    "for path_x in paths:\n",
    "    h = sha1()\n",
    "    h.update(Path(path_x).read_bytes())\n",
    "    print(path_x, h.hexdigest()[:6])"
   ]
  },
  {
   "cell_type": "markdown",
   "id": "29e6bd28-6da7-4d26-84d5-a14ff02923c2",
   "metadata": {},
   "source": [
    "## Load dependencies"
   ]
  },
  {
   "cell_type": "code",
   "execution_count": 4,
   "id": "a914484b-0f7b-4098-a968-ec6bb4c68991",
   "metadata": {
    "execution": {
     "iopub.execute_input": "2022-08-02T10:14:14.516398Z",
     "iopub.status.busy": "2022-08-02T10:14:14.516398Z",
     "iopub.status.idle": "2022-08-02T10:14:14.685849Z",
     "shell.execute_reply": "2022-08-02T10:14:14.685525Z"
    }
   },
   "outputs": [],
   "source": [
    "mr_data = pd.read_csv(\"../data/verb_morpho.csv\")\n",
    "kv = KeyedVectors.load_word2vec_format(\"../data/verb_morpho_emb.txt\")\n",
    "with open(\"../data/10.02-word-split.json\", \"r\", encoding=\"UTF-8\") as fin:\n",
    "    word_split = json.load(fin)"
   ]
  },
  {
   "cell_type": "markdown",
   "id": "18ad02ee-0679-4476-81c2-d2d0292a6055",
   "metadata": {},
   "source": [
    "## Make dataset"
   ]
  },
  {
   "cell_type": "code",
   "execution_count": 5,
   "id": "1c2444c7-5a8f-4da0-8189-378d97f7cdee",
   "metadata": {
    "execution": {
     "iopub.execute_input": "2022-08-02T10:14:14.687610Z",
     "iopub.status.busy": "2022-08-02T10:14:14.687515Z",
     "iopub.status.idle": "2022-08-02T10:14:14.700964Z",
     "shell.execute_reply": "2022-08-02T10:14:14.700964Z"
    }
   },
   "outputs": [
    {
     "data": {
      "text/html": [
       "<div>\n",
       "<style scoped>\n",
       "    .dataframe tbody tr th:only-of-type {\n",
       "        vertical-align: middle;\n",
       "    }\n",
       "\n",
       "    .dataframe tbody tr th {\n",
       "        vertical-align: top;\n",
       "    }\n",
       "\n",
       "    .dataframe thead th {\n",
       "        text-align: right;\n",
       "    }\n",
       "</style>\n",
       "<table border=\"1\" class=\"dataframe\">\n",
       "  <thead>\n",
       "    <tr style=\"text-align: right;\">\n",
       "      <th></th>\n",
       "      <th>Unnamed: 0</th>\n",
       "      <th>token</th>\n",
       "      <th>token_simp</th>\n",
       "      <th>source</th>\n",
       "      <th>ASBC</th>\n",
       "      <th>Apple (2006-2016)</th>\n",
       "      <th>China (2015-2016)</th>\n",
       "      <th>Dcard (2019-2020)</th>\n",
       "      <th>PTT (2004-2019)</th>\n",
       "      <th>MorphoSyntax</th>\n",
       "    </tr>\n",
       "  </thead>\n",
       "  <tbody>\n",
       "    <tr>\n",
       "      <th>0</th>\n",
       "      <td>4073</td>\n",
       "      <td>丟來</td>\n",
       "      <td>丢来</td>\n",
       "      <td>Corpus</td>\n",
       "      <td>1.0</td>\n",
       "      <td>5.0</td>\n",
       "      <td>5.0</td>\n",
       "      <td>1.0</td>\n",
       "      <td>0.0</td>\n",
       "      <td>VR</td>\n",
       "    </tr>\n",
       "  </tbody>\n",
       "</table>\n",
       "</div>"
      ],
      "text/plain": [
       "   Unnamed: 0 token token_simp  source  ASBC  Apple (2006-2016)  \\\n",
       "0        4073    丟來         丢来  Corpus   1.0                5.0   \n",
       "\n",
       "   China (2015-2016)  Dcard (2019-2020)  PTT (2004-2019) MorphoSyntax  \n",
       "0                5.0                1.0              0.0           VR  "
      ]
     },
     "execution_count": 5,
     "metadata": {},
     "output_type": "execute_result"
    }
   ],
   "source": [
    "mr_data.iloc[:1, ]"
   ]
  },
  {
   "cell_type": "code",
   "execution_count": 6,
   "id": "0db0116a-6145-4cc7-a576-58da2266a21f",
   "metadata": {
    "execution": {
     "iopub.execute_input": "2022-08-02T10:14:14.702733Z",
     "iopub.status.busy": "2022-08-02T10:14:14.702733Z",
     "iopub.status.idle": "2022-08-02T10:14:14.732395Z",
     "shell.execute_reply": "2022-08-02T10:14:14.732395Z"
    }
   },
   "outputs": [
    {
     "name": "stdout",
     "output_type": "stream",
     "text": [
      "Train/Test words: 851/212\n"
     ]
    }
   ],
   "source": [
    "Xtrain, ytrain, Xtest, ytest = [], [], [], []\n",
    "dropped = []\n",
    "lda_split = {\"train\": [], \"test\": []}\n",
    "for row in mr_data.itertuples():\n",
    "    word_t = row.token\n",
    "    word_s = row.token_simp\n",
    "    word_vec = None\n",
    "    if word_t in kv:\n",
    "        word_vec = kv.get_vector(word_t, norm=True)\n",
    "    \n",
    "    if word_s in kv:\n",
    "        word_vec = kv.get_vector(word_s, norm=True)\n",
    "    \n",
    "    if word_vec is not None:\n",
    "        if word_t in word_split[\"train\"]:\n",
    "            Xtrain.append(word_vec)        \n",
    "            ytrain.append(row.MorphoSyntax)\n",
    "            lda_split[\"train\"].append(word_t)\n",
    "        elif word_t in word_split[\"test\"]:\n",
    "            Xtest.append(word_vec)        \n",
    "            ytest.append(row.MorphoSyntax)\n",
    "            lda_split[\"test\"].append(word_t)\n",
    "        else:\n",
    "            print(\"[WARNING] word not in the split data: \", word_x)\n",
    "    else:\n",
    "        dropped.append((row.token, row.MorphoSyntax))\n",
    "Xtrain = np.array(Xtrain)\n",
    "ytrain = np.array(ytrain)\n",
    "Xtest = np.array(Xtest)\n",
    "ytest = np.array(ytest)\n",
    "print(\"Train/Test words: {}/{}\".format(len(lda_split[\"train\"]), len(lda_split[\"test\"])))\n",
    "\n",
    "assert not (set(lda_split[\"train\"]) & set(lda_split[\"test\"])), \"Test for data leakage\""
   ]
  },
  {
   "cell_type": "code",
   "execution_count": 7,
   "id": "f76be93f-fdb0-4847-9b8c-6b960f75cdd5",
   "metadata": {
    "execution": {
     "iopub.execute_input": "2022-08-02T10:14:14.733469Z",
     "iopub.status.busy": "2022-08-02T10:14:14.733469Z",
     "iopub.status.idle": "2022-08-02T10:14:14.747526Z",
     "shell.execute_reply": "2022-08-02T10:14:14.747397Z"
    }
   },
   "outputs": [],
   "source": [
    "lda_split_path = \"../data/tencent-mr-lda-word.split.json\"\n",
    "with open(lda_split_path, \"w\", encoding=\"UTF-8\", newline=\"\\n\") as fout:\n",
    "    json.dump(lda_split, fout)"
   ]
  },
  {
   "cell_type": "code",
   "execution_count": 8,
   "id": "a8ddbf54-bbd0-45a7-a3b6-507815d7f456",
   "metadata": {
    "execution": {
     "iopub.execute_input": "2022-08-02T10:14:14.749528Z",
     "iopub.status.busy": "2022-08-02T10:14:14.749528Z",
     "iopub.status.idle": "2022-08-02T10:14:14.763761Z",
     "shell.execute_reply": "2022-08-02T10:14:14.763399Z"
    }
   },
   "outputs": [
    {
     "name": "stdout",
     "output_type": "stream",
     "text": [
      "Dropping {} items 613\n",
      "('丟到', 'VR') ('並置', 'AV') ('並陳', 'AV') ('交到', 'VR') ('交屋', 'VO')\n",
      "('交援', 'AV') ('交溶', 'AV') ('交磕', 'AV') ('交絡', 'AV') ('交纓', 'VO')\n"
     ]
    }
   ],
   "source": [
    "## Dropped items due to no single-character word vectors\n",
    "print(\"Dropping {} items\", len(dropped))\n",
    "print(*textwrap.wrap(\" \".join(str(x) for x in dropped[:10])), sep=\"\\n\")"
   ]
  },
  {
   "cell_type": "code",
   "execution_count": 9,
   "id": "094c1b20-ca2f-474a-a4be-d0c2b7178882",
   "metadata": {
    "execution": {
     "iopub.execute_input": "2022-08-02T10:14:14.766679Z",
     "iopub.status.busy": "2022-08-02T10:14:14.766296Z",
     "iopub.status.idle": "2022-08-02T10:14:14.779673Z",
     "shell.execute_reply": "2022-08-02T10:14:14.779476Z"
    }
   },
   "outputs": [
    {
     "name": "stdout",
     "output_type": "stream",
     "text": [
      "All instances:  1063\n",
      "train instances:  851\n",
      "label distribution\n",
      "[('VR', 466), ('AV', 157), ('VV', 118), ('VO', 110)]\n"
     ]
    }
   ],
   "source": [
    "print(\"All instances: \", Xtrain.shape[0]+Xtest.shape[0])\n",
    "print(\"train instances: \", Xtrain.shape[0])\n",
    "print(\"label distribution\")\n",
    "print(Counter(ytrain).most_common())"
   ]
  },
  {
   "cell_type": "markdown",
   "id": "b7885022-6aee-492c-9337-2ca3d8e591d2",
   "metadata": {},
   "source": [
    "## Training"
   ]
  },
  {
   "cell_type": "code",
   "execution_count": 10,
   "id": "c5ce10da-93fa-4b09-a961-58b19f58c259",
   "metadata": {
    "execution": {
     "iopub.execute_input": "2022-08-02T10:14:14.781681Z",
     "iopub.status.busy": "2022-08-02T10:14:14.781681Z",
     "iopub.status.idle": "2022-08-02T10:14:14.855931Z",
     "shell.execute_reply": "2022-08-02T10:14:14.855931Z"
    }
   },
   "outputs": [
    {
     "name": "stdout",
     "output_type": "stream",
     "text": [
      "Accuracy: 0.67\n",
      "Most-frequent baseline: 0.58\n",
      "BERT accuracy (from 10.02): 0.81\n",
      "              precision    recall  f1-score   support\n",
      "\n",
      "          AV       0.33      0.44      0.38        27\n",
      "          VO       0.60      0.41      0.49        29\n",
      "          VR       0.82      0.87      0.85       123\n",
      "          VV       0.46      0.36      0.41        33\n",
      "\n",
      "    accuracy                           0.67       212\n",
      "   macro avg       0.55      0.52      0.53       212\n",
      "weighted avg       0.67      0.67      0.67       212\n",
      "\n"
     ]
    }
   ],
   "source": [
    "lda = LinearDiscriminantAnalysis()\n",
    "lda.fit(Xtrain, ytrain)\n",
    "ypred = lda.predict(Xtest)\n",
    "\n",
    "dummy = DummyClassifier(strategy=\"most_frequent\")\n",
    "dummy.fit(Xtrain, ytrain)\n",
    "ydummy = dummy.predict(Xtest)\n",
    "\n",
    "print(\"Accuracy: {:.2f}\".format(accuracy_score(ytest, ypred)))\n",
    "print(\"Most-frequent baseline: {:.2f}\".format(accuracy_score(ytest, ydummy)))\n",
    "print(\"BERT accuracy (from 10.02): 0.81\")\n",
    "print(classification_report(ytest, ypred))"
   ]
  },
  {
   "cell_type": "code",
   "execution_count": 11,
   "id": "9178e901-8d62-4f90-b87d-fdc831739571",
   "metadata": {
    "execution": {
     "iopub.execute_input": "2022-08-02T10:14:14.857933Z",
     "iopub.status.busy": "2022-08-02T10:14:14.856934Z",
     "iopub.status.idle": "2022-08-02T10:14:15.445674Z",
     "shell.execute_reply": "2022-08-02T10:14:15.445397Z"
    }
   },
   "outputs": [
    {
     "data": {
      "text/plain": [
       "(array([0, 1, 2, 3]),\n",
       " [Text(0, 0, 'AV'), Text(0, 1, 'VO'), Text(0, 2, 'VR'), Text(0, 3, 'VV')])"
      ]
     },
     "execution_count": 11,
     "metadata": {},
     "output_type": "execute_result"
    },
    {
     "data": {
      "image/png": "[encoded data removed]",
      "text/plain": [
       "<Figure size 432x288 with 2 Axes>"
      ]
     },
     "metadata": {
      "needs_background": "light"
     },
     "output_type": "display_data"
    }
   ],
   "source": [
    "import matplotlib.pyplot as plt\n",
    "ConfusionMatrixDisplay.from_predictions(ytest, ypred)\n",
    "plt.xticks(fontsize=16)\n",
    "plt.yticks(fontsize=16)"
   ]
  },
  {
   "cell_type": "markdown",
   "id": "a3482edd-7219-4d5e-acbf-f928b5b8ffa1",
   "metadata": {},
   "source": [
    "## Save model"
   ]
  },
  {
   "cell_type": "code",
   "execution_count": 12,
   "id": "6607109e-40f5-4d1f-a3f6-9c0c5ed62f2b",
   "metadata": {
    "execution": {
     "iopub.execute_input": "2022-08-02T10:14:15.447279Z",
     "iopub.status.busy": "2022-08-02T10:14:15.447279Z",
     "iopub.status.idle": "2022-08-02T10:14:15.460648Z",
     "shell.execute_reply": "2022-08-02T10:14:15.460401Z"
    }
   },
   "outputs": [
    {
     "data": {
      "text/plain": [
       "['../data/tencent-mr-lda-word.joblib']"
      ]
     },
     "execution_count": 12,
     "metadata": {},
     "output_type": "execute_result"
    }
   ],
   "source": [
    "import joblib\n",
    "joblib.dump(lda, '../data/tencent-mr-lda-word.joblib')"
   ]
  },
  {
   "cell_type": "markdown",
   "id": "23f73a91-d119-4d93-9754-78369abdb0a4",
   "metadata": {},
   "source": [
    "## Output Hashes"
   ]
  },
  {
   "cell_type": "markdown",
   "id": "6e9bdfe7-5f03-47f4-bc82-2499c3f03970",
   "metadata": {},
   "source": [
    "```\n",
    "../data/tencent-mr-lda-word.split.json a734ce\n",
    "../data/tencent-mr-lda-word.joblib 602e71\n",
    "```"
   ]
  },
  {
   "cell_type": "code",
   "execution_count": 13,
   "id": "08738149-d19d-4f93-bad6-54242fdec407",
   "metadata": {
    "execution": {
     "iopub.execute_input": "2022-08-02T10:14:15.463616Z",
     "iopub.status.busy": "2022-08-02T10:14:15.463616Z",
     "iopub.status.idle": "2022-08-02T10:14:15.476348Z",
     "shell.execute_reply": "2022-08-02T10:14:15.476067Z"
    }
   },
   "outputs": [
    {
     "name": "stdout",
     "output_type": "stream",
     "text": [
      "../data/tencent-mr-lda-word.split.json a734ce\n",
      "../data/tencent-mr-lda-word.joblib 602e71\n"
     ]
    }
   ],
   "source": [
    "from hashlib import sha1\n",
    "from pathlib import Path\n",
    "paths = [lda_split_path, '../data/tencent-mr-lda-word.joblib']\n",
    "for path_x in paths:\n",
    "    h = sha1()\n",
    "    h.update(Path(path_x).read_bytes())\n",
    "    print(path_x, h.hexdigest()[:6])"
   ]
  },
  {
   "cell_type": "code",
   "execution_count": null,
   "id": "6c85aa1b-530d-4622-a07b-f8829d690bae",
   "metadata": {},
   "outputs": [],
   "source": []
  }
 ],
 "metadata": {
  "kernelspec": {
   "display_name": "Python 3 (ipykernel)",
   "language": "python",
   "name": "python3"
  },
  "language_info": {
   "codemirror_mode": {
    "name": "ipython",
    "version": 3
   },
   "file_extension": ".py",
   "mimetype": "text/x-python",
   "name": "python",
   "nbconvert_exporter": "python",
   "pygments_lexer": "ipython3",
   "version": "3.10.2"
  }
 },
 "nbformat": 4,
 "nbformat_minor": 5
}
