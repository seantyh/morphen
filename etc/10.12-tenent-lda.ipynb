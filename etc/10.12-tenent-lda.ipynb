{
 "cells": [
  {
   "cell_type": "code",
   "execution_count": 1,
   "id": "98a15e54-ee68-4dca-ac47-439c481ca783",
   "metadata": {},
   "outputs": [],
   "source": [
    "import sys\n",
    "if \"../src\" not in sys.path:\n",
    "    sys.path.append(\"../src\")"
   ]
  },
  {
   "cell_type": "code",
   "execution_count": 50,
   "id": "e51398b2-a3a7-498e-9033-bcccf46a3c29",
   "metadata": {},
   "outputs": [],
   "source": [
    "from tqdm.auto import tqdm\n",
    "from itertools import islice\n",
    "from datetime import datetime\n",
    "from collections import Counter\n",
    "import textwrap\n",
    "\n",
    "import numpy as np\n",
    "import pandas as pd\n",
    "\n",
    "from sklearn.model_selection import train_test_split\n",
    "from sklearn.discriminant_analysis import LinearDiscriminantAnalysis\n",
    "from sklearn.metrics import (accuracy_score, \n",
    "                             confusion_matrix, classification_report,\n",
    "                             ConfusionMatrixDisplay)\n",
    "output_paths = []"
   ]
  },
  {
   "cell_type": "markdown",
   "id": "68ef8b12-1d64-42ab-be50-b0b73983d3e4",
   "metadata": {},
   "source": [
    "## Data dependencies"
   ]
  },
  {
   "cell_type": "markdown",
   "id": "e9b5c34a-1a25-45a6-89b7-a12e76963dd9",
   "metadata": {},
   "source": [
    "```\n",
    "../data/verb_morpho.csv 4ecd72\n",
    "../data/verb_morpho_emb.txt a9a9b8\n",
    "```"
   ]
  },
  {
   "cell_type": "code",
   "execution_count": 4,
   "id": "959a0868-4c93-441e-ae63-3abd259c57a4",
   "metadata": {},
   "outputs": [
    {
     "name": "stdout",
     "output_type": "stream",
     "text": [
      "../data/verb_morpho.csv 4ecd72\n",
      "../data/verb_morpho_emb.txt a9a9b8\n"
     ]
    }
   ],
   "source": [
    "from hashlib import sha1\n",
    "from pathlib import Path\n",
    "paths = [\"../data/verb_morpho.csv\", \"../data/verb_morpho_emb.txt\"]\n",
    "for path_x in paths:\n",
    "    h = sha1()\n",
    "    h.update(Path(path_x).read_bytes())\n",
    "    print(path_x, h.hexdigest()[:6])"
   ]
  },
  {
   "cell_type": "markdown",
   "id": "29e6bd28-6da7-4d26-84d5-a14ff02923c2",
   "metadata": {},
   "source": [
    "## Load dependencies"
   ]
  },
  {
   "cell_type": "code",
   "execution_count": 5,
   "id": "a914484b-0f7b-4098-a968-ec6bb4c68991",
   "metadata": {},
   "outputs": [],
   "source": [
    "mr_data = pd.read_csv(\"../data/verb_morpho.csv\")\n",
    "kv = KeyedVectors.load_word2vec_format(\"../data/verb_morpho_emb.txt\")"
   ]
  },
  {
   "cell_type": "markdown",
   "id": "18ad02ee-0679-4476-81c2-d2d0292a6055",
   "metadata": {},
   "source": [
    "## Make dataset"
   ]
  },
  {
   "cell_type": "code",
   "execution_count": 10,
   "id": "1c2444c7-5a8f-4da0-8189-378d97f7cdee",
   "metadata": {},
   "outputs": [
    {
     "data": {
      "text/html": [
       "<div>\n",
       "<style scoped>\n",
       "    .dataframe tbody tr th:only-of-type {\n",
       "        vertical-align: middle;\n",
       "    }\n",
       "\n",
       "    .dataframe tbody tr th {\n",
       "        vertical-align: top;\n",
       "    }\n",
       "\n",
       "    .dataframe thead th {\n",
       "        text-align: right;\n",
       "    }\n",
       "</style>\n",
       "<table border=\"1\" class=\"dataframe\">\n",
       "  <thead>\n",
       "    <tr style=\"text-align: right;\">\n",
       "      <th></th>\n",
       "      <th>Unnamed: 0</th>\n",
       "      <th>token</th>\n",
       "      <th>source</th>\n",
       "      <th>ASBC</th>\n",
       "      <th>Apple (2006-2016)</th>\n",
       "      <th>China (2015-2016)</th>\n",
       "      <th>Dcard (2019-2020)</th>\n",
       "      <th>PTT (2004-2019)</th>\n",
       "      <th>MorphoSyntax</th>\n",
       "    </tr>\n",
       "  </thead>\n",
       "  <tbody>\n",
       "    <tr>\n",
       "      <th>0</th>\n",
       "      <td>4073</td>\n",
       "      <td>丟來</td>\n",
       "      <td>Corpus</td>\n",
       "      <td>1.0</td>\n",
       "      <td>5.0</td>\n",
       "      <td>5.0</td>\n",
       "      <td>1.0</td>\n",
       "      <td>0.0</td>\n",
       "      <td>VR</td>\n",
       "    </tr>\n",
       "  </tbody>\n",
       "</table>\n",
       "</div>"
      ],
      "text/plain": [
       "   Unnamed: 0 token  source  ASBC  Apple (2006-2016)  China (2015-2016)  \\\n",
       "0        4073    丟來  Corpus   1.0                5.0                5.0   \n",
       "\n",
       "   Dcard (2019-2020)  PTT (2004-2019) MorphoSyntax  \n",
       "0                1.0              0.0           VR  "
      ]
     },
     "execution_count": 10,
     "metadata": {},
     "output_type": "execute_result"
    }
   ],
   "source": [
    "mr_data.iloc[:1, ]"
   ]
  },
  {
   "cell_type": "code",
   "execution_count": 28,
   "id": "0db0116a-6145-4cc7-a576-58da2266a21f",
   "metadata": {},
   "outputs": [],
   "source": [
    "Xall, yall = [], []\n",
    "dropped = []\n",
    "for row in mr_data.itertuples():\n",
    "    c1, c2 = list(row.token)\n",
    "    if c1 in kv and c2 in kv:\n",
    "        c1_vec = kv.get_vector(c1, norm=True)\n",
    "        c2_vec = kv.get_vector(c2, norm=True)\n",
    "        Xall.append(np.concatenate([c1_vec, c2_vec]))\n",
    "        yall.append(row.MorphoSyntax)\n",
    "    else:\n",
    "        dropped.append((row.token, row.MorphoSyntax))\n",
    "Xall = np.array(Xall)\n",
    "yall = np.array(yall)"
   ]
  },
  {
   "cell_type": "code",
   "execution_count": 29,
   "id": "a8ddbf54-bbd0-45a7-a3b6-507815d7f456",
   "metadata": {},
   "outputs": [
    {
     "name": "stdout",
     "output_type": "stream",
     "text": [
      "('摩醞', 'AV') ('攙入', 'VR') ('攙有', 'VR') ('決隄', 'VO') ('發訃', 'VO')\n",
      "('輾去', 'VR') ('輾死', 'VR') ('輾碎', 'VR') ('顛躓', 'VV') ('餓癟', 'VR')\n"
     ]
    }
   ],
   "source": [
    "## Dropped items due to no single-character word vectors\n",
    "print(*textwrap.wrap(\" \".join(str(x) for x in dropped)), sep=\"\\n\")"
   ]
  },
  {
   "cell_type": "code",
   "execution_count": 33,
   "id": "094c1b20-ca2f-474a-a4be-d0c2b7178882",
   "metadata": {},
   "outputs": [
    {
     "name": "stdout",
     "output_type": "stream",
     "text": [
      "All instances:  1666\n",
      "label distribution\n",
      "[('VR', 873), ('AV', 339), ('VV', 243), ('VO', 211)]\n"
     ]
    }
   ],
   "source": [
    "print(\"All instances: \", Xall.shape[0])\n",
    "print(\"label distribution\")\n",
    "print(Counter(yall).most_common())\n",
    "assert Xall.shape[0] == yall.shape[0]"
   ]
  },
  {
   "cell_type": "markdown",
   "id": "b7885022-6aee-492c-9337-2ca3d8e591d2",
   "metadata": {},
   "source": [
    "## Splitting"
   ]
  },
  {
   "cell_type": "code",
   "execution_count": 70,
   "id": "669b3ea5-9030-4bdf-a50e-84652decc5b4",
   "metadata": {},
   "outputs": [],
   "source": [
    "Xtrain, Xtest, ytrain, ytest = train_test_split(Xall, yall, test_size=0.2, random_state=1234)"
   ]
  },
  {
   "cell_type": "code",
   "execution_count": 71,
   "id": "c5ce10da-93fa-4b09-a961-58b19f58c259",
   "metadata": {},
   "outputs": [
    {
     "name": "stdout",
     "output_type": "stream",
     "text": [
      "Accuracy: 0.7156\n",
      "              precision    recall  f1-score   support\n",
      "\n",
      "          AV       0.62      0.55      0.58        67\n",
      "          VO       0.61      0.62      0.62        48\n",
      "          VR       0.85      0.88      0.87       172\n",
      "          VV       0.43      0.43      0.43        47\n",
      "\n",
      "    accuracy                           0.72       334\n",
      "   macro avg       0.63      0.62      0.62       334\n",
      "weighted avg       0.71      0.72      0.71       334\n",
      "\n"
     ]
    }
   ],
   "source": [
    "lda = LinearDiscriminantAnalysis()\n",
    "lda.fit(Xtrain, ytrain)\n",
    "ypred = lda.predict(Xtest)\n",
    "\n",
    "print(\"Accuracy: {:.4f}\".format(accuracy_score(ytest, ypred)))\n",
    "print(classification_report(ytest, ypred))"
   ]
  },
  {
   "cell_type": "code",
   "execution_count": 72,
   "id": "9178e901-8d62-4f90-b87d-fdc831739571",
   "metadata": {},
   "outputs": [
    {
     "data": {
      "text/plain": [
       "(array([0, 1, 2, 3]),\n",
       " [Text(0, 0, 'AV'), Text(0, 1, 'VO'), Text(0, 2, 'VR'), Text(0, 3, 'VV')])"
      ]
     },
     "execution_count": 72,
     "metadata": {},
     "output_type": "execute_result"
    },
    {
     "data": {
      "image/png": "[encoded data removed]",
      "text/plain": [
       "<Figure size 432x288 with 2 Axes>"
      ]
     },
     "metadata": {
      "needs_background": "light"
     },
     "output_type": "display_data"
    }
   ],
   "source": [
    "import matplotlib.pyplot as plt\n",
    "ConfusionMatrixDisplay.from_predictions(ytest, ypred)\n",
    "plt.xticks(fontsize=16)\n",
    "plt.yticks(fontsize=16)"
   ]
  },
  {
   "cell_type": "code",
   "execution_count": null,
   "id": "55287ea2-38c6-4304-b201-542188bb284c",
   "metadata": {},
   "outputs": [],
   "source": []
  }
 ],
 "metadata": {
  "kernelspec": {
   "display_name": "Python 3 (ipykernel)",
   "language": "python",
   "name": "python3"
  },
  "language_info": {
   "codemirror_mode": {
    "name": "ipython",
    "version": 3
   },
   "file_extension": ".py",
   "mimetype": "text/x-python",
   "name": "python",
   "nbconvert_exporter": "python",
   "pygments_lexer": "ipython3",
   "version": "3.10.2"
  }
 },
 "nbformat": 4,
 "nbformat_minor": 5
}
