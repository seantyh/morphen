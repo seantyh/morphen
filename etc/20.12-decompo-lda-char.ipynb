{
 "cells": [
  {
   "cell_type": "code",
   "execution_count": 1,
   "id": "e77fde2e-57dd-4c71-b11f-11c8ddd7b037",
   "metadata": {},
   "outputs": [],
   "source": [
    "%load_ext autoreload\n",
    "%autoreload 2"
   ]
  },
  {
   "cell_type": "code",
   "execution_count": 2,
   "id": "98a15e54-ee68-4dca-ac47-439c481ca783",
   "metadata": {
    "tags": []
   },
   "outputs": [],
   "source": [
    "import sys\n",
    "if \"../src\" not in sys.path:\n",
    "    sys.path.append(\"../src\")"
   ]
  },
  {
   "cell_type": "code",
   "execution_count": 3,
   "id": "e51398b2-a3a7-498e-9033-bcccf46a3c29",
   "metadata": {
    "tags": []
   },
   "outputs": [],
   "source": [
    "import json\n",
    "from tqdm.auto import tqdm\n",
    "from itertools import islice\n",
    "from datetime import datetime\n",
    "from collections import Counter\n",
    "import textwrap\n",
    "\n",
    "import numpy as np\n",
    "import pandas as pd\n",
    "from gensim.models import KeyedVectors\n",
    "from sklearn.discriminant_analysis import LinearDiscriminantAnalysis\n",
    "from sklearn.metrics import accuracy_score\n",
    "\n",
    "from morphen.delta_classifier import (\n",
    "    get_delta_vec,\n",
    "    feature_extraction,\n",
    "    estimate_lda,\n",
    "    estimate_tree)\n",
    "output_paths = []"
   ]
  },
  {
   "cell_type": "markdown",
   "id": "68ef8b12-1d64-42ab-be50-b0b73983d3e4",
   "metadata": {},
   "source": [
    "## Data dependencies"
   ]
  },
  {
   "cell_type": "markdown",
   "id": "e9b5c34a-1a25-45a6-89b7-a12e76963dd9",
   "metadata": {},
   "source": [
    "```\n",
    "../data/verb_morpho.csv 15c7c1\n",
    "../data/10.02-word-split.json 7ac81e\n",
    "../data/delta_tenc_d200_biwords.bin 04e3f4\n",
    "```"
   ]
  },
  {
   "cell_type": "code",
   "execution_count": 4,
   "id": "959a0868-4c93-441e-ae63-3abd259c57a4",
   "metadata": {
    "tags": []
   },
   "outputs": [
    {
     "name": "stdout",
     "output_type": "stream",
     "text": [
      "../data/verb_morpho.csv 15c7c1\n",
      "../data/10.02-word-split.json 7ac81e\n",
      "../data/delta_tenc_d200_biwords.bin 04e3f4\n"
     ]
    }
   ],
   "source": [
    "from hashlib import sha1\n",
    "from pathlib import Path\n",
    "paths = [\"../data/verb_morpho.csv\",          \n",
    "         \"../data/10.02-word-split.json\",\n",
    "         \"../data/delta_tenc_d200_biwords.bin\"]\n",
    "for path_x in paths:\n",
    "    h = sha1()\n",
    "    h.update(Path(path_x).read_bytes())\n",
    "    print(path_x, h.hexdigest()[:6])"
   ]
  },
  {
   "cell_type": "markdown",
   "id": "29e6bd28-6da7-4d26-84d5-a14ff02923c2",
   "metadata": {},
   "source": [
    "## Load dependencies"
   ]
  },
  {
   "cell_type": "code",
   "execution_count": 5,
   "id": "a914484b-0f7b-4098-a968-ec6bb4c68991",
   "metadata": {
    "tags": []
   },
   "outputs": [],
   "source": [
    "mr_data = pd.read_csv(\"../data/verb_morpho.csv\", index_col=0)\n",
    "kv = KeyedVectors.load_word2vec_format(\"../data/delta_tenc_d200_biwords.bin\", binary=True)\n",
    "with open(\"../data/10.02-word-split.json\", \"r\", encoding=\"UTF-8\") as fin:\n",
    "    word_split = json.load(fin)"
   ]
  },
  {
   "cell_type": "markdown",
   "id": "18ad02ee-0679-4476-81c2-d2d0292a6055",
   "metadata": {},
   "source": [
    "## Make dataset"
   ]
  },
  {
   "cell_type": "code",
   "execution_count": 6,
   "id": "1c2444c7-5a8f-4da0-8189-378d97f7cdee",
   "metadata": {
    "tags": []
   },
   "outputs": [
    {
     "data": {
      "text/html": [
       "<div>\n",
       "<style scoped>\n",
       "    .dataframe tbody tr th:only-of-type {\n",
       "        vertical-align: middle;\n",
       "    }\n",
       "\n",
       "    .dataframe tbody tr th {\n",
       "        vertical-align: top;\n",
       "    }\n",
       "\n",
       "    .dataframe thead th {\n",
       "        text-align: right;\n",
       "    }\n",
       "</style>\n",
       "<table border=\"1\" class=\"dataframe\">\n",
       "  <thead>\n",
       "    <tr style=\"text-align: right;\">\n",
       "      <th></th>\n",
       "      <th>token</th>\n",
       "      <th>token_simp</th>\n",
       "      <th>source</th>\n",
       "      <th>ASBC</th>\n",
       "      <th>Apple (2006-2016)</th>\n",
       "      <th>China (2015-2016)</th>\n",
       "      <th>Dcard (2019-2020)</th>\n",
       "      <th>PTT (2004-2019)</th>\n",
       "      <th>MorphoSyntax</th>\n",
       "    </tr>\n",
       "  </thead>\n",
       "  <tbody>\n",
       "    <tr>\n",
       "      <th>4073</th>\n",
       "      <td>丟來</td>\n",
       "      <td>丢来</td>\n",
       "      <td>Corpus</td>\n",
       "      <td>1.0</td>\n",
       "      <td>5.0</td>\n",
       "      <td>5.0</td>\n",
       "      <td>1.0</td>\n",
       "      <td>0.0</td>\n",
       "      <td>VR</td>\n",
       "    </tr>\n",
       "  </tbody>\n",
       "</table>\n",
       "</div>"
      ],
      "text/plain": [
       "     token token_simp  source  ASBC  Apple (2006-2016)  China (2015-2016)  \\\n",
       "4073    丟來         丢来  Corpus   1.0                5.0                5.0   \n",
       "\n",
       "      Dcard (2019-2020)  PTT (2004-2019) MorphoSyntax  \n",
       "4073                1.0              0.0           VR  "
      ]
     },
     "execution_count": 6,
     "metadata": {},
     "output_type": "execute_result"
    }
   ],
   "source": [
    "mr_data.iloc[:1, ]"
   ]
  },
  {
   "cell_type": "code",
   "execution_count": 7,
   "id": "2aed72bb-af91-406d-beef-2103f01056a8",
   "metadata": {},
   "outputs": [],
   "source": [
    "## for compatibility with 20.11 and morphen/delta_classifier:feature_extraction\n",
    "mr_data = mr_data.assign(token_key=mr_data.token)"
   ]
  },
  {
   "cell_type": "code",
   "execution_count": 8,
   "id": "cd5c00af-fe88-4b93-8e86-f3ad55d26cde",
   "metadata": {},
   "outputs": [
    {
     "data": {
      "text/plain": [
       "(1676, 10)"
      ]
     },
     "execution_count": 8,
     "metadata": {},
     "output_type": "execute_result"
    }
   ],
   "source": [
    "mr_data.shape"
   ]
  },
  {
   "cell_type": "markdown",
   "id": "88b7b6e9-3eaa-4b98-b2a9-34ba481de04a",
   "metadata": {},
   "source": [
    "## Load Morphen"
   ]
  },
  {
   "cell_type": "code",
   "execution_count": 9,
   "id": "184418e5-1308-46c3-9a4c-75af48beaffe",
   "metadata": {},
   "outputs": [],
   "source": [
    "from dataclasses import dataclass\n",
    "from sklearn.preprocessing import LabelEncoder\n",
    "from sklearn.metrics import classification_report\n",
    "import torch\n",
    "from torch.utils.data import Dataset, DataLoader\n",
    "from transformers import BertForSequenceClassification, BertTokenizerFast"
   ]
  },
  {
   "cell_type": "code",
   "execution_count": 10,
   "id": "f870a515-70ab-4f90-8883-1dad5373ebf4",
   "metadata": {},
   "outputs": [],
   "source": [
    "class MrDataset(Dataset):\n",
    "    def __init__(self, mrdata):\n",
    "        self.data = [(x.token, x.MorphoSyntax) \n",
    "                     for _, x in mrdata.iterrows()]\n",
    "    \n",
    "    def __len__(self):\n",
    "        return len(self.data)\n",
    "    \n",
    "    def __getitem__(self, idx):\n",
    "        return self.data[idx]\n",
    "    "
   ]
  },
  {
   "cell_type": "code",
   "execution_count": 11,
   "id": "60d639c9-688a-4fb6-9687-93d7059c6bfa",
   "metadata": {},
   "outputs": [],
   "source": [
    "mr_data_train = mr_data.loc[mr_data.token.isin(word_split[\"train\"]),:]\n",
    "mr_data_test = mr_data.loc[mr_data.token.isin(word_split[\"test\"]),:]\n",
    "train_ds = MrDataset(mr_data_train)\n",
    "test_ds = MrDataset(mr_data_test)\n",
    "mr_vocab = LabelEncoder()\n",
    "train_classes = mr_vocab.fit_transform([x[1] for x in train_ds])"
   ]
  },
  {
   "cell_type": "code",
   "execution_count": 12,
   "id": "8b59f9ec-aaa0-47e0-8f28-8b0e296b9880",
   "metadata": {},
   "outputs": [],
   "source": [
    "tokenizer = BertTokenizerFast.from_pretrained(\"bert-base-chinese\")\n",
    "model = BertForSequenceClassification.from_pretrained(f\"../data/models/morphen-alpha-220802-0840/\")"
   ]
  },
  {
   "cell_type": "code",
   "execution_count": 13,
   "id": "8c5e01a6-32f3-4e6c-9303-4f571d423ee2",
   "metadata": {},
   "outputs": [],
   "source": [
    "@dataclass\n",
    "class MrCollator:\n",
    "    tokenizer: \"BertTokenizerFast\"\n",
    "    mr_vocab: \"LabelEncoder\"\n",
    "    def __call__(self, batch):\n",
    "        toks = self.tokenizer([x[0] for x in batch], return_tensors=\"pt\")\n",
    "        mrs = self.mr_vocab.transform([x[1] for x in batch])\n",
    "        toks[\"labels\"] = torch.tensor(mrs, dtype=torch.long)\n",
    "        return toks\n",
    "collator = MrCollator(tokenizer, mr_vocab)"
   ]
  },
  {
   "cell_type": "code",
   "execution_count": 14,
   "id": "80c6c4dd-fc8c-43be-b4b7-f7a4e22b90ae",
   "metadata": {},
   "outputs": [
    {
     "data": {
      "application/vnd.jupyter.widget-view+json": {
       "model_id": "f19ad41a42684d3498c6a1d93e0518dd",
       "version_major": 2,
       "version_minor": 0
      },
      "text/plain": [
       "  0%|          | 0/42 [00:00<?, ?it/s]"
      ]
     },
     "metadata": {},
     "output_type": "display_data"
    },
    {
     "data": {
      "application/vnd.jupyter.widget-view+json": {
       "model_id": "69fb00ca042d4b86a3a39e7196560df6",
       "version_major": 2,
       "version_minor": 0
      },
      "text/plain": [
       "  0%|          | 0/11 [00:00<?, ?it/s]"
      ]
     },
     "metadata": {},
     "output_type": "display_data"
    },
    {
     "name": "stdout",
     "output_type": "stream",
     "text": [
      "              precision    recall  f1-score   support\n",
      "\n",
      "          AV       0.65      0.77      0.71        64\n",
      "          VO       0.82      0.86      0.84        43\n",
      "          VR       0.91      0.89      0.90       178\n",
      "          VV       0.67      0.55      0.60        51\n",
      "\n",
      "    accuracy                           0.81       336\n",
      "   macro avg       0.76      0.77      0.76       336\n",
      "weighted avg       0.81      0.81      0.81       336\n",
      "\n"
     ]
    }
   ],
   "source": [
    "model.eval()    \n",
    "device = \"cpu\"\n",
    "\n",
    "def infer_morphen(ds, print_results=False):\n",
    "    loader = DataLoader(ds, shuffle=False, batch_size=32, collate_fn=collator)\n",
    "    all_preds = []                                        \n",
    "    all_labels = sum((x[\"labels\"].tolist() for x in loader), [])\n",
    "    for batch_x in tqdm(loader):\n",
    "        with torch.no_grad():\n",
    "            batch_x.to(device)\n",
    "            out = model(**batch_x)\n",
    "            preds = out.logits.argmax(-1)\n",
    "            all_preds.extend(preds.cpu().tolist())\n",
    "    results = classification_report(\n",
    "                all_labels, all_preds, \n",
    "                target_names=mr_vocab.classes_, \n",
    "                output_dict=True)\n",
    "    if print_results:\n",
    "        print(classification_report(\n",
    "                all_labels, all_preds, \n",
    "                target_names=mr_vocab.classes_, \n",
    "                output_dict=False))\n",
    "    return results\n",
    "\n",
    "train_results = infer_morphen(train_ds)\n",
    "test_results = infer_morphen(test_ds, print_results=True)\n"
   ]
  },
  {
   "cell_type": "code",
   "execution_count": 15,
   "id": "a11fef70-e673-4323-8ec3-b062a9b3737a",
   "metadata": {},
   "outputs": [],
   "source": [
    "morphen_metrics = dict(     \n",
    "            clf = \"bert\",\n",
    "            feat_type = \"char\",\n",
    "            fold_idx = 1,\n",
    "            n_train = len(train_ds),\n",
    "            n_test = len(test_ds),\n",
    "            train_acc = train_results[\"accuracy\"],\n",
    "            test_acc = test_results[\"accuracy\"],\n",
    "            dummy_acc = test_results[\"VR\"][\"support\"] / test_results[\"macro avg\"][\"support\"]\n",
    "        )"
   ]
  },
  {
   "cell_type": "markdown",
   "id": "29f16c3d-e95d-407e-9577-1d98060d738e",
   "metadata": {},
   "source": [
    "## Metric Table"
   ]
  },
  {
   "cell_type": "code",
   "execution_count": 16,
   "id": "7f16cc70-9b88-4c43-8cec-78ab5c30a600",
   "metadata": {},
   "outputs": [],
   "source": [
    "metric_data = []\n",
    "feat_types = [\"c1\", \"c2\", \"c1+c2\", \n",
    "              \"mu1\", \"mu2\", \"mu1+mu2\"]\n",
    "mr_entries = mr_data.to_dict(orient='records')\n",
    "\n",
    "## linear discriminant analysis\n",
    "for feat_type_x in feat_types:    \n",
    "    kf_metrics = estimate_lda(feat_type_x, mr_entries, kv, kf_seed=12345)\n",
    "    metric_data.extend(kf_metrics)\n",
    "\n",
    "## decision tree\n",
    "tree_metrics = estimate_tree(mr_entries)\n",
    "metric_data.extend(tree_metrics)\n",
    "metric_data.append(morphen_metrics)\n",
    "\n",
    "metrics_df = pd.DataFrame(metric_data)"
   ]
  },
  {
   "cell_type": "code",
   "execution_count": 20,
   "id": "04ad1d58-5a29-4245-afa2-179841333d3e",
   "metadata": {},
   "outputs": [
    {
     "data": {
      "text/html": [
       "<div>\n",
       "<style scoped>\n",
       "    .dataframe tbody tr th:only-of-type {\n",
       "        vertical-align: middle;\n",
       "    }\n",
       "\n",
       "    .dataframe tbody tr th {\n",
       "        vertical-align: top;\n",
       "    }\n",
       "\n",
       "    .dataframe thead th {\n",
       "        text-align: right;\n",
       "    }\n",
       "</style>\n",
       "<table border=\"1\" class=\"dataframe\">\n",
       "  <thead>\n",
       "    <tr style=\"text-align: right;\">\n",
       "      <th></th>\n",
       "      <th></th>\n",
       "      <th>n_train</th>\n",
       "      <th>n_test</th>\n",
       "      <th>train_acc_M</th>\n",
       "      <th>train_acc_se</th>\n",
       "      <th>test_acc_M</th>\n",
       "      <th>test_acc_se</th>\n",
       "      <th>dummy_acc_M</th>\n",
       "      <th>dummy_acc_se</th>\n",
       "    </tr>\n",
       "    <tr>\n",
       "      <th>clf</th>\n",
       "      <th>feat_type</th>\n",
       "      <th></th>\n",
       "      <th></th>\n",
       "      <th></th>\n",
       "      <th></th>\n",
       "      <th></th>\n",
       "      <th></th>\n",
       "      <th></th>\n",
       "      <th></th>\n",
       "    </tr>\n",
       "  </thead>\n",
       "  <tbody>\n",
       "    <tr>\n",
       "      <th>bert</th>\n",
       "      <th>char</th>\n",
       "      <td>1340.0</td>\n",
       "      <td>336.0</td>\n",
       "      <td>0.972388</td>\n",
       "      <td>NaN</td>\n",
       "      <td>0.809524</td>\n",
       "      <td>NaN</td>\n",
       "      <td>0.529762</td>\n",
       "      <td>NaN</td>\n",
       "    </tr>\n",
       "    <tr>\n",
       "      <th rowspan=\"6\" valign=\"top\">lda</th>\n",
       "      <th>c1</th>\n",
       "      <td>1269.6</td>\n",
       "      <td>317.4</td>\n",
       "      <td>0.689036</td>\n",
       "      <td>0.001386</td>\n",
       "      <td>0.562683</td>\n",
       "      <td>0.009153</td>\n",
       "      <td>0.524231</td>\n",
       "      <td>0.010292</td>\n",
       "    </tr>\n",
       "    <tr>\n",
       "      <th>c1+c2</th>\n",
       "      <td>1235.2</td>\n",
       "      <td>308.8</td>\n",
       "      <td>0.941710</td>\n",
       "      <td>0.003407</td>\n",
       "      <td>0.750635</td>\n",
       "      <td>0.011053</td>\n",
       "      <td>0.531102</td>\n",
       "      <td>0.008650</td>\n",
       "    </tr>\n",
       "    <tr>\n",
       "      <th>c2</th>\n",
       "      <td>1304.0</td>\n",
       "      <td>326.0</td>\n",
       "      <td>0.814110</td>\n",
       "      <td>0.003186</td>\n",
       "      <td>0.685890</td>\n",
       "      <td>0.004908</td>\n",
       "      <td>0.531902</td>\n",
       "      <td>0.007102</td>\n",
       "    </tr>\n",
       "    <tr>\n",
       "      <th>mu1</th>\n",
       "      <td>963.2</td>\n",
       "      <td>240.8</td>\n",
       "      <td>0.694351</td>\n",
       "      <td>0.001988</td>\n",
       "      <td>0.568935</td>\n",
       "      <td>0.005950</td>\n",
       "      <td>0.496653</td>\n",
       "      <td>0.014202</td>\n",
       "    </tr>\n",
       "    <tr>\n",
       "      <th>mu1+mu2</th>\n",
       "      <td>788.8</td>\n",
       "      <td>197.2</td>\n",
       "      <td>0.981238</td>\n",
       "      <td>0.001227</td>\n",
       "      <td>0.673476</td>\n",
       "      <td>0.013048</td>\n",
       "      <td>0.535569</td>\n",
       "      <td>0.018090</td>\n",
       "    </tr>\n",
       "    <tr>\n",
       "      <th>mu2</th>\n",
       "      <td>1114.4</td>\n",
       "      <td>278.6</td>\n",
       "      <td>0.839555</td>\n",
       "      <td>0.001351</td>\n",
       "      <td>0.697759</td>\n",
       "      <td>0.013800</td>\n",
       "      <td>0.560664</td>\n",
       "      <td>0.008480</td>\n",
       "    </tr>\n",
       "    <tr>\n",
       "      <th>tree</th>\n",
       "      <th>char</th>\n",
       "      <td>1340.8</td>\n",
       "      <td>335.2</td>\n",
       "      <td>1.000000</td>\n",
       "      <td>0.000000</td>\n",
       "      <td>0.669440</td>\n",
       "      <td>0.008613</td>\n",
       "      <td>0.524446</td>\n",
       "      <td>0.011003</td>\n",
       "    </tr>\n",
       "  </tbody>\n",
       "</table>\n",
       "</div>"
      ],
      "text/plain": [
       "                n_train  n_test  train_acc_M  train_acc_se  test_acc_M  \\\n",
       "clf  feat_type                                                           \n",
       "bert char        1340.0   336.0     0.972388           NaN    0.809524   \n",
       "lda  c1          1269.6   317.4     0.689036      0.001386    0.562683   \n",
       "     c1+c2       1235.2   308.8     0.941710      0.003407    0.750635   \n",
       "     c2          1304.0   326.0     0.814110      0.003186    0.685890   \n",
       "     mu1          963.2   240.8     0.694351      0.001988    0.568935   \n",
       "     mu1+mu2      788.8   197.2     0.981238      0.001227    0.673476   \n",
       "     mu2         1114.4   278.6     0.839555      0.001351    0.697759   \n",
       "tree char        1340.8   335.2     1.000000      0.000000    0.669440   \n",
       "\n",
       "                test_acc_se  dummy_acc_M  dummy_acc_se  \n",
       "clf  feat_type                                          \n",
       "bert char               NaN     0.529762           NaN  \n",
       "lda  c1            0.009153     0.524231      0.010292  \n",
       "     c1+c2         0.011053     0.531102      0.008650  \n",
       "     c2            0.004908     0.531902      0.007102  \n",
       "     mu1           0.005950     0.496653      0.014202  \n",
       "     mu1+mu2       0.013048     0.535569      0.018090  \n",
       "     mu2           0.013800     0.560664      0.008480  \n",
       "tree char          0.008613     0.524446      0.011003  "
      ]
     },
     "execution_count": 20,
     "metadata": {},
     "output_type": "execute_result"
    }
   ],
   "source": [
    "se_func = lambda x: np.std(x, ddof=1)/np.sqrt(len(x))\n",
    "metrics_summary = metrics_df.drop(\"fold_idx\", axis=1).groupby([\"clf\", \"feat_type\"])\\\n",
    "    .agg(n_train=('n_train', 'mean'),\n",
    "         n_test=('n_test', 'mean'),\n",
    "         train_acc_M = ('train_acc', 'mean'),\n",
    "         train_acc_se = ('train_acc', se_func),\n",
    "         test_acc_M = ('test_acc', 'mean'),\n",
    "         test_acc_se = ('test_acc', se_func),\n",
    "         dummy_acc_M = ('dummy_acc', 'mean'),\n",
    "         dummy_acc_se = ('dummy_acc', se_func))         \n",
    "metrics_summary"
   ]
  },
  {
   "cell_type": "code",
   "execution_count": 21,
   "id": "a8b08ac3-6520-4b20-9057-405a556b9a52",
   "metadata": {},
   "outputs": [
    {
     "data": {
      "text/html": [
       "<div>\n",
       "<style scoped>\n",
       "    .dataframe tbody tr th:only-of-type {\n",
       "        vertical-align: middle;\n",
       "    }\n",
       "\n",
       "    .dataframe tbody tr th {\n",
       "        vertical-align: top;\n",
       "    }\n",
       "\n",
       "    .dataframe thead th {\n",
       "        text-align: right;\n",
       "    }\n",
       "</style>\n",
       "<table border=\"1\" class=\"dataframe\">\n",
       "  <thead>\n",
       "    <tr style=\"text-align: right;\">\n",
       "      <th></th>\n",
       "      <th></th>\n",
       "      <th>n_train</th>\n",
       "      <th>n_test</th>\n",
       "      <th>train_acc_M</th>\n",
       "      <th>train_acc_se</th>\n",
       "      <th>test_acc_M</th>\n",
       "      <th>test_acc_se</th>\n",
       "      <th>dummy_acc_M</th>\n",
       "      <th>dummy_acc_se</th>\n",
       "    </tr>\n",
       "    <tr>\n",
       "      <th>clf</th>\n",
       "      <th>feat_type</th>\n",
       "      <th></th>\n",
       "      <th></th>\n",
       "      <th></th>\n",
       "      <th></th>\n",
       "      <th></th>\n",
       "      <th></th>\n",
       "      <th></th>\n",
       "      <th></th>\n",
       "    </tr>\n",
       "  </thead>\n",
       "  <tbody>\n",
       "    <tr>\n",
       "      <th>bert</th>\n",
       "      <th>char</th>\n",
       "      <td>1340.0</td>\n",
       "      <td>336.0</td>\n",
       "      <td>0.972388</td>\n",
       "      <td>NaN</td>\n",
       "      <td>0.809524</td>\n",
       "      <td>NaN</td>\n",
       "      <td>0.529762</td>\n",
       "      <td>NaN</td>\n",
       "    </tr>\n",
       "    <tr>\n",
       "      <th rowspan=\"4\" valign=\"top\">lda</th>\n",
       "      <th>c1+c2</th>\n",
       "      <td>1235.2</td>\n",
       "      <td>308.8</td>\n",
       "      <td>0.941710</td>\n",
       "      <td>0.003407</td>\n",
       "      <td>0.750635</td>\n",
       "      <td>0.011053</td>\n",
       "      <td>0.531102</td>\n",
       "      <td>0.008650</td>\n",
       "    </tr>\n",
       "    <tr>\n",
       "      <th>c2</th>\n",
       "      <td>1304.0</td>\n",
       "      <td>326.0</td>\n",
       "      <td>0.814110</td>\n",
       "      <td>0.003186</td>\n",
       "      <td>0.685890</td>\n",
       "      <td>0.004908</td>\n",
       "      <td>0.531902</td>\n",
       "      <td>0.007102</td>\n",
       "    </tr>\n",
       "    <tr>\n",
       "      <th>mu1+mu2</th>\n",
       "      <td>788.8</td>\n",
       "      <td>197.2</td>\n",
       "      <td>0.981238</td>\n",
       "      <td>0.001227</td>\n",
       "      <td>0.673476</td>\n",
       "      <td>0.013048</td>\n",
       "      <td>0.535569</td>\n",
       "      <td>0.018090</td>\n",
       "    </tr>\n",
       "    <tr>\n",
       "      <th>mu2</th>\n",
       "      <td>1114.4</td>\n",
       "      <td>278.6</td>\n",
       "      <td>0.839555</td>\n",
       "      <td>0.001351</td>\n",
       "      <td>0.697759</td>\n",
       "      <td>0.013800</td>\n",
       "      <td>0.560664</td>\n",
       "      <td>0.008480</td>\n",
       "    </tr>\n",
       "    <tr>\n",
       "      <th>tree</th>\n",
       "      <th>char</th>\n",
       "      <td>1340.8</td>\n",
       "      <td>335.2</td>\n",
       "      <td>1.000000</td>\n",
       "      <td>0.000000</td>\n",
       "      <td>0.669440</td>\n",
       "      <td>0.008613</td>\n",
       "      <td>0.524446</td>\n",
       "      <td>0.011003</td>\n",
       "    </tr>\n",
       "  </tbody>\n",
       "</table>\n",
       "</div>"
      ],
      "text/plain": [
       "                n_train  n_test  train_acc_M  train_acc_se  test_acc_M  \\\n",
       "clf  feat_type                                                           \n",
       "bert char        1340.0   336.0     0.972388           NaN    0.809524   \n",
       "lda  c1+c2       1235.2   308.8     0.941710      0.003407    0.750635   \n",
       "     c2          1304.0   326.0     0.814110      0.003186    0.685890   \n",
       "     mu1+mu2      788.8   197.2     0.981238      0.001227    0.673476   \n",
       "     mu2         1114.4   278.6     0.839555      0.001351    0.697759   \n",
       "tree char        1340.8   335.2     1.000000      0.000000    0.669440   \n",
       "\n",
       "                test_acc_se  dummy_acc_M  dummy_acc_se  \n",
       "clf  feat_type                                          \n",
       "bert char               NaN     0.529762           NaN  \n",
       "lda  c1+c2         0.011053     0.531102      0.008650  \n",
       "     c2            0.004908     0.531902      0.007102  \n",
       "     mu1+mu2       0.013048     0.535569      0.018090  \n",
       "     mu2           0.013800     0.560664      0.008480  \n",
       "tree char          0.008613     0.524446      0.011003  "
      ]
     },
     "execution_count": 21,
     "metadata": {},
     "output_type": "execute_result"
    }
   ],
   "source": [
    "metrics_summary.loc[metrics_summary.test_acc_M > 0.6]"
   ]
  },
  {
   "cell_type": "markdown",
   "id": "7e3cd4ba-7585-4093-bbdb-f20bfe3e2c38",
   "metadata": {},
   "source": [
    "## Only those in kv"
   ]
  },
  {
   "cell_type": "code",
   "execution_count": 18,
   "id": "1ae4d7cf-5a74-45e0-8901-249ad1f847e2",
   "metadata": {},
   "outputs": [
    {
     "data": {
      "application/vnd.jupyter.widget-view+json": {
       "model_id": "ae7e9139712344c9908024bbdd8ef6ed",
       "version_major": 2,
       "version_minor": 0
      },
      "text/plain": [
       "  0%|          | 0/5 [00:00<?, ?it/s]"
      ]
     },
     "metadata": {},
     "output_type": "display_data"
    },
    {
     "name": "stdout",
     "output_type": "stream",
     "text": [
      "              precision    recall  f1-score   support\n",
      "\n",
      "          AV       0.57      0.57      0.57        14\n",
      "          VO       0.94      0.88      0.91        17\n",
      "          VR       0.92      0.96      0.94        81\n",
      "          VV       0.81      0.68      0.74        19\n",
      "\n",
      "    accuracy                           0.87       131\n",
      "   macro avg       0.81      0.78      0.79       131\n",
      "weighted avg       0.87      0.87      0.87       131\n",
      "\n"
     ]
    }
   ],
   "source": [
    "sel_mask = mr_data_test.apply(lambda x: x.token in kv or x.token_simp in kv, axis=1)\n",
    "mr_data_inkv_test = mr_data_test.loc[sel_mask,:]\n",
    "test_inkv_ds = MrDataset(mr_data_inkv_test)\n",
    "_ = infer_morphen(test_inkv_ds, print_results=True) "
   ]
  },
  {
   "cell_type": "code",
   "execution_count": 19,
   "id": "f8f9876d-904d-44f1-9e3f-29d23119cfbd",
   "metadata": {},
   "outputs": [
    {
     "name": "stdout",
     "output_type": "stream",
     "text": [
      "Acc of LDA (c1+c2) trained on full data, but test on words in KV only: 0.79\n",
      "Compared with LDA (c1+c2) with trained on words in KV only: .56 ± .02\n"
     ]
    }
   ],
   "source": [
    "sel_mask_train = mr_data_train.apply(lambda x: x.token in kv or x.token_simp in kv, axis=1)\n",
    "train_entries = mr_data_train.to_dict(orient='records')\n",
    "inkv_test_entries = mr_data_inkv_test.to_dict(orient='records')\n",
    "Xvecs, ylabels = feature_extraction(\"c1+c2\", train_entries, kv)\n",
    "Xtest, ytest = feature_extraction(\"c1+c2\", inkv_test_entries, kv)\n",
    "lda = LinearDiscriminantAnalysis()\n",
    "lda.fit(Xvecs, ylabels)\n",
    "ypred = lda.predict(Xtest)\n",
    "print(\"Acc of LDA (c1+c2) trained on full data, but test on words in KV only: {:.2f}\".format(\n",
    "        accuracy_score(ytest, ypred)))\n",
    "print(\"Compared with LDA (c1+c2) with trained on words in KV only: .56 ± .02\")"
   ]
  },
  {
   "cell_type": "code",
   "execution_count": null,
   "id": "8ad31ff9-73c3-4b78-a6f8-834890513298",
   "metadata": {},
   "outputs": [],
   "source": []
  }
 ],
 "metadata": {
  "kernelspec": {
   "display_name": "Python 3 (ipykernel)",
   "language": "python",
   "name": "python3"
  },
  "language_info": {
   "codemirror_mode": {
    "name": "ipython",
    "version": 3
   },
   "file_extension": ".py",
   "mimetype": "text/x-python",
   "name": "python",
   "nbconvert_exporter": "python",
   "pygments_lexer": "ipython3",
   "version": "3.10.2"
  }
 },
 "nbformat": 4,
 "nbformat_minor": 5
}
