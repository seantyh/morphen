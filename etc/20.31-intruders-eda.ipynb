{
 "cells": [
  {
   "cell_type": "code",
   "execution_count": 1,
   "id": "c6a915f6-d5c0-448d-b172-7e841eb3e2c8",
   "metadata": {},
   "outputs": [],
   "source": [
    "%load_ext autoreload\n",
    "%autoreload 2"
   ]
  },
  {
   "cell_type": "code",
   "execution_count": 2,
   "id": "705593c3-5ac2-483d-b77e-b32207865dff",
   "metadata": {},
   "outputs": [],
   "source": [
    "import sys\n",
    "if \"../src\" not in sys.path:\n",
    "    sys.path.append(\"../src\")"
   ]
  },
  {
   "cell_type": "code",
   "execution_count": 3,
   "id": "84c6f76a-c93d-4782-834c-42cff6001dca",
   "metadata": {},
   "outputs": [],
   "source": [
    "import json\n",
    "from tqdm.auto import tqdm\n",
    "from itertools import islice\n",
    "from collections import Counter\n",
    "from textwrap import fill\n",
    "import matplotlib.pyplot as plt\n",
    "\n",
    "import numpy as np\n",
    "import pandas as pd\n",
    "from gensim.models import KeyedVectors\n",
    "\n",
    "from scipy.spatial.distance import cdist\n",
    "from sklearn.manifold import TSNE\n",
    "from sklearn.decomposition import PCA"
   ]
  },
  {
   "cell_type": "markdown",
   "id": "5ef58f62-2d01-43fd-8d07-8fee04632452",
   "metadata": {},
   "source": [
    "```\n",
    "../data/verb_morpho.csv 15c7c1\n",
    "../data/10.02-word-split.json 7ac81e\n",
    "../data/delta_tenc_d200_biwords.bin 04e3f4\n",
    "```"
   ]
  },
  {
   "cell_type": "code",
   "execution_count": 4,
   "id": "8156a47a-c108-4800-badd-829396bf7647",
   "metadata": {},
   "outputs": [
    {
     "name": "stdout",
     "output_type": "stream",
     "text": [
      "../data/verb_morpho.csv 15c7c1\n",
      "../data/10.02-word-split.json 7ac81e\n",
      "../data/delta_tenc_d200_biwords.bin 04e3f4\n"
     ]
    }
   ],
   "source": [
    "from hashlib import sha1\n",
    "from pathlib import Path\n",
    "paths = [\"../data/verb_morpho.csv\",          \n",
    "         \"../data/10.02-word-split.json\",\n",
    "         \"../data/delta_tenc_d200_biwords.bin\"]\n",
    "for path_x in paths:\n",
    "    h = sha1()\n",
    "    h.update(Path(path_x).read_bytes())\n",
    "    print(path_x, h.hexdigest()[:6])"
   ]
  },
  {
   "cell_type": "markdown",
   "id": "c9a20bfc-ab0b-4f44-96ef-1fce82bc4ae6",
   "metadata": {},
   "source": [
    "## Load resources"
   ]
  },
  {
   "cell_type": "code",
   "execution_count": 5,
   "id": "1718a411-6a77-429e-a103-f610d46d06aa",
   "metadata": {},
   "outputs": [],
   "source": [
    "import matplotlib\n",
    "matplotlib.rcParams['font.family'] = ['Microsoft JhengHei']"
   ]
  },
  {
   "cell_type": "code",
   "execution_count": 6,
   "id": "ceefc53b-5753-4302-b733-38be38d1dae6",
   "metadata": {},
   "outputs": [],
   "source": [
    "from opencc import OpenCC\n",
    "t2s = OpenCC('t2s').convert"
   ]
  },
  {
   "cell_type": "code",
   "execution_count": 7,
   "id": "b6919419-6db6-4f11-bee6-5c46d1d877c6",
   "metadata": {},
   "outputs": [],
   "source": [
    "mr_data = pd.read_csv(\"../data/verb_morpho.csv\", index_col=0)\n",
    "kv = KeyedVectors.load_word2vec_format(\"../data/delta_tenc_d200_biwords.bin\", binary=True)\n",
    "with open(\"../data/10.02-word-split.json\", \"r\", encoding=\"UTF-8\") as fin:\n",
    "    word_split = json.load(fin)"
   ]
  },
  {
   "cell_type": "code",
   "execution_count": 8,
   "id": "3aa43ca6-1da9-462a-9a2e-e326f7cb2372",
   "metadata": {},
   "outputs": [],
   "source": [
    "mr_data_train = mr_data.loc[mr_data.token.isin(word_split[\"train\"]),:]\n",
    "mr_data_test = mr_data.loc[mr_data.token.isin(word_split[\"test\"]),:]"
   ]
  },
  {
   "cell_type": "code",
   "execution_count": 9,
   "id": "72e01f36-fc86-4af3-a457-48e9776be998",
   "metadata": {},
   "outputs": [],
   "source": [
    "## disable TSNE initializing warnings\n",
    "import warnings\n",
    "warnings.filterwarnings('ignore')"
   ]
  },
  {
   "cell_type": "markdown",
   "id": "ecb73351-8b05-48f5-9ec0-b07fd9708fde",
   "metadata": {},
   "source": [
    "## Intruders"
   ]
  },
  {
   "cell_type": "code",
   "execution_count": 10,
   "id": "ce6e52f2-3842-4c2f-87c6-2951f99cf56f",
   "metadata": {},
   "outputs": [],
   "source": [
    "freq_c1 = Counter(x[0] for x in kv.key_to_index\n",
    "                  if len(x) == 2 and \"*\" not in x).most_common()[:20]\n",
    "freq_c2 = Counter(x[1] for x in kv.key_to_index\n",
    "                  if len(x) == 2 and \"*\" not in x).most_common()[:20]"
   ]
  },
  {
   "cell_type": "code",
   "execution_count": 11,
   "id": "8d7a2b8c-5d11-45d4-aec9-4d594986a33a",
   "metadata": {},
   "outputs": [
    {
     "data": {
      "text/plain": [
       "950"
      ]
     },
     "execution_count": 11,
     "metadata": {},
     "output_type": "execute_result"
    }
   ],
   "source": [
    "c1_map = {f\"{k}*\": [] for k, f in freq_c1}\n",
    "c2_map = {f\"*{k}\": [] for k, f in freq_c2}\n",
    "# cx_map = {**c1_map, **c2_map}\n",
    "cx_map = {k: [] for k in [\"*人\", \"*山\"]}\n",
    "word_list = []\n",
    "for tok in kv.key_to_index:\n",
    "    if len(tok) != 2 or \"*\" in tok:\n",
    "        continue\n",
    "    c1, c2 = list(tok)\n",
    "    c1 = c1 + \"*\"\n",
    "    c2 = \"*\" + c2\n",
    "    if c1 in cx_map:\n",
    "        cx_map[c1].append(tok)\n",
    "    if c2 in cx_map:\n",
    "        cx_map[c2].append(tok)\n",
    "    if c1 in cx_map or c2 in cx_map:\n",
    "        word_list.append(tok)\n",
    "len(word_list)"
   ]
  },
  {
   "cell_type": "code",
   "execution_count": 12,
   "id": "41b66f4b-d15b-440f-a6f8-a37e75056462",
   "metadata": {},
   "outputs": [
    {
     "name": "stdout",
     "output_type": "stream",
     "text": [
      "Check pass, we can directly use mu vectors in kv\n"
     ]
    }
   ],
   "source": [
    "for cx, words in cx_map.items():\n",
    "    mu_vec = np.vstack([kv.get_vector(x, norm=False) for x in words]).mean(axis=0)\n",
    "    assert np.allclose(mu_vec, kv.get_vector(cx)), cx\n",
    "    \n",
    "print(\"Check pass, we can directly use mu vectors in kv\")"
   ]
  },
  {
   "cell_type": "code",
   "execution_count": 13,
   "id": "ef6f258b-add4-4c47-80eb-ae7560e34a4c",
   "metadata": {},
   "outputs": [],
   "source": [
    "## Build distance matrix\n",
    "## Dist: mu_vec(centroids) * wordlist\n",
    "De = np.zeros((len(cx_map), len(word_list)))\n",
    "Dc = np.zeros((len(cx_map), len(word_list)))"
   ]
  },
  {
   "cell_type": "code",
   "execution_count": 14,
   "id": "c122a0b8-b8e5-48c7-8239-914754c1fd61",
   "metadata": {},
   "outputs": [
    {
     "data": {
      "application/vnd.jupyter.widget-view+json": {
       "model_id": "ec5f2cda2b5d4f8b973a85c7cba2dac5",
       "version_major": 2,
       "version_minor": 0
      },
      "text/plain": [
       "  0%|          | 0/2 [00:00<?, ?it/s]"
      ]
     },
     "metadata": {},
     "output_type": "display_data"
    }
   ],
   "source": [
    "mu_list = list(cx_map.keys())\n",
    "for i in tqdm(range(len(cx_map))):\n",
    "    Dc[i, :] = kv.cosine_similarities(kv[mu_list[i]], [kv[x] for x in word_list])\n",
    "    De[i, :] = cdist([kv[mu_list[i]]], [kv[x] for x in word_list])[0]"
   ]
  },
  {
   "cell_type": "code",
   "execution_count": 15,
   "id": "327778e1-b971-4cae-a877-ec4c29b1f506",
   "metadata": {},
   "outputs": [
    {
     "data": {
      "application/vnd.jupyter.widget-view+json": {
       "model_id": "e330cc0aa81a4922bc29e9bb1e600302",
       "version_major": 2,
       "version_minor": 0
      },
      "text/plain": [
       "  0%|          | 0/2 [00:00<?, ?it/s]"
      ]
     },
     "metadata": {},
     "output_type": "display_data"
    }
   ],
   "source": [
    "word_lut = {w: i for i, w in enumerate(word_list)}\n",
    "mu_lut = {w: i for i, w in enumerate(mu_list)}\n",
    "mu_zones = {}\n",
    "for mu_i, mu_x in enumerate(tqdm(mu_list)):\n",
    "    friends_idxs = [word_lut[w] for w in cx_map[mu_x]]\n",
    "    friends_set = set(friends_idxs)\n",
    "    foe_idxs = [idx for idx in range(len(word_list))\n",
    "                 if idx not in friends_set]\n",
    "    friends_cosine = Dc[mu_i, friends_idxs]\n",
    "    friend_range = [.05, .95]\n",
    "    friend_zone = np.quantile(friends_cosine, friend_range)\n",
    "    intruders = [(word_list[foe_idx], Dc[mu_i, foe_idx]) \n",
    "                 for foe_idx in foe_idxs\n",
    "                 if friend_zone[0] < Dc[mu_i, foe_idx] < friend_zone[1]]\n",
    "    mu_zones[mu_x] = {\n",
    "        \"n_friends\": len(friends_idxs), \n",
    "        \"n_intruders\": len(intruders),\n",
    "        \"friends\": [(word_list[i], Dc[mu_i, i]) for i in friends_idxs],\n",
    "        \"intruders\": intruders,\n",
    "        \"friend_range\": friend_range,\n",
    "        \"friend_zone\": friend_zone\n",
    "    }\n",
    "    "
   ]
  },
  {
   "cell_type": "markdown",
   "id": "4b0fd3f6-a537-4677-85d3-2d4039932517",
   "metadata": {},
   "source": [
    "## Dc distributions"
   ]
  },
  {
   "cell_type": "code",
   "execution_count": 16,
   "id": "ced9da48-06fc-45f7-9048-79c7b75acc30",
   "metadata": {},
   "outputs": [
    {
     "name": "stdout",
     "output_type": "stream",
     "text": [
      "*人\n"
     ]
    },
    {
     "data": {
      "text/plain": [
       "Text(0.5, 1.0, '*人 cosine similarity distribution')"
      ]
     },
     "execution_count": 16,
     "metadata": {},
     "output_type": "execute_result"
    },
    {
     "data": {
      "image/png": "[encoded data removed]",
      "text/plain": [
       "<Figure size 432x288 with 1 Axes>"
      ]
     },
     "metadata": {
      "needs_background": "light"
     },
     "output_type": "display_data"
    }
   ],
   "source": [
    "print(mu_list[0])\n",
    "plt.hist(Dc[0,:], 30)\n",
    "plt.title(mu_list[0] + \" cosine similarity distribution\")"
   ]
  },
  {
   "cell_type": "code",
   "execution_count": 17,
   "id": "c801f9e5-fd0e-4e07-b368-7e1750f45bd5",
   "metadata": {},
   "outputs": [
    {
     "name": "stdout",
     "output_type": "stream",
     "text": [
      "*山\n"
     ]
    },
    {
     "data": {
      "text/plain": [
       "(array([ 1.,  1.,  3.,  8., 12., 22., 46., 54., 81., 76., 65., 59., 71.,\n",
       "        49., 48., 34., 21., 16., 18., 21., 33., 34., 34., 36., 38., 25.,\n",
       "        17., 16.,  9.,  2.]),\n",
       " array([0.08381879, 0.10978411, 0.13574942, 0.16171474, 0.18768006,\n",
       "        0.21364538, 0.2396107 , 0.26557602, 0.29154134, 0.31750666,\n",
       "        0.34347198, 0.3694373 , 0.39540262, 0.42136794, 0.44733326,\n",
       "        0.47329858, 0.4992639 , 0.52522921, 0.55119453, 0.57715985,\n",
       "        0.60312517, 0.62909049, 0.65505581, 0.68102113, 0.70698645,\n",
       "        0.73295177, 0.75891709, 0.78488241, 0.81084773, 0.83681305,\n",
       "        0.86277837]),\n",
       " <BarContainer object of 30 artists>)"
      ]
     },
     "execution_count": 17,
     "metadata": {},
     "output_type": "execute_result"
    },
    {
     "data": {
      "image/png": "[encoded data removed]",
      "text/plain": [
       "<Figure size 432x288 with 1 Axes>"
      ]
     },
     "metadata": {
      "needs_background": "light"
     },
     "output_type": "display_data"
    }
   ],
   "source": [
    "print(mu_list[1])\n",
    "plt.hist(Dc[1,:], 30)"
   ]
  },
  {
   "cell_type": "code",
   "execution_count": 18,
   "id": "db2d1168-2770-4551-bdf1-f5f969cdaaaf",
   "metadata": {},
   "outputs": [
    {
     "data": {
      "text/plain": [
       "<matplotlib.collections.PathCollection at 0x1976eac2e30>"
      ]
     },
     "execution_count": 18,
     "metadata": {},
     "output_type": "execute_result"
    },
    {
     "data": {
      "image/png": "[encoded data removed]",
      "text/plain": [
       "<Figure size 432x288 with 1 Axes>"
      ]
     },
     "metadata": {
      "needs_background": "light"
     },
     "output_type": "display_data"
    }
   ],
   "source": [
    "tsne_proj = TSNE()\n",
    "vecs = np.vstack([kv.get_vector(x) for x in mu_list] + [kv.get_vector(x) for x in word_list])\n",
    "ylabel = mu_list + [\"*\"+x[1] for x in word_list]\n",
    "yset = list(cx_map)\n",
    "tsne = tsne_proj.fit_transform(vecs)\n",
    "plt.scatter(tsne[:,0], tsne[:,1], c=[yset.index(x) for x in ylabel])\n",
    "plt.scatter(tsne[:2,0], tsne[:2,1], color='#F00')\n",
    "# purple: *人, yellow: *山 "
   ]
  },
  {
   "cell_type": "code",
   "execution_count": 19,
   "id": "ee2630cd-b641-4f6a-9f56-ed006835167e",
   "metadata": {},
   "outputs": [
    {
     "data": {
      "text/plain": [
       "Text(0.5, 1.0, '*人 Euclidean distance distribution (TSNE)')"
      ]
     },
     "execution_count": 19,
     "metadata": {},
     "output_type": "execute_result"
    },
    {
     "data": {
      "image/png": "[encoded data removed]",
      "text/plain": [
       "<Figure size 432x288 with 1 Axes>"
      ]
     },
     "metadata": {
      "needs_background": "light"
     },
     "output_type": "display_data"
    }
   ],
   "source": [
    "d_tsne = cdist([tsne[0,:]], tsne[2:,:])[0]\n",
    "plt.hist(d_tsne, 20)\n",
    "plt.title(mu_list[0] + \" Euclidean distance distribution (TSNE)\")"
   ]
  },
  {
   "cell_type": "code",
   "execution_count": 20,
   "id": "de9c31eb-4058-43dd-b180-afb3ed8e265e",
   "metadata": {},
   "outputs": [
    {
     "data": {
      "text/plain": [
       "Text(0.5, 1.0, '*山 Euclidean distance distribution (TSNE)')"
      ]
     },
     "execution_count": 20,
     "metadata": {},
     "output_type": "execute_result"
    },
    {
     "data": {
      "image/png": "[encoded data removed]",
      "text/plain": [
       "<Figure size 432x288 with 1 Axes>"
      ]
     },
     "metadata": {
      "needs_background": "light"
     },
     "output_type": "display_data"
    }
   ],
   "source": [
    "d_tsne = cdist([tsne[1,:]], tsne[2:,:])[0]\n",
    "plt.hist(d_tsne, 20)\n",
    "plt.title(mu_list[1] + \" Euclidean distance distribution (TSNE)\")"
   ]
  },
  {
   "cell_type": "code",
   "execution_count": null,
   "id": "d1adb1fc-fba0-46ae-a1d0-55ff94f8cde6",
   "metadata": {},
   "outputs": [],
   "source": []
  }
 ],
 "metadata": {
  "kernelspec": {
   "display_name": "Python 3 (ipykernel)",
   "language": "python",
   "name": "python3"
  },
  "language_info": {
   "codemirror_mode": {
    "name": "ipython",
    "version": 3
   },
   "file_extension": ".py",
   "mimetype": "text/x-python",
   "name": "python",
   "nbconvert_exporter": "python",
   "pygments_lexer": "ipython3",
   "version": "3.10.2"
  }
 },
 "nbformat": 4,
 "nbformat_minor": 5
}
